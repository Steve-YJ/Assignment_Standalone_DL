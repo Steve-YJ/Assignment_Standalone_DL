{
  "nbformat": 4,
  "nbformat_minor": 0,
  "metadata": {
    "colab": {
      "name": "[Practice] Lec03. Argparse.ipynb",
      "provenance": [],
      "authorship_tag": "ABX9TyNro5wLKHRZfB4ax8ud7g31",
      "include_colab_link": true
    },
    "kernelspec": {
      "name": "python3",
      "display_name": "Python 3"
    }
  },
  "cells": [
    {
      "cell_type": "markdown",
      "metadata": {
        "id": "view-in-github",
        "colab_type": "text"
      },
      "source": [
        "<a href=\"https://colab.research.google.com/github/Steve-YJ/Exp-Standalone-DeepLearning/blob/master/%5BPractice%5D_Lec03_Argparse.ipynb\" target=\"_parent\"><img src=\"https://colab.research.google.com/assets/colab-badge.svg\" alt=\"Open In Colab\"/></a>"
      ]
    },
    {
      "cell_type": "code",
      "metadata": {
        "id": "Mopy2k8rtR1J",
        "colab_type": "code",
        "colab": {}
      },
      "source": [
        "import argparse"
      ],
      "execution_count": null,
      "outputs": []
    },
    {
      "cell_type": "code",
      "metadata": {
        "id": "81PP2VjqteD4",
        "colab_type": "code",
        "colab": {}
      },
      "source": [
        "parser = argparse.ArgumentParser()\n",
        "args = parser.parse_args(\"\")"
      ],
      "execution_count": null,
      "outputs": []
    },
    {
      "cell_type": "code",
      "metadata": {
        "id": "_4JPfrzptm2H",
        "colab_type": "code",
        "colab": {
          "base_uri": "https://localhost:8080/",
          "height": 35
        },
        "outputId": "3b9ef8ad-ded6-4bb4-b2c2-587726b1e25b"
      },
      "source": [
        "args.num_layer = 5\n",
        "print(args.num_layer)"
      ],
      "execution_count": null,
      "outputs": [
        {
          "output_type": "stream",
          "text": [
            "5\n"
          ],
          "name": "stdout"
        }
      ]
    },
    {
      "cell_type": "code",
      "metadata": {
        "id": "RpOX-q3ZtsqA",
        "colab_type": "code",
        "colab": {
          "base_uri": "https://localhost:8080/",
          "height": 35
        },
        "outputId": "ee5232b8-48c1-4c1e-b8d0-356bac5803f8"
      },
      "source": [
        "print(args) # dictionay 같은 친구 아니야?"
      ],
      "execution_count": null,
      "outputs": [
        {
          "output_type": "stream",
          "text": [
            "Namespace(num_layer=5)\n"
          ],
          "name": "stdout"
        }
      ]
    },
    {
      "cell_type": "code",
      "metadata": {
        "id": "3wFnM6fxtt9K",
        "colab_type": "code",
        "colab": {
          "base_uri": "https://localhost:8080/",
          "height": 35
        },
        "outputId": "3252147c-4d93-416d-adb5-9ddf912e9253"
      },
      "source": [
        "args.in_dim = 100\n",
        "print(args)"
      ],
      "execution_count": null,
      "outputs": [
        {
          "output_type": "stream",
          "text": [
            "Namespace(in_dim=100, num_layer=5)\n"
          ],
          "name": "stdout"
        }
      ]
    },
    {
      "cell_type": "code",
      "metadata": {
        "id": "LFtzucQPt5PG",
        "colab_type": "code",
        "colab": {
          "base_uri": "https://localhost:8080/",
          "height": 35
        },
        "outputId": "b1156683-74eb-4bb8-c54d-752ea05dd059"
      },
      "source": [
        "linears = []\n",
        "for i in range(args.num_layer):\n",
        "    linears.append(i)\n",
        "\n",
        "print(linears)"
      ],
      "execution_count": null,
      "outputs": [
        {
          "output_type": "stream",
          "text": [
            "[0, 1, 2, 3, 4]\n"
          ],
          "name": "stdout"
        }
      ]
    },
    {
      "cell_type": "markdown",
      "metadata": {
        "id": "kyZ3i9KSuHAH",
        "colab_type": "text"
      },
      "source": [
        "* <code>argparse</code>를 사용해서 hyperparameter를 관리하자...!"
      ]
    },
    {
      "cell_type": "markdown",
      "metadata": {
        "id": "yRhsPwLAu5CX",
        "colab_type": "text"
      },
      "source": [
        "Quick Review"
      ]
    },
    {
      "cell_type": "code",
      "metadata": {
        "id": "v7eaj1Q9vZ8_",
        "colab_type": "code",
        "colab": {
          "base_uri": "https://localhost:8080/",
          "height": 35
        },
        "outputId": "0cdbb66b-ca12-4c4d-9076-389ad7bf6f2b"
      },
      "source": [
        "# Repeat one more time\n",
        "parser = argparse.ArgumentParser()\n",
        "args = parser.parse_args(\"\")\n",
        "\n",
        "# use 'args' like dictionary\n",
        "args.num_layer = 5\n",
        "args.in_dim = 100\n",
        "args.out_dim = 10\n",
        "\n",
        "print(args)"
      ],
      "execution_count": null,
      "outputs": [
        {
          "output_type": "stream",
          "text": [
            "Namespace(in_dim=100, num_layer=5, out_dim=10)\n"
          ],
          "name": "stdout"
        }
      ]
    },
    {
      "cell_type": "code",
      "metadata": {
        "id": "1FX6NxSr_ySy",
        "colab_type": "code",
        "colab": {
          "base_uri": "https://localhost:8080/",
          "height": 35
        },
        "outputId": "06491a58-9bba-4d56-8a25-458af532a1e3"
      },
      "source": [
        "import argparse\n",
        "\n",
        "parser = argparse.ArgumentParser()\n",
        "args = parser.parse_args(\"\")\n",
        "\n",
        "args.num_layer = 100\n",
        "args.in_dim = 100\n",
        "\n",
        "print(args)"
      ],
      "execution_count": null,
      "outputs": [
        {
          "output_type": "stream",
          "text": [
            "Namespace(in_dim=100, num_layer=100)\n"
          ],
          "name": "stdout"
        }
      ]
    },
    {
      "cell_type": "code",
      "metadata": {
        "id": "srYExtw1__9T",
        "colab_type": "code",
        "colab": {}
      },
      "source": [
        "import argparse\n",
        "\n",
        "parser = argparse.ArgumentParser()\n",
        "args = parser.parse_args(\"\")\n",
        "\n",
        "args.num_layer = 5\n",
        "args.in_dim = 100\n",
        "args.out_dim = 100\n",
        "\n",
        "]"
      ],
      "execution_count": null,
      "outputs": []
    },
    {
      "cell_type": "markdown",
      "metadata": {
        "id": "JxVq5BkbhHpA",
        "colab_type": "text"
      },
      "source": [
        "### Review\n",
        "* 20.09.22.Tue"
      ]
    },
    {
      "cell_type": "code",
      "metadata": {
        "id": "30UgTSwBg-6_",
        "colab_type": "code",
        "colab": {}
      },
      "source": [
        "import argparse"
      ],
      "execution_count": 1,
      "outputs": []
    },
    {
      "cell_type": "code",
      "metadata": {
        "id": "MDSz9aHRhAJ0",
        "colab_type": "code",
        "colab": {}
      },
      "source": [
        "parser = argparse.ArgumentParser()\n",
        "args = parser.parse_args(\"\")"
      ],
      "execution_count": 2,
      "outputs": []
    },
    {
      "cell_type": "code",
      "metadata": {
        "id": "Upx5EjUghG0y",
        "colab_type": "code",
        "colab": {
          "base_uri": "https://localhost:8080/",
          "height": 53
        },
        "outputId": "95a0bc5b-287a-4ce0-90de-d250d7affe69"
      },
      "source": [
        "args.num_layer = 5\n",
        "print(args.num_layer)\n",
        "print(args)"
      ],
      "execution_count": 3,
      "outputs": [
        {
          "output_type": "stream",
          "text": [
            "5\n",
            "Namespace(num_layer=5)\n"
          ],
          "name": "stdout"
        }
      ]
    },
    {
      "cell_type": "markdown",
      "metadata": {
        "id": "m8excDX6hO9A",
        "colab_type": "text"
      },
      "source": [
        "약간 딕셔너리 같은 놈이구나...!"
      ]
    },
    {
      "cell_type": "code",
      "metadata": {
        "id": "RDBueG_lhOIS",
        "colab_type": "code",
        "colab": {
          "base_uri": "https://localhost:8080/",
          "height": 35
        },
        "outputId": "a342d5db-af5c-4123-d602-415e28a12e46"
      },
      "source": [
        "args.in_dim = 100\n",
        "print(args)"
      ],
      "execution_count": 4,
      "outputs": [
        {
          "output_type": "stream",
          "text": [
            "Namespace(in_dim=100, num_layer=5)\n"
          ],
          "name": "stdout"
        }
      ]
    },
    {
      "cell_type": "code",
      "metadata": {
        "id": "9hJP3kWRhUNl",
        "colab_type": "code",
        "colab": {
          "base_uri": "https://localhost:8080/",
          "height": 35
        },
        "outputId": "e47b7613-7bf4-4bd2-fc68-587416028855"
      },
      "source": [
        "linears = []\n",
        "\n",
        "for i in range(args.num_layer):\n",
        "    linears.append(i)\n",
        "\n",
        "print(linears)"
      ],
      "execution_count": 5,
      "outputs": [
        {
          "output_type": "stream",
          "text": [
            "[0, 1, 2, 3, 4]\n"
          ],
          "name": "stdout"
        }
      ]
    },
    {
      "cell_type": "markdown",
      "metadata": {
        "id": "MZWRXRVwhj5W",
        "colab_type": "text"
      },
      "source": [
        "<code>argparse</code>를 사용해서 hyperparameter를 관리하자"
      ]
    },
    {
      "cell_type": "code",
      "metadata": {
        "id": "szgdT1gEheEB",
        "colab_type": "code",
        "colab": {
          "base_uri": "https://localhost:8080/",
          "height": 35
        },
        "outputId": "6261250c-5b0e-4b46-95e4-5e45bf26434d"
      },
      "source": [
        "# argparse를 딕셔너리로 바꿀수 있다\n",
        "d = vars(args)\n",
        "print(d, type(d))"
      ],
      "execution_count": 6,
      "outputs": [
        {
          "output_type": "stream",
          "text": [
            "{'num_layer': 5, 'in_dim': 100} <class 'dict'>\n"
          ],
          "name": "stdout"
        }
      ]
    },
    {
      "cell_type": "code",
      "metadata": {
        "id": "Fs3g23XAhsVn",
        "colab_type": "code",
        "colab": {
          "base_uri": "https://localhost:8080/",
          "height": 35
        },
        "outputId": "0186dd84-c1b0-4c01-c5f6-4bb073dbc52a"
      },
      "source": [
        "d['num_layer'] "
      ],
      "execution_count": 7,
      "outputs": [
        {
          "output_type": "execute_result",
          "data": {
            "text/plain": [
              "5"
            ]
          },
          "metadata": {
            "tags": []
          },
          "execution_count": 7
        }
      ]
    }
  ]
}