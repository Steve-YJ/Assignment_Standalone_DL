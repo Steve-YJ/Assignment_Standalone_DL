{
  "nbformat": 4,
  "nbformat_minor": 0,
  "metadata": {
    "colab": {
      "name": "[백문이불여일타] SQL 기초.ipynb",
      "provenance": [],
      "authorship_tag": "ABX9TyNcq7stFBR/CHLUuKn3u2ie",
      "include_colab_link": true
    },
    "kernelspec": {
      "name": "python3",
      "display_name": "Python 3"
    }
  },
  "cells": [
    {
      "cell_type": "markdown",
      "metadata": {
        "id": "view-in-github",
        "colab_type": "text"
      },
      "source": [
        "<a href=\"https://colab.research.google.com/github/Steve-YJ/Assignment_Standalone_DL/blob/master/%5B%EB%B0%B1%EB%AC%B8%EC%9D%B4%EB%B6%88%EC%97%AC%EC%9D%BC%ED%83%80%5D_SQL_%EA%B8%B0%EC%B4%88.ipynb\" target=\"_parent\"><img src=\"https://colab.research.google.com/assets/colab-badge.svg\" alt=\"Open In Colab\"/></a>"
      ]
    },
    {
      "cell_type": "markdown",
      "metadata": {
        "id": "w9i-uFbn_2D2"
      },
      "source": [
        "# 데이터 분석을 위한 SQL 기초\n",
        "* 인프런 백문이불여일타 SQL 기초\n",
        "* Data Analytics로 일하기 위한 최소한의 역량 갖추기"
      ]
    },
    {
      "cell_type": "markdown",
      "metadata": {
        "id": "Truhq51z_pcp"
      },
      "source": [
        "# 1. Data Table\n",
        "> 흔히 말하는 표 형식이 바로 Data Table이다\n",
        "\n",
        "\n",
        "* 행(row)과 열(column)로 이뤄진 표 형식을 Data Table이라고 한다\n",
        "    * e.g. Google Spread Sheet, Excel을 떠올리면 된다!\n"
      ]
    },
    {
      "cell_type": "markdown",
      "metadata": {
        "id": "T0uWTK5SA1gJ"
      },
      "source": [
        "# 2. 데이터 호출하기\n",
        "> SELECT\n",
        "\n",
        "* 실습은 W3school을 통해 진행\n",
        "* Customers Data Table로부터 전체 데이터 호출하기"
      ]
    },
    {
      "cell_type": "markdown",
      "metadata": {
        "id": "gWysUKsJAcru"
      },
      "source": [
        "* URL: https://www.w3schools.com/sql/trysql.asp?filename=trysql_select_all\n",
        "* 백문이불여일타! 직접 하나씩 수행해보도록 하자!"
      ]
    },
    {
      "cell_type": "markdown",
      "metadata": {
        "id": "hLa4yM2qBmtk"
      },
      "source": [
        "## 3. LIKE, IN, BETWEEN, IS NULL"
      ]
    },
    {
      "cell_type": "markdown",
      "metadata": {
        "id": "H6tm0uwoDPYV"
      },
      "source": [
        "* 정말로 초기본을 다시한번 공부했다\n",
        "* 학부때 들었던 SQL이후로 실습은 처음인것 같다...\n"
      ]
    },
    {
      "cell_type": "markdown",
      "metadata": {
        "id": "9QNRNiMqHP1P"
      },
      "source": [
        "# NEXT\n",
        "* SQL 이어서 공부하기\n",
        "* Kaggle Micro Course SQL Tutorial 및 문제풀기!\n",
        "* from 20.12.30.wed"
      ]
    },
    {
      "cell_type": "code",
      "metadata": {
        "id": "gP-nQFMPHZvT"
      },
      "source": [
        ""
      ],
      "execution_count": null,
      "outputs": []
    }
  ]
}