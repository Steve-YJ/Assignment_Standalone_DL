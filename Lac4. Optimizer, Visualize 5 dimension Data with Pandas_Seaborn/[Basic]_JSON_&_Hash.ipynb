{
  "nbformat": 4,
  "nbformat_minor": 0,
  "metadata": {
    "colab": {
      "name": "[Basic] JSON & Hash.ipynb",
      "provenance": [],
      "collapsed_sections": []
    },
    "kernelspec": {
      "name": "python3",
      "display_name": "Python 3"
    }
  },
  "cells": [
    {
      "cell_type": "markdown",
      "metadata": {
        "id": "pTYyQmbi6ZFm",
        "colab_type": "text"
      },
      "source": [
        "# JSON 실습\n",
        "* 🔖 [읽어보면 좋아요] [JSON으로 작업하기](https://developer.mozilla.org/ko/docs/Learn/JavaScript/Objects/JSON)\n",
        "\n",
        "* JSON이란?\n",
        "    * JavaScript Object Notation(JSON)은 Javascript 객체 문법으로 구조화된 데이터를 표현하기 위한 문자 기반 표준 포멧이다\n",
        "    * 웹 어플리케이션에서 데이터를 전송할 때 일반적으로 사용한다\n",
        "    * JSON 파싱, 데이터에 접근하고 JSON 생성 등 Javascript로 JSON을 다루는 법에 대해 알아보자"
      ]
    },
    {
      "cell_type": "code",
      "metadata": {
        "id": "4Y1oo7za6Pra",
        "colab_type": "code",
        "colab": {
          "base_uri": "https://localhost:8080/",
          "height": 35
        },
        "outputId": "77570186-9dbf-46d5-e99c-9927a3b7ed0b"
      },
      "source": [
        "import json\n",
        "\n",
        "\n",
        "a = {'value1':5, 'value2':10, 'seq': [1, 2, 3, 4, 5]}\n",
        "\n",
        "# 파일로 저장하는 방법\n",
        "filename = 'test.json'\n",
        "with open(filename, 'w') as f:\n",
        "    json.dump(a, f)\n",
        "\n",
        "with open(filename, 'r') as f:  # with open() 안전하게 파일을 읽고 저장할 수 있다\n",
        "    result = json.load(f)\n",
        "    print(result)"
      ],
      "execution_count": 10,
      "outputs": [
        {
          "output_type": "stream",
          "text": [
            "{'value1': 5, 'value2': 10, 'seq': [1, 2, 3, 4, 5]}\n"
          ],
          "name": "stdout"
        }
      ]
    },
    {
      "cell_type": "code",
      "metadata": {
        "id": "OybN1a1N7pW1",
        "colab_type": "code",
        "colab": {
          "base_uri": "https://localhost:8080/",
          "height": 35
        },
        "outputId": "e9b457a1-f5af-4244-f5a9-e57cef306647"
      },
      "source": [
        "! ls"
      ],
      "execution_count": 7,
      "outputs": [
        {
          "output_type": "stream",
          "text": [
            "sample_data  test.json\n"
          ],
          "name": "stdout"
        }
      ]
    },
    {
      "cell_type": "markdown",
      "metadata": {
        "id": "LAibLfws7rHC",
        "colab_type": "text"
      },
      "source": [
        "<code>test.json</codde>파일이 생성된 것을 확인할 수 있다"
      ]
    },
    {
      "cell_type": "code",
      "metadata": {
        "id": "3mpnSd987u8D",
        "colab_type": "code",
        "colab": {
          "base_uri": "https://localhost:8080/",
          "height": 35
        },
        "outputId": "0e88e43d-d5fc-49f3-a71a-2c9f9c671fd6"
      },
      "source": [
        "!cat test.json"
      ],
      "execution_count": 8,
      "outputs": [
        {
          "output_type": "stream",
          "text": [
            "{\"value1\": 5, \"value2\": 10, \"seq\": [1, 2, 3, 4, 5]}"
          ],
          "name": "stdout"
        }
      ]
    },
    {
      "cell_type": "markdown",
      "metadata": {
        "id": "T30nFcF3753Z",
        "colab_type": "text"
      },
      "source": [
        "list도 저장이 되는 것을 확인할 수 있다."
      ]
    },
    {
      "cell_type": "markdown",
      "metadata": {
        "id": "D7iqK23N8P-B",
        "colab_type": "text"
      },
      "source": [
        "* 정리\n",
        "    * JSON은 Dictionary를 hard disk에 저장해서 불러올 수 있는 방법이다"
      ]
    },
    {
      "cell_type": "markdown",
      "metadata": {
        "id": "V0dWGH1l9SN0",
        "colab_type": "text"
      },
      "source": [
        "# Hash"
      ]
    },
    {
      "cell_type": "markdown",
      "metadata": {
        "id": "3zxvOkcO-MsY",
        "colab_type": "text"
      },
      "source": [
        "## Example"
      ]
    },
    {
      "cell_type": "code",
      "metadata": {
        "id": "wDwcrOM_7yVe",
        "colab_type": "code",
        "colab": {
          "base_uri": "https://localhost:8080/",
          "height": 53
        },
        "outputId": "7672ff27-3285-474c-e021-f147c919dfae"
      },
      "source": [
        "import hashlib\n",
        "a = \"my name is youngjeon\"\n",
        "hash_key = hashlib.sha1(a.encode()).hexdigest()  # hashlib라이브러리의 sha1함수로 인코딩\n",
        "                                                 # .hexdigest(): 우리가 볼 수 있도록 변환\n",
        "print(hash_key)\n",
        "print(hashlib.sha1(a.encode()).hexdigest()[:6])  # 6자리로 만들어준다"
      ],
      "execution_count": 16,
      "outputs": [
        {
          "output_type": "stream",
          "text": [
            "b78bd2c0173d50d814f77250f20ad678dbd5acc8\n",
            "b78bd2\n"
          ],
          "name": "stdout"
        }
      ]
    },
    {
      "cell_type": "markdown",
      "metadata": {
        "id": "EdBS3qEq-OZz",
        "colab_type": "text"
      },
      "source": [
        "## 실험결과 Hash로 변환"
      ]
    },
    {
      "cell_type": "code",
      "metadata": {
        "id": "lqUapfYL-bat",
        "colab_type": "code",
        "colab": {
          "base_uri": "https://localhost:8080/",
          "height": 35
        },
        "outputId": "2da79520-8200-414c-8459-809cd1f38b0e"
      },
      "source": [
        "import hashlib\n",
        "\n",
        "setting = {'value1':5, 'value2':10, 'seq': [1, 2, 3, 4, 5], 'exp_name': 'exp1'}\n",
        "exp_name = setting['exp_name']\n",
        "hash_key = hashlib.sha1(str(setting).encode()).hexdigest()[:6]\n",
        "filename = '{}-{}.json'.format(exp_name, hash_key)\n",
        "\n",
        "print(filename)"
      ],
      "execution_count": 28,
      "outputs": [
        {
          "output_type": "stream",
          "text": [
            "exp1-4766aa.json\n"
          ],
          "name": "stdout"
        }
      ]
    },
    {
      "cell_type": "markdown",
      "metadata": {
        "id": "MBOwdubl-bNn",
        "colab_type": "text"
      },
      "source": [
        ""
      ]
    },
    {
      "cell_type": "code",
      "metadata": {
        "id": "2YidG0ji7UPT",
        "colab_type": "code",
        "colab": {}
      },
      "source": [
        "import hashlib\n",
        "import json\n",
        "from os import listdir\n",
        "from os.path import isfile, join\n",
        "import pandas as pd\n",
        "\n",
        "def save_exp_result(setting, result):\n",
        "    exp_name = setting['exp_name']\n",
        "    del setting['epoch']\n",
        "    del setting['test_batch_size']\n",
        "\n",
        "    hash_key = hashlib.sha1(str(setting).encode()).hexdigest()[:6]\n",
        "    filename = './results/{}-{}.json'.format(exp_name, hash_key)\n",
        "    result.update(setting)\n",
        "    with open(filename, 'w') as f:\n",
        "        json.dump(result, f)\n",
        "\n",
        "    \n",
        "def load_exp_result(exp_name):\n",
        "    dir_path = './results'\n",
        "    filenames = [f for f in listdir(dir_path) if isfile(join(dir_path, f)) if '.json' in f]\n",
        "    list_result = []\n",
        "    for filename in filenames:\n",
        "        if exp_name in filename:\n",
        "            with open(join(dir_path, filename), 'r') as infile:\n",
        "                results = json.load(infile)\n",
        "                list_result.append(results)\n",
        "    df = pd.DataFrame(list_result) # .drop(columns=[])\n",
        "    return df"
      ],
      "execution_count": null,
      "outputs": []
    }
  ]
}