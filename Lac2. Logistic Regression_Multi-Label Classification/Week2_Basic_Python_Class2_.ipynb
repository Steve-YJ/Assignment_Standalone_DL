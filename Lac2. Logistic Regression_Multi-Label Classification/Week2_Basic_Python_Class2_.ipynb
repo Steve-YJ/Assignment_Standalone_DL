{
  "nbformat": 4,
  "nbformat_minor": 0,
  "metadata": {
    "colab": {
      "name": "Week2.Basic-Python_Class2_.ipynb",
      "provenance": [],
      "collapsed_sections": [],
      "authorship_tag": "ABX9TyOsSZ3U+u19gZERsaaSWtUZ",
      "include_colab_link": true
    },
    "kernelspec": {
      "name": "python3",
      "display_name": "Python 3"
    }
  },
  "cells": [
    {
      "cell_type": "markdown",
      "metadata": {
        "id": "view-in-github",
        "colab_type": "text"
      },
      "source": [
        "<a href=\"https://colab.research.google.com/github/Steve-YJ/Exp-Standalone-DeepLearning/blob/master/Week2_Basic_Python_Class2_.ipynb\" target=\"_parent\"><img src=\"https://colab.research.google.com/assets/colab-badge.svg\" alt=\"Open In Colab\"/></a>"
      ]
    },
    {
      "cell_type": "markdown",
      "metadata": {
        "id": "Ko_gjgZ7BPOn",
        "colab_type": "text"
      },
      "source": [
        "## Reference: \n",
        "* <a href='https://velog.io/@devmin/python-class-%EA%B8%B0%EC%B4%88-%EC%A0%95%EB%A6%AC'>devmin.log - Python Class</a>"
      ]
    },
    {
      "cell_type": "markdown",
      "metadata": {
        "id": "Kt7eP9nEBeyK",
        "colab_type": "text"
      },
      "source": [
        "## Python Class란\n",
        "* 함수와 변수를 모아놓은 것\n",
        "    * 변수는 '멤버 변수' 함수는 '메소드'라 부름\n",
        "    * 클래스 하면 역시 붕어빵 틀이 불변의 진리이다\n",
        "        * 붕어빵틀을 만들면 우리는 우리가 원하는 붕어빵을 입맛에 맛게 만들 수 있다"
      ]
    },
    {
      "cell_type": "code",
      "metadata": {
        "id": "Glio61rl_sHs",
        "colab_type": "code",
        "colab": {
          "base_uri": "https://localhost:8080/",
          "height": 53
        },
        "outputId": "ca496f8a-0617-4583-838a-46a0d35a05e6"
      },
      "source": [
        "# class 생성\n",
        "# class의 생성 방법은 일반 함수 생성 방법과 동일하다\n",
        "\n",
        "class Car:\n",
        "    name = \"YJ_Dream_Car\"\n",
        "\n",
        "    def say_hello(self):\n",
        "        print(\"Hello,\" + self.name)\n",
        "\n",
        "# mycar라는 인스턴스 생성\n",
        "# 여기서 인스턴스란 객체와 비슷한 의미로 사용된다\n",
        "\n",
        "mycar = Car()\n",
        "yourcar = Car()\n",
        "mycar.say_hello()\n",
        "yourcar.say_hello()"
      ],
      "execution_count": 6,
      "outputs": [
        {
          "output_type": "stream",
          "text": [
            "Hello,YJ_Dream_Car\n",
            "Hello,YJ_Dream_Car\n"
          ],
          "name": "stdout"
        }
      ]
    },
    {
      "cell_type": "markdown",
      "metadata": {
        "id": "P8nqewhGCx9-",
        "colab_type": "text"
      },
      "source": [
        "위와 같이 클래스를 생성할 경우, 모든 인스턴스의 <code>say_hello</code>메소드 결과가 동일하게 출력된다.<br>\n",
        "이는 클래스를 생성할 때 초기값을 지정할 수 있는 생성자 함수를 삽입함으로써 해결할 수 있다<br>\n",
        "\n",
        "(예제를 통해 확인하면 보다 이해하기 쉽다)\n",
        "\n",
        "* 생성자(Constructor)\n",
        "    * 인스턴스를 만들때 자동으로 호출된다\n",
        "    * 인스턴스를 초기화하여 필요한 값을 처음부터 설정할 수 있다"
      ]
    },
    {
      "cell_type": "code",
      "metadata": {
        "id": "d3XUnkJ0CNkc",
        "colab_type": "code",
        "colab": {
          "base_uri": "https://localhost:8080/",
          "height": 53
        },
        "outputId": "6b00595c-7997-4145-d085-1805e6e4d5ec"
      },
      "source": [
        "# 예제를 통해 확인해보자\n",
        "\n",
        "# class생성\n",
        "# 이번에는 초기화도 함께 해준다\n",
        "\n",
        "class Car:\n",
        "    def __init__(self, name):\n",
        "        self.name = name\n",
        "\n",
        "    def say_hello(self):\n",
        "        print(\"Hello, \" + self.name)\n",
        "\n",
        "mycar = Car(\"My Car\")\n",
        "yourcar = Car(\"Your Car\")\n",
        "\n",
        "mycar.say_hello()\n",
        "yourcar.say_hello()"
      ],
      "execution_count": 8,
      "outputs": [
        {
          "output_type": "stream",
          "text": [
            "Hello, My Car\n",
            "Hello, Your Car\n"
          ],
          "name": "stdout"
        }
      ]
    },
    {
      "cell_type": "markdown",
      "metadata": {
        "id": "0HnYiabDD1Ad",
        "colab_type": "text"
      },
      "source": [
        "### Self와 Instance\n",
        "\n",
        "* 클래스 내에서 메소드를 생성할 때 인자(arguments)의 첫번 쨰 들어가야하는 값이 바로<code>self</code>이다\n",
        "* <code>self</code>는 인스턴스 자기 자신을 가리키는 것으로, 인스턴스에 저장되어 있는 멤버 변수에 접근 가능하게 한다\n",
        "* 메소드를 실행할 때 인스턴스 자신의 값(self)는 자동으로 python에 넘어가기 때문에 self를 넣어주지 않아도 된다"
      ]
    },
    {
      "cell_type": "markdown",
      "metadata": {
        "id": "riiwhtB8EmDU",
        "colab_type": "text"
      },
      "source": [
        "### 상속\n",
        "* 상속이란 이미 만들어진 클래스를 통째로 이어 받아 새로운 클래스를 만드는 기능이다\n",
        "* 클래스의 가장 큰 장점 중 하나는 재사용이 가능하다는 점인데, 상속은 이를 더 강화하는 역할을 한다"
      ]
    },
    {
      "cell_type": "code",
      "metadata": {
        "id": "S-x4A3TkDs1G",
        "colab_type": "code",
        "colab": {
          "base_uri": "https://localhost:8080/",
          "height": 35
        },
        "outputId": "61fb5a7c-746f-4e87-b979-88d9af06c4b9"
      },
      "source": [
        "class CustomCar(Car):  # 상속\n",
        "    def __init__(self, name, feature):\n",
        "        self.feature = feature\n",
        "\n",
        "    def great(self):\n",
        "        print(\"This Car is greated at\", self.feature)\n",
        "\n",
        "mycar = CustomCar(\"YJ's Car\", \"Nice Design\")\n",
        "mycar.great()"
      ],
      "execution_count": 9,
      "outputs": [
        {
          "output_type": "stream",
          "text": [
            "This Car is greated at Nice Design\n"
          ],
          "name": "stdout"
        }
      ]
    }
  ]
}