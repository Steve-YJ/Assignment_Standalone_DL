{
  "nbformat": 4,
  "nbformat_minor": 0,
  "metadata": {
    "colab": {
      "name": "Assignment1.Training-MNIST.ipynb",
      "provenance": [],
      "collapsed_sections": [],
      "authorship_tag": "ABX9TyMKIPFEXyCeSilcsZOa77ky",
      "include_colab_link": true
    },
    "kernelspec": {
      "name": "python3",
      "display_name": "Python 3"
    },
    "accelerator": "GPU"
  },
  "cells": [
    {
      "cell_type": "markdown",
      "metadata": {
        "id": "view-in-github",
        "colab_type": "text"
      },
      "source": [
        "<a href=\"https://colab.research.google.com/github/Steve-YJ/Exp-Standalone-DeepLearning/blob/master/Assignment1_Training_MNIST.ipynb\" target=\"_parent\"><img src=\"https://colab.research.google.com/assets/colab-badge.svg\" alt=\"Open In Colab\"/></a>"
      ]
    },
    {
      "cell_type": "markdown",
      "metadata": {
        "id": "R42q-XH4Xvh7",
        "colab_type": "text"
      },
      "source": [
        "#Assignment1. MNIST Digit Recogntion\n",
        "이 과제에서는 손으로 쓴 숫자들의 이미지를 input으로 받아서 0~9 중 어느 숫자에 해당하는지를 분류하는 10-way Classification Problem을 풀어 볼 겁니다. 지금까지 실습은 가상의 인공 데이터셋이었다면 이번에는 real-world 데이터셋이니 좀 더 설레지 않나요?\n",
        "\n",
        "pytorch 내에 이미 구현되어 있는 MNIST Dataset을 사용하여 데이터가 공급됩니다.\n",
        "대신 여러분들은 Model을 짜고 올바르게 Loss Function을 활용하는 코드를 작성하는데 집중해주시길 바랍니다.\n",
        "\n",
        "1. 현재 Linear Model만 구현이 되어 있습니다. MLP Model을 <code>2.Model Architecture</code> 부분에 구현해주세요.\n",
        "2. MLP Model을 생성할 때 hidden unit 수와 hidden layer 수를 인풋으로 넣어주면 해당 값으로 MLP가 자동으로 생성되게 하는 코드를 구현해보세요.\n",
        "3. 다양한 hidden_unit과 hidden_layer 그리고 learning rate를 바꿔가면서 정확도의 변화를 알려주세요(이 때 모델이 고정되었다면 learning rate부터 바꿔가면서 튜닝해보세요. 차트나 표를 자유롭게 활용하여 결과를 보여주세요.\n",
        "4. 실험했던 결과 중 Test Set에 대한 Accuracy가 가장 높았던 실험 조건과 그때의 Accuracy를 알려주세요!\n",
        "5. 양식은 따로 없으며 이 주피터 노트북의 뒷부분에 추가로 1~4의 내용을 덧붙여서 정리하면 되겠습니다!\n",
        "과제 시 도저히 해결할 수 없는 애러나 질문 사항은 제 깃허브의 Issue란에 새 이슈를 남겨주세요"
      ]
    },
    {
      "cell_type": "markdown",
      "metadata": {
        "id": "9SFgy7eEYTam",
        "colab_type": "text"
      },
      "source": [
        "## 1. Data Preparation\n",
        "Data Set\n",
        "$$X_{train} \\in \\mathcal{R}^{50000 \\times 784}, Y_{train} \\in \\mathcal{Z}^{50000}$$\n",
        "$$X_{val} \\in \\mathcal{R}^{10000 \\times 784}, Y_{val} \\in \\mathcal{Z}^{10000}$$\n",
        "$$X_{test} \\in \\mathcal{R}^{10000 \\times 784}, Y_{test} \\in \\mathcal{Z}^{10000}$$"
      ]
    },
    {
      "cell_type": "markdown",
      "metadata": {
        "id": "B5prX9SQYVsJ",
        "colab_type": "text"
      },
      "source": [
        "* Data Set\n",
        "    * trainset: \n",
        "        * train_x: (50000, 784), train_y: (50000,)\n",
        "        * val_x: (10000, 784), val_y: (10000,)\n",
        "        * test_x: (10000, 784), test_y: (10000,) "
      ]
    },
    {
      "cell_type": "code",
      "metadata": {
        "id": "sB_aXXn3YTCb",
        "colab_type": "code",
        "colab": {
          "base_uri": "https://localhost:8080/",
          "height": 35
        },
        "outputId": "ca2cf34c-40c1-447d-fd8f-5c732f3319b5"
      },
      "source": [
        "# pytorch 내에 이미 구현되어 있는 MNIST Dataset을 불러와 학습을 진행합니다\n",
        "\n",
        "import torch\n",
        "from torchvision import datasets, transforms\n",
        "import torch.nn as nn\n",
        "\n",
        "batch_size = 128\n",
        "train_dataset = datasets.MNIST('./data', train=True, download=True,\n",
        "                               transform=transforms.Compose([\n",
        "                                   transforms.ToTensor(),\n",
        "                                   transforms.Normalize((0.1307,), (0.3081,))\n",
        "                               ]))\n",
        "test_dataset = datasets.MNIST('/data', train=False, download=True,\n",
        "                              transform=transforms.Compose([\n",
        "                                  transforms.ToTensor(),\n",
        "                                  transforms.Normalize((0.1307,), (0.3081,))\n",
        "                              ]))\n",
        "\n",
        "train_dataset, val_dataset = torch.utils.data.random_split(train_dataset, [50000, 10000])\n",
        "print(len(train_dataset), len(val_dataset), len(test_dataset))\n",
        "\n",
        "train_loader = torch.utils.data.DataLoader(train_dataset, batch_size=128, shuffle=True)\n",
        "val_loader = torch.utils.data.DataLoader(val_dataset, batch_size=128, shuffle=False)\n",
        "test_loader = torch.utils.data.DataLoader(test_dataset, batch_size=128, shuffle=False)"
      ],
      "execution_count": 2,
      "outputs": [
        {
          "output_type": "stream",
          "text": [
            "50000 10000 10000\n"
          ],
          "name": "stdout"
        }
      ]
    },
    {
      "cell_type": "markdown",
      "metadata": {
        "id": "BSWONtWfadGV",
        "colab_type": "text"
      },
      "source": [
        "* Standalone-Deep Learning을 통해 정말 많이 배우고 있다...\n",
        "* 그동안 이런 저런 지식들을 많이 주어 담았었는데... 정리되지 않았던 지식들이 정리되는 느낌이랄까...!"
      ]
    },
    {
      "cell_type": "markdown",
      "metadata": {
        "id": "fGZCt_OEaqea",
        "colab_type": "text"
      },
      "source": [
        "## Inspecting Dataset"
      ]
    },
    {
      "cell_type": "code",
      "metadata": {
        "id": "nokNgwnUXc-4",
        "colab_type": "code",
        "colab": {
          "base_uri": "https://localhost:8080/",
          "height": 1000
        },
        "outputId": "0d164aeb-67bf-42c0-b34e-f068a73aa336"
      },
      "source": [
        "examples = enumerate(train_loader)\n",
        "print(examples)\n",
        "print(next(examples))\n",
        "batch_idx, (example_data, example_targets) = next(examples)\n",
        "\n",
        "import matplotlib.pyplot as plt\n",
        "\n",
        "fig = plt.figure(figsize=(15, 9))\n",
        "for i in range(6):\n",
        "    plt.subplot(2, 3, i+1)\n",
        "    plt.tight_layout()\n",
        "    plt.imshow(example_data[i][0], cmap='gray', interpolation='none')\n",
        "    plt.title(\"Ground Truth: {}\".format(example_targets[i]))\n",
        "plt.show()"
      ],
      "execution_count": 8,
      "outputs": [
        {
          "output_type": "stream",
          "text": [
            "<enumerate object at 0x7fc10fc93828>\n",
            "(0, [tensor([[[[-0.4242, -0.4242, -0.4242,  ..., -0.4242, -0.4242, -0.4242],\n",
            "          [-0.4242, -0.4242, -0.4242,  ..., -0.4242, -0.4242, -0.4242],\n",
            "          [-0.4242, -0.4242, -0.4242,  ..., -0.4242, -0.4242, -0.4242],\n",
            "          ...,\n",
            "          [-0.4242, -0.4242, -0.4242,  ..., -0.4242, -0.4242, -0.4242],\n",
            "          [-0.4242, -0.4242, -0.4242,  ..., -0.4242, -0.4242, -0.4242],\n",
            "          [-0.4242, -0.4242, -0.4242,  ..., -0.4242, -0.4242, -0.4242]]],\n",
            "\n",
            "\n",
            "        [[[-0.4242, -0.4242, -0.4242,  ..., -0.4242, -0.4242, -0.4242],\n",
            "          [-0.4242, -0.4242, -0.4242,  ..., -0.4242, -0.4242, -0.4242],\n",
            "          [-0.4242, -0.4242, -0.4242,  ..., -0.4242, -0.4242, -0.4242],\n",
            "          ...,\n",
            "          [-0.4242, -0.4242, -0.4242,  ..., -0.4242, -0.4242, -0.4242],\n",
            "          [-0.4242, -0.4242, -0.4242,  ..., -0.4242, -0.4242, -0.4242],\n",
            "          [-0.4242, -0.4242, -0.4242,  ..., -0.4242, -0.4242, -0.4242]]],\n",
            "\n",
            "\n",
            "        [[[-0.4242, -0.4242, -0.4242,  ..., -0.4242, -0.4242, -0.4242],\n",
            "          [-0.4242, -0.4242, -0.4242,  ..., -0.4242, -0.4242, -0.4242],\n",
            "          [-0.4242, -0.4242, -0.4242,  ..., -0.4242, -0.4242, -0.4242],\n",
            "          ...,\n",
            "          [-0.4242, -0.4242, -0.4242,  ..., -0.4242, -0.4242, -0.4242],\n",
            "          [-0.4242, -0.4242, -0.4242,  ..., -0.4242, -0.4242, -0.4242],\n",
            "          [-0.4242, -0.4242, -0.4242,  ..., -0.4242, -0.4242, -0.4242]]],\n",
            "\n",
            "\n",
            "        ...,\n",
            "\n",
            "\n",
            "        [[[-0.4242, -0.4242, -0.4242,  ..., -0.4242, -0.4242, -0.4242],\n",
            "          [-0.4242, -0.4242, -0.4242,  ..., -0.4242, -0.4242, -0.4242],\n",
            "          [-0.4242, -0.4242, -0.4242,  ..., -0.4242, -0.4242, -0.4242],\n",
            "          ...,\n",
            "          [-0.4242, -0.4242, -0.4242,  ..., -0.4242, -0.4242, -0.4242],\n",
            "          [-0.4242, -0.4242, -0.4242,  ..., -0.4242, -0.4242, -0.4242],\n",
            "          [-0.4242, -0.4242, -0.4242,  ..., -0.4242, -0.4242, -0.4242]]],\n",
            "\n",
            "\n",
            "        [[[-0.4242, -0.4242, -0.4242,  ..., -0.4242, -0.4242, -0.4242],\n",
            "          [-0.4242, -0.4242, -0.4242,  ..., -0.4242, -0.4242, -0.4242],\n",
            "          [-0.4242, -0.4242, -0.4242,  ..., -0.4242, -0.4242, -0.4242],\n",
            "          ...,\n",
            "          [-0.4242, -0.4242, -0.4242,  ..., -0.4242, -0.4242, -0.4242],\n",
            "          [-0.4242, -0.4242, -0.4242,  ..., -0.4242, -0.4242, -0.4242],\n",
            "          [-0.4242, -0.4242, -0.4242,  ..., -0.4242, -0.4242, -0.4242]]],\n",
            "\n",
            "\n",
            "        [[[-0.4242, -0.4242, -0.4242,  ..., -0.4242, -0.4242, -0.4242],\n",
            "          [-0.4242, -0.4242, -0.4242,  ..., -0.4242, -0.4242, -0.4242],\n",
            "          [-0.4242, -0.4242, -0.4242,  ..., -0.4242, -0.4242, -0.4242],\n",
            "          ...,\n",
            "          [-0.4242, -0.4242, -0.4242,  ..., -0.4242, -0.4242, -0.4242],\n",
            "          [-0.4242, -0.4242, -0.4242,  ..., -0.4242, -0.4242, -0.4242],\n",
            "          [-0.4242, -0.4242, -0.4242,  ..., -0.4242, -0.4242, -0.4242]]]]), tensor([6, 2, 8, 4, 9, 1, 3, 5, 6, 6, 7, 5, 6, 0, 9, 6, 6, 2, 1, 2, 1, 9, 3, 9,\n",
            "        3, 8, 1, 0, 9, 3, 7, 0, 2, 7, 1, 3, 5, 5, 8, 0, 9, 3, 7, 5, 7, 7, 0, 9,\n",
            "        8, 5, 8, 6, 7, 8, 0, 6, 0, 0, 7, 1, 0, 8, 3, 9, 7, 9, 1, 4, 8, 5, 1, 4,\n",
            "        5, 7, 0, 4, 1, 1, 1, 8, 0, 7, 9, 7, 4, 8, 7, 2, 1, 8, 3, 5, 3, 7, 2, 5,\n",
            "        0, 2, 1, 3, 5, 3, 3, 3, 3, 3, 2, 6, 1, 4, 6, 4, 0, 2, 5, 9, 1, 7, 1, 7,\n",
            "        0, 9, 0, 4, 2, 7, 8, 0])])\n"
          ],
          "name": "stdout"
        },
        {
          "output_type": "display_data",
          "data": {
            "image/png": "[encoded data removed]",
            "text/plain": [
              "<Figure size 1080x648 with 6 Axes>"
            ]
          },
          "metadata": {
            "tags": [],
            "needs_background": "light"
          }
        }
      ]
    },
    {
      "cell_type": "markdown",
      "metadata": {
        "id": "nOPvuq88cDzS",
        "colab_type": "text"
      },
      "source": [
        "## 2. Model Architecture"
      ]
    },
    {
      "cell_type": "code",
      "metadata": {
        "id": "wMPOpCNDcFx1",
        "colab_type": "code",
        "colab": {}
      },
      "source": [
        "class LinearModel(nn.Module):\n",
        "    def __init__(self):\n",
        "        super(LinearModel, self).__init__()\n",
        "        self.linear = nn.Linear(in_features=784, out_features=10, bias=True)\n",
        "\n",
        "    def forward(self, x):\n",
        "        x = self.linear(x)\n",
        "        return x\n",
        "\n",
        "class MLPModel(nn.Module):\n",
        "    def __init__(self):\n",
        "        super(MLPModel, self).__init__()\n",
        "        self.linear1 = nn.Linear(in_features=28*28, out_features=500, bias=True)\n",
        "        self.linear2 = nn.Linear(in_features=500, out_features=10)\n",
        "        self.relu = nn.ReLU()\n",
        "\n",
        "\n",
        "    def forward(self, x):\n",
        "        x = self.linear1(x)\n",
        "        x = self.relu(x)\n",
        "        x = self.linear2(x)\n",
        "        return x"
      ],
      "execution_count": 10,
      "outputs": []
    },
    {
      "cell_type": "markdown",
      "metadata": {
        "id": "xuewGDsTdlNz",
        "colab_type": "text"
      },
      "source": [
        "## 3. Cost Function Define (Loss Function Define)\n"
      ]
    },
    {
      "cell_type": "code",
      "metadata": {
        "id": "gVt4sp4wantK",
        "colab_type": "code",
        "colab": {}
      },
      "source": [
        "cls_loss = nn.CrossEntropyLoss()"
      ],
      "execution_count": 11,
      "outputs": []
    },
    {
      "cell_type": "markdown",
      "metadata": {
        "id": "6bea-ntZdspZ",
        "colab_type": "text"
      },
      "source": [
        "## 4. Train & Evaluation"
      ]
    },
    {
      "cell_type": "code",
      "metadata": {
        "id": "9qZnsp-8anvS",
        "colab_type": "code",
        "colab": {
          "base_uri": "https://localhost:8080/",
          "height": 553
        },
        "outputId": "7579b537-02a3-4150-9536-1e22ec94447e"
      },
      "source": [
        "import torch.optim as optim\n",
        "from sklearn.metrics import accuracy_score\n",
        "\n",
        "# ======= Construct Model ======= #\n",
        "model = LinearModel()\n",
        "print('Number of {} parameters'.format(sum(p.numel() for p in model.parameters() if p.requires_grad)))\n",
        "\n",
        "# ======= Construct Optimizer ======= #\n",
        "lr = 0.005\n",
        "optimizer = optim.SGD(model.parameters(), lr=lr)\n",
        "\n",
        "list_epoch = []\n",
        "list_train_loss = []\n",
        "list_val_loss = []\n",
        "list_acc = []\n",
        "list_acc_epoch = []\n",
        "\n",
        "epoch = 30\n",
        "for i in range(epoch):\n",
        "\n",
        "    # ======= Train ======= #\n",
        "    train_loss = 0\n",
        "    model.train()  # model.train()\n",
        "    optimizer.zero_grad()  # optimizer.zero_grad()\n",
        "\n",
        "    for input_X, true_y in train_loader:\n",
        "        input_X = input_X.squeeze()  # (1, 28, 28) to (28, 28)\n",
        "        input_X = input_X.view(-1, 784)\n",
        "        pred_y = model(input_X)\n",
        "        # print(pred_y.shape, true_y.shape)\n",
        "        loss = cls_loss(pred_y.squeeze(), true_y)\n",
        "        loss.backward()  # calc_gradient\n",
        "        optimizer.step()\n",
        "        train_loss += loss.detach().numpy()\n",
        "    train_loss = train_loss / len(train_loader)\n",
        "    list_train_loss.append(train_loss)\n",
        "    list_epoch.append(i)\n",
        "\n",
        "\n",
        "    # ======= Validation ======= #\n",
        "    val_loss = 0\n",
        "    model.eval()\n",
        "    optimizer.zero_grad()\n",
        "    \n",
        "    for input_X, true_y in val_loader:\n",
        "        input_X = input_X.squeeze()\n",
        "        input_X = input_X.view(-1, 784)\n",
        "        pred_y = model(input_X)\n",
        "        # print('==================')\n",
        "        # print('=== Debuggiing ===')\n",
        "        # print(pred_y.shape, true_y.shape)\n",
        "        loss = cls_loss(pred_y.squeeze(), true_y)\n",
        "        val_loss += loss.detach().numpy()\n",
        "    val_loss = val_loss / len(val_loader)\n",
        "    list_val_loss.append(val_loss)\n",
        "\n",
        "    # ======= Evaluation ======= #\n",
        "    correct = 0\n",
        "    model.eval()\n",
        "    optimizer.zero_grad()\n",
        "\n",
        "    for input_X, true_y in test_loader:\n",
        "        input_X = input_X.squeeze()\n",
        "        input_X = input_X.view(-1, 784)\n",
        "        pred_y = model(input_X).max(1, keepdim=True)[1].squeeze()\n",
        "        correct += pred_y.eq(true_y).sum()\n",
        "\n",
        "\n",
        "    # acc = accuracy_score(true_y, pred_y)\n",
        "    acc = correct.numpy() / len(test_loader.dataset)\n",
        "    list_acc.append(acc)\n",
        "    list_acc_epoch.append(i)\n",
        "\n",
        "    print('Epoch: {}, Train Loss: {}, Val Loss: {}, Test Acc: {} %'.format(i, train_loss, val_loss, acc*100))\n"
      ],
      "execution_count": 23,
      "outputs": [
        {
          "output_type": "stream",
          "text": [
            "Number of 7850 parameters\n",
            "Epoch: 0, Train Loss: 1.536180711920609, Val Loss: 2.179634180061425, Test Acc: 89.79 %\n",
            "Epoch: 1, Train Loss: 1.8397969089048294, Val Loss: 1.8059876508350614, Test Acc: 87.16000000000001 %\n",
            "Epoch: 2, Train Loss: 1.4577386984434884, Val Loss: 1.7220026639443409, Test Acc: 87.53 %\n",
            "Epoch: 3, Train Loss: 1.4415469644472116, Val Loss: 2.251374486126477, Test Acc: 83.78 %\n",
            "Epoch: 4, Train Loss: 1.6033921335511805, Val Loss: 1.954859485731849, Test Acc: 87.78 %\n",
            "Epoch: 5, Train Loss: 1.414419294242054, Val Loss: 1.849409073968477, Test Acc: 84.85000000000001 %\n",
            "Epoch: 6, Train Loss: 1.4808215399456146, Val Loss: 2.4690519209149517, Test Acc: 86.59 %\n",
            "Epoch: 7, Train Loss: 1.830072680931262, Val Loss: 2.8855406906031353, Test Acc: 83.32000000000001 %\n",
            "Epoch: 8, Train Loss: 1.8888044041745804, Val Loss: 2.730254339266427, Test Acc: 86.0 %\n",
            "Epoch: 9, Train Loss: 1.857664954479393, Val Loss: 2.3015540740157983, Test Acc: 86.33999999999999 %\n",
            "Epoch: 10, Train Loss: 1.6932054668131387, Val Loss: 2.5979207716410673, Test Acc: 86.74 %\n",
            "Epoch: 11, Train Loss: 1.6792435008851463, Val Loss: 2.4650081705443467, Test Acc: 86.14 %\n",
            "Epoch: 12, Train Loss: 1.7383589656151774, Val Loss: 2.687963051132009, Test Acc: 86.99 %\n",
            "Epoch: 13, Train Loss: 1.9129845538864965, Val Loss: 2.8449924289237094, Test Acc: 86.35000000000001 %\n",
            "Epoch: 14, Train Loss: 1.8770817741942223, Val Loss: 2.5664768158635005, Test Acc: 87.02 %\n",
            "Epoch: 15, Train Loss: 1.7965592453851724, Val Loss: 2.498726281561429, Test Acc: 86.71 %\n",
            "Epoch: 16, Train Loss: 1.8509428012553992, Val Loss: 2.8777498067179814, Test Acc: 85.66 %\n",
            "Epoch: 17, Train Loss: 1.8598489416834643, Val Loss: 2.728307419939886, Test Acc: 86.19 %\n",
            "Epoch: 18, Train Loss: 1.901842473946569, Val Loss: 2.9749620458747765, Test Acc: 85.52 %\n",
            "Epoch: 19, Train Loss: 2.04962236161732, Val Loss: 2.8396029608159123, Test Acc: 86.52 %\n",
            "Epoch: 20, Train Loss: 1.9068705782561046, Val Loss: 2.6357145105736164, Test Acc: 86.09 %\n",
            "Epoch: 21, Train Loss: 1.993260131200866, Val Loss: 3.0142426928387414, Test Acc: 87.13 %\n",
            "Epoch: 22, Train Loss: 2.0879911063119883, Val Loss: 3.1611766875544682, Test Acc: 85.75 %\n",
            "Epoch: 23, Train Loss: 2.094059451385532, Val Loss: 3.4377367300323294, Test Acc: 85.32 %\n",
            "Epoch: 24, Train Loss: 2.223843806235077, Val Loss: 3.0444749635231645, Test Acc: 86.14 %\n",
            "Epoch: 25, Train Loss: 1.9422047301326566, Val Loss: 2.542635243150252, Test Acc: 87.53999999999999 %\n",
            "Epoch: 26, Train Loss: 1.9159487648998075, Val Loss: 2.995176561271088, Test Acc: 85.47 %\n",
            "Epoch: 27, Train Loss: 1.9422301448824462, Val Loss: 2.850512890876094, Test Acc: 86.46000000000001 %\n",
            "Epoch: 28, Train Loss: 1.7777228962125071, Val Loss: 2.6787143749526785, Test Acc: 86.39 %\n",
            "Epoch: 29, Train Loss: 1.8823689774936423, Val Loss: 2.8516497883615615, Test Acc: 86.24000000000001 %\n"
          ],
          "name": "stdout"
        }
      ]
    },
    {
      "cell_type": "markdown",
      "metadata": {
        "id": "LILjZQCBi6lG",
        "colab_type": "text"
      },
      "source": [
        "## 5. Report Experiment\n"
      ]
    },
    {
      "cell_type": "code",
      "metadata": {
        "id": "UkzkeE1OanxA",
        "colab_type": "code",
        "colab": {
          "base_uri": "https://localhost:8080/",
          "height": 350
        },
        "outputId": "353402b2-fbff-4783-e52d-d22c58021518"
      },
      "source": [
        "fig = plt.figure(figsize=(15, 5))\n",
        "\n",
        "# ======= Loss Fluctuation ======= #\n",
        "ax1 = fig.add_subplot(1, 2, 1)\n",
        "ax1.plot(list_epoch, list_train_loss, label='train_loss')\n",
        "ax1.plot(list_epoch, list_val_loss, '--', label='val_loss')\n",
        "ax1.set_xlabel('epoch')\n",
        "ax1.set_ylabel('loss')\n",
        "ax1.grid()\n",
        "ax1.legend()\n",
        "ax1.set_title('epoch vs loss')\n",
        "\n",
        "# ======= Metric Fluctuation ======= # \n",
        "ax2 = fig.add_subplot(1, 2, 2)\n",
        "ax2.plot(list_acc_epoch, list_acc, marker='x', label='Accuracy metric')\n",
        "ax2.set_xlabel('epoch')\n",
        "ax2.set_ylabel('Acc')\n",
        "ax2.grid()\n",
        "ax2.legend()\n",
        "ax2.set_title('epoch vs Accuracy')\n",
        "\n",
        "plt.show()\n"
      ],
      "execution_count": 25,
      "outputs": [
        {
          "output_type": "display_data",
          "data": {
            "image/png": "[encoded data removed]",
            "text/plain": [
              "<Figure size 1080x360 with 2 Axes>"
            ]
          },
          "metadata": {
            "tags": [],
            "needs_background": "light"
          }
        }
      ]
    },
    {
      "cell_type": "markdown",
      "metadata": {
        "id": "JV08amLNkaPv",
        "colab_type": "text"
      },
      "source": [
        "## Exp02. change Optimizer to Adam\n",
        "* MLPModel()\n",
        "* Optimizer=Adam"
      ]
    },
    {
      "cell_type": "code",
      "metadata": {
        "id": "EMS607ezkdzJ",
        "colab_type": "code",
        "colab": {
          "base_uri": "https://localhost:8080/",
          "height": 553
        },
        "outputId": "8f09625e-a736-481c-d659-a77f18cb1913"
      },
      "source": [
        "import torch.optim as optim\n",
        "from sklearn.metrics import accuracy_score\n",
        "\n",
        "# ======= Construct Model ======= #\n",
        "model = MLPModel()\n",
        "print('Number of {} parameters'.format(sum(p.numel() for p in model.parameters() if p.requires_grad)))\n",
        "\n",
        "# ======= Construct Optimizer ======= #\n",
        "lr = 0.005\n",
        "optimizer = optim.Adam(model.parameters(), lr=lr)\n",
        "\n",
        "list_epoch = []\n",
        "list_train_loss = []\n",
        "list_val_loss = []\n",
        "list_acc = []\n",
        "list_acc_epoch = []\n",
        "\n",
        "epoch = 30\n",
        "for i in range(epoch):\n",
        "\n",
        "    # ======= Train ======= #\n",
        "    train_loss = 0\n",
        "    model.train()  # model.train()\n",
        "    optimizer.zero_grad()  # optimizer.zero_grad()\n",
        "\n",
        "    for input_X, true_y in train_loader:\n",
        "        input_X = input_X.squeeze()  # (1, 28, 28) to (28, 28)\n",
        "        input_X = input_X.view(-1, 784)\n",
        "        pred_y = model(input_X)\n",
        "        # print(pred_y.shape, true_y.shape)\n",
        "        loss = cls_loss(pred_y.squeeze(), true_y)\n",
        "        loss.backward()  # calc_gradient\n",
        "        optimizer.step()\n",
        "        train_loss += loss.detach().numpy()\n",
        "    train_loss = train_loss / len(train_loader)\n",
        "    list_train_loss.append(train_loss)\n",
        "    list_epoch.append(i)\n",
        "\n",
        "\n",
        "    # ======= Validation ======= #\n",
        "    val_loss = 0\n",
        "    model.eval()\n",
        "    optimizer.zero_grad()\n",
        "    \n",
        "    for input_X, true_y in val_loader:\n",
        "        input_X = input_X.squeeze()\n",
        "        input_X = input_X.view(-1, 784)\n",
        "        pred_y = model(input_X)\n",
        "        # print('==================')\n",
        "        # print('=== Debuggiing ===')\n",
        "        # print(pred_y.shape, true_y.shape)\n",
        "        loss = cls_loss(pred_y.squeeze(), true_y)\n",
        "        val_loss += loss.detach().numpy()\n",
        "    val_loss = val_loss / len(val_loader)\n",
        "    list_val_loss.append(val_loss)\n",
        "\n",
        "    # ======= Evaluation ======= #\n",
        "    correct = 0\n",
        "    model.eval()\n",
        "    optimizer.zero_grad()\n",
        "\n",
        "    for input_X, true_y in test_loader:\n",
        "        input_X = input_X.squeeze()\n",
        "        input_X = input_X.view(-1, 784)\n",
        "        pred_y = model(input_X).max(1, keepdim=True)[1].squeeze()\n",
        "        correct += pred_y.eq(true_y).sum()\n",
        "\n",
        "\n",
        "    acc = accuracy_score(true_y, pred_y)\n",
        "    # acc = correct.numpy() / len(test_loader.dataset)\n",
        "    list_acc.append(acc)\n",
        "    list_acc_epoch.append(i)\n",
        "\n",
        "    print('Epoch: {}, Train Loss: {}, Val Loss: {}, Test Acc: {} %'.format(i, train_loss, val_loss, acc*100))\n"
      ],
      "execution_count": 26,
      "outputs": [
        {
          "output_type": "stream",
          "text": [
            "Number of 397510 parameters\n",
            "Epoch: 0, Train Loss: 2.881874831131352, Val Loss: 2.374798921090138, Test Acc: 18.75 %\n",
            "Epoch: 1, Train Loss: 2.3953805905778696, Val Loss: 2.525377982779394, Test Acc: 12.5 %\n",
            "Epoch: 2, Train Loss: 2.3098453841246, Val Loss: 2.2093998359728464, Test Acc: 6.25 %\n",
            "Epoch: 3, Train Loss: 2.218107659798449, Val Loss: 2.3498722239385677, Test Acc: 12.5 %\n",
            "Epoch: 4, Train Loss: 2.2945180835626315, Val Loss: 2.2815019028096257, Test Acc: 12.5 %\n",
            "Epoch: 5, Train Loss: 2.233950218886061, Val Loss: 2.2414049740079083, Test Acc: 18.75 %\n",
            "Epoch: 6, Train Loss: 2.2099170757986397, Val Loss: 2.2157728581488887, Test Acc: 18.75 %\n",
            "Epoch: 7, Train Loss: 2.174181765607556, Val Loss: 2.193868794018709, Test Acc: 18.75 %\n",
            "Epoch: 8, Train Loss: 2.1882616391267313, Val Loss: 2.4082660825946665, Test Acc: 12.5 %\n",
            "Epoch: 9, Train Loss: 2.325031984797524, Val Loss: 2.3894200536269175, Test Acc: 6.25 %\n",
            "Epoch: 10, Train Loss: 2.3517553452640545, Val Loss: 2.3275184963322895, Test Acc: 12.5 %\n",
            "Epoch: 11, Train Loss: 2.2738637747362143, Val Loss: 2.4034476883803744, Test Acc: 18.75 %\n",
            "Epoch: 12, Train Loss: 2.3367648917390866, Val Loss: 2.341083448144454, Test Acc: 12.5 %\n",
            "Epoch: 13, Train Loss: 2.328147107073108, Val Loss: 2.33356368994411, Test Acc: 6.25 %\n",
            "Epoch: 14, Train Loss: 2.3266593348949463, Val Loss: 2.358957978743541, Test Acc: 6.25 %\n",
            "Epoch: 15, Train Loss: 2.3396847022463905, Val Loss: 2.3560978732531583, Test Acc: 12.5 %\n",
            "Epoch: 16, Train Loss: 2.3469542225303552, Val Loss: 2.3908422234692153, Test Acc: 12.5 %\n",
            "Epoch: 17, Train Loss: 2.368955102418085, Val Loss: 2.3676447113857995, Test Acc: 6.25 %\n",
            "Epoch: 18, Train Loss: 2.349166927435209, Val Loss: 2.34797875187065, Test Acc: 6.25 %\n",
            "Epoch: 19, Train Loss: 2.3342735584434644, Val Loss: 2.3293698709222337, Test Acc: 12.5 %\n",
            "Epoch: 20, Train Loss: 2.3197674178101524, Val Loss: 2.32078152668627, Test Acc: 12.5 %\n",
            "Epoch: 21, Train Loss: 2.3177677396008427, Val Loss: 2.3308878578717196, Test Acc: 6.25 %\n",
            "Epoch: 22, Train Loss: 2.3221178408473957, Val Loss: 2.335916748529748, Test Acc: 6.25 %\n",
            "Epoch: 23, Train Loss: 2.340391879191484, Val Loss: 2.382413028161737, Test Acc: 6.25 %\n",
            "Epoch: 24, Train Loss: 2.36555302051632, Val Loss: 2.453352460378333, Test Acc: 6.25 %\n",
            "Epoch: 25, Train Loss: 2.41052400730455, Val Loss: 2.3451620053641404, Test Acc: 6.25 %\n",
            "Epoch: 26, Train Loss: 2.361477064049762, Val Loss: 2.3391893513595003, Test Acc: 6.25 %\n",
            "Epoch: 27, Train Loss: 2.327247696459446, Val Loss: 2.3505961774270747, Test Acc: 6.25 %\n",
            "Epoch: 28, Train Loss: 2.3451069029395843, Val Loss: 2.3591175924373577, Test Acc: 12.5 %\n",
            "Epoch: 29, Train Loss: 2.346275882038009, Val Loss: 2.335781239256074, Test Acc: 6.25 %\n"
          ],
          "name": "stdout"
        }
      ]
    },
    {
      "cell_type": "code",
      "metadata": {
        "id": "6-nV7OqaaoyH",
        "colab_type": "code",
        "colab": {
          "base_uri": "https://localhost:8080/",
          "height": 235
        },
        "outputId": "28c0e638-41bc-454a-dd30-3ac1c18eb8fe"
      },
      "source": [
        "fig = plt.figure(figsize=(15, 5))\n",
        "\n",
        "# ======= Loss Fluctuation ======= #\n",
        "ax1 = fig.add_subplot(1, 2, 1)\n",
        "ax1.plot(list_epoch, list_train_loss, label='train_loss')\n",
        "ax1.plot(list_epoch, list_val_loss, '--', label='val_loss')\n",
        "ax1.set_xlabel('epoch')\n",
        "ax1.set_ylabel('loss')\n",
        "ax1.grid()\n",
        "ax1.legend()\n",
        "ax1.set_title('epoch vs loss')\n",
        "\n",
        "# ======= Metric Fluctuation ======= # \n",
        "ax2 = fig.add_subplot(1, 2, 2)\n",
        "ax2.plot(list_acc_epoch, list_acc, marker='x', label='Accuracy metric')\n",
        "ax2.set_xlabel('epoch')\n",
        "ax2.set_ylabel('Acc')\n",
        "ax2.grid()\n",
        "ax2.legend()\n",
        "ax2.set_title('epoch vs Accuracy')\n",
        "\n",
        "plt.show()\n"
      ],
      "execution_count": 1,
      "outputs": [
        {
          "output_type": "error",
          "ename": "NameError",
          "evalue": "ignored",
          "traceback": [
            "\u001b[0;31m---------------------------------------------------------------------------\u001b[0m",
            "\u001b[0;31mNameError\u001b[0m                                 Traceback (most recent call last)",
            "\u001b[0;32m<ipython-input-1-07c1ef82cf62>\u001b[0m in \u001b[0;36m<module>\u001b[0;34m()\u001b[0m\n\u001b[0;32m----> 1\u001b[0;31m \u001b[0mfig\u001b[0m \u001b[0;34m=\u001b[0m \u001b[0mplt\u001b[0m\u001b[0;34m.\u001b[0m\u001b[0mfigure\u001b[0m\u001b[0;34m(\u001b[0m\u001b[0mfigsize\u001b[0m\u001b[0;34m=\u001b[0m\u001b[0;34m(\u001b[0m\u001b[0;36m15\u001b[0m\u001b[0;34m,\u001b[0m \u001b[0;36m5\u001b[0m\u001b[0;34m)\u001b[0m\u001b[0;34m)\u001b[0m\u001b[0;34m\u001b[0m\u001b[0;34m\u001b[0m\u001b[0m\n\u001b[0m\u001b[1;32m      2\u001b[0m \u001b[0;34m\u001b[0m\u001b[0m\n\u001b[1;32m      3\u001b[0m \u001b[0;31m# ======= Loss Fluctuation ======= #\u001b[0m\u001b[0;34m\u001b[0m\u001b[0;34m\u001b[0m\u001b[0;34m\u001b[0m\u001b[0m\n\u001b[1;32m      4\u001b[0m \u001b[0max1\u001b[0m \u001b[0;34m=\u001b[0m \u001b[0mfig\u001b[0m\u001b[0;34m.\u001b[0m\u001b[0madd_subplot\u001b[0m\u001b[0;34m(\u001b[0m\u001b[0;36m1\u001b[0m\u001b[0;34m,\u001b[0m \u001b[0;36m2\u001b[0m\u001b[0;34m,\u001b[0m \u001b[0;36m1\u001b[0m\u001b[0;34m)\u001b[0m\u001b[0;34m\u001b[0m\u001b[0;34m\u001b[0m\u001b[0m\n\u001b[1;32m      5\u001b[0m \u001b[0max1\u001b[0m\u001b[0;34m.\u001b[0m\u001b[0mplot\u001b[0m\u001b[0;34m(\u001b[0m\u001b[0mlist_epoch\u001b[0m\u001b[0;34m,\u001b[0m \u001b[0mlist_train_loss\u001b[0m\u001b[0;34m,\u001b[0m \u001b[0mlabel\u001b[0m\u001b[0;34m=\u001b[0m\u001b[0;34m'train_loss'\u001b[0m\u001b[0;34m)\u001b[0m\u001b[0;34m\u001b[0m\u001b[0;34m\u001b[0m\u001b[0m\n",
            "\u001b[0;31mNameError\u001b[0m: name 'plt' is not defined"
          ]
        }
      ]
    },
    {
      "cell_type": "code",
      "metadata": {
        "id": "9KTXuLglsTvj",
        "colab_type": "code",
        "colab": {}
      },
      "source": [
        ""
      ],
      "execution_count": null,
      "outputs": []
    }
  ]
}