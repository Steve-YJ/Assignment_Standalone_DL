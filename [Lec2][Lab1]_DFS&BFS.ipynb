{
  "nbformat": 4,
  "nbformat_minor": 0,
  "metadata": {
    "colab": {
      "name": "[Lec2][Lab1] DFS&BFS.ipynb",
      "provenance": [],
      "collapsed_sections": [],
      "authorship_tag": "ABX9TyOrYNXiJwuuq5dCqHN8b8dG",
      "include_colab_link": true
    },
    "kernelspec": {
      "name": "python3",
      "display_name": "Python 3"
    }
  },
  "cells": [
    {
      "cell_type": "markdown",
      "metadata": {
        "id": "view-in-github",
        "colab_type": "text"
      },
      "source": [
        "<a href=\"https://colab.research.google.com/github/Steve-YJ/Assignment_Standalone_DL/blob/master/%5BLec2%5D%5BLab1%5D_DFS%26BFS.ipynb\" target=\"_parent\"><img src=\"https://colab.research.google.com/assets/colab-badge.svg\" alt=\"Open In Colab\"/></a>"
      ]
    },
    {
      "cell_type": "markdown",
      "metadata": {
        "id": "8Y95ST2yTIka"
      },
      "source": [
        "# DFS"
      ]
    },
    {
      "cell_type": "markdown",
      "metadata": {
        "id": "rvSOl4LSTW6Y"
      },
      "source": [
        "* 각 노드가 연결된 정보 표현(2차원 리스트)\n",
        "* 각 노드가 방문된 정보 표현(1차원 리스트)\n",
        "* DFS 메서드 정의"
      ]
    },
    {
      "cell_type": "code",
      "metadata": {
        "id": "7w-gxpGhTJ4r"
      },
      "source": [
        "# 각 노드가 연결된 정보 표현(2차원 리스트)\n",
        "\n",
        "graph = [\n",
        "         [],         # 0번 째 노드는 빈 리스트로 초기화 해준다\n",
        "         [2, 3, 8],  # 1번째 노드의 인접 노드를 인덱스로 접근할 수 있도록 0번째 노드 초기화 \n",
        "         [1, 7],\n",
        "         [1, 4, 5],\n",
        "         [3, 5],\n",
        "         [3, 4],\n",
        "         [7],\n",
        "         [2, 6, 8],\n",
        "         [1, 7]\n",
        "]\n",
        "\n",
        "# 각 노드가 방문된 정보를 표현 (1차원 리스트)\n",
        "visited = [False] * 9"
      ],
      "execution_count": 1,
      "outputs": []
    },
    {
      "cell_type": "code",
      "metadata": {
        "id": "DIVmDn6WUOfy",
        "outputId": "89f60017-aa60-4f21-956e-28b37128161d",
        "colab": {
          "base_uri": "https://localhost:8080/",
          "height": 52
        }
      },
      "source": [
        "print(graph)\n",
        "print(visited)"
      ],
      "execution_count": 2,
      "outputs": [
        {
          "output_type": "stream",
          "text": [
            "[[], [2, 3, 8], [1, 7], [1, 4, 5], [3, 5], [3, 4], [7], [2, 6, 8], [1, 7]]\n",
            "[False, False, False, False, False, False, False, False, False]\n"
          ],
          "name": "stdout"
        }
      ]
    },
    {
      "cell_type": "code",
      "metadata": {
        "id": "Xx5_MwczOvhO"
      },
      "source": [
        "# DFS 메서드 정의\n",
        "\n",
        "def dfs(graph, v, visited):\n",
        "    visited[v] = True\n",
        "    print(v, end=' ')\n",
        "    # 현재 노드와 연결된 다른노드(인접노드) 재귀적 방문\n",
        "    for i in graph[v]:\n",
        "        if not visited[i]:  # 방문하지 않은 노드가 있다면\n",
        "           dfs(graph, i, visited)"
      ],
      "execution_count": 3,
      "outputs": []
    },
    {
      "cell_type": "code",
      "metadata": {
        "id": "5xwqu4iPU9nS",
        "outputId": "ca25c74c-b48d-4157-87a4-78fb1d89daa6",
        "colab": {
          "base_uri": "https://localhost:8080/",
          "height": 34
        }
      },
      "source": [
        "dfs(graph, 1, visited)"
      ],
      "execution_count": 4,
      "outputs": [
        {
          "output_type": "stream",
          "text": [
            "1 2 7 6 8 3 4 5 "
          ],
          "name": "stdout"
        }
      ]
    },
    {
      "cell_type": "markdown",
      "metadata": {
        "id": "2SNs0EWxW3vJ"
      },
      "source": [
        "# BFS"
      ]
    },
    {
      "cell_type": "markdown",
      "metadata": {
        "id": "t3FybtTjW5BZ"
      },
      "source": [
        "* 각 노드가 연결된 정보를 표현 (2차원 리스트) ->  인접노드\n",
        "* 각 노드가 방문된 정보를 표현 (1차원 리스트)\n",
        "* BFS 메서드 정의"
      ]
    },
    {
      "cell_type": "code",
      "metadata": {
        "id": "IgPRe9bHU_zZ"
      },
      "source": [
        "# 각 노드가 연결된 정보를 표현 (2차원 리스트)\n",
        "graph = [\n",
        "         [],\n",
        "         [2, 3, 8],  # 1번 노드의 인접노드\n",
        "         [1, 7],\n",
        "         [1, 4, 5],\n",
        "         [3, 5],\n",
        "         [3, 4],\n",
        "         [7],\n",
        "         [2, 6, 8],\n",
        "         [1, 7]\n",
        "]\n",
        "\n",
        "# 각 노드가 방문된 정보를 표현 (1차원 리스트)\n",
        "visited = [False] * 9"
      ],
      "execution_count": 23,
      "outputs": []
    },
    {
      "cell_type": "markdown",
      "metadata": {
        "id": "vYWtTgV_bO3E"
      },
      "source": [
        "다시 해봅시다...!"
      ]
    },
    {
      "cell_type": "code",
      "metadata": {
        "id": "r3uCjtzebR4M"
      },
      "source": [
        "from collections import deque\n",
        "\n",
        "# bfs 메서드 정의\n",
        "def bfs(graph, start, visited):\n",
        "    # 큐(queue) 구현을 위해 deque 라이브러리 사용\n",
        "    # 시작노드 큐에 삽입\n",
        "    queue = deque([start])\n",
        "    # 현재 노드 방문처리\n",
        "    visited[start] = True\n",
        "\n",
        "    # 큐가 빌때까지 반복\n",
        "    while queue:\n",
        "        # 큐에서 하나의 원소를 뽑아 출력하기\n",
        "        v = queue.popleft()\n",
        "        print(v, end=\" \")\n",
        "        # 아직 방문하지 않은 인접한 원소들을 큐에 삽입\n",
        "        for i in graph[v]:\n",
        "            if not visited[i]:\n",
        "                queue.append(i)\n",
        "                visited[i]=True"
      ],
      "execution_count": 19,
      "outputs": []
    },
    {
      "cell_type": "code",
      "metadata": {
        "id": "Y6BZnBHLcZjp",
        "outputId": "01d0a7e0-f7f6-4744-a88d-72de82b73fe2",
        "colab": {
          "base_uri": "https://localhost:8080/",
          "height": 34
        }
      },
      "source": [
        "bfs(graph, 1, visited)"
      ],
      "execution_count": 20,
      "outputs": [
        {
          "output_type": "stream",
          "text": [
            "1 2 3 8 7 4 5 6 "
          ],
          "name": "stdout"
        }
      ]
    }
  ]
}