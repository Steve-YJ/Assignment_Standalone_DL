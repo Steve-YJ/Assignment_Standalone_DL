{
  "nbformat": 4,
  "nbformat_minor": 0,
  "metadata": {
    "colab": {
      "name": "Lect01. Linear Regression.ipynb",
      "provenance": [],
      "authorship_tag": "ABX9TyNLddMZjPmpT0ShL1xnHnZ3",
      "include_colab_link": true
    },
    "kernelspec": {
      "name": "python3",
      "display_name": "Python 3"
    }
  },
  "cells": [
    {
      "cell_type": "markdown",
      "metadata": {
        "id": "view-in-github",
        "colab_type": "text"
      },
      "source": [
        "<a href=\"https://colab.research.google.com/github/Steve-YJ/Exp-Standalone-DeepLearning/blob/master/Lect01_Linear_Regression.ipynb\" target=\"_parent\"><img src=\"https://colab.research.google.com/assets/colab-badge.svg\" alt=\"Open In Colab\"/></a>"
      ]
    },
    {
      "cell_type": "markdown",
      "metadata": {
        "id": "MAd0t-EFRqlh",
        "colab_type": "text"
      },
      "source": [
        "## Data Generation"
      ]
    },
    {
      "cell_type": "code",
      "metadata": {
        "id": "RXR5bBT6Qgta",
        "colab_type": "code",
        "colab": {
          "base_uri": "https://localhost:8080/",
          "height": 35
        },
        "outputId": "2e18e4fc-e2e0-424a-f882-6d6be5e14e57"
      },
      "source": [
        "X = [i for i in range(10)]\n",
        "print(X)"
      ],
      "execution_count": null,
      "outputs": [
        {
          "output_type": "stream",
          "text": [
            "[0, 1, 2, 3, 4, 5, 6, 7, 8, 9]\n"
          ],
          "name": "stdout"
        }
      ]
    },
    {
      "cell_type": "code",
      "metadata": {
        "id": "oYbMrrVNQoz_",
        "colab_type": "code",
        "colab": {
          "base_uri": "https://localhost:8080/",
          "height": 53
        },
        "outputId": "2f395e78-f7e5-49e6-fb06-4d878d110ccc"
      },
      "source": [
        "X = list(range(10))\n",
        "Y = [1, 1, 2, 4, 5, 7, 8, 9, 9, 10]\n",
        "\n",
        "print(len(Y))\n",
        "print(len(X))"
      ],
      "execution_count": null,
      "outputs": [
        {
          "output_type": "stream",
          "text": [
            "10\n",
            "10\n"
          ],
          "name": "stdout"
        }
      ]
    },
    {
      "cell_type": "markdown",
      "metadata": {
        "id": "9ReOk0zoQ7Bq",
        "colab_type": "text"
      },
      "source": [
        "10개의 1차원 vector 생성"
      ]
    },
    {
      "cell_type": "code",
      "metadata": {
        "id": "9T6iB0g4Qt5i",
        "colab_type": "code",
        "colab": {}
      },
      "source": [
        "import matplotlib.pyplot as plt  # matplotlib에서 pyplot이라는 library만 사용할 것이다"
      ],
      "execution_count": null,
      "outputs": []
    },
    {
      "cell_type": "markdown",
      "metadata": {
        "id": "FYWDNrZ5RAjx",
        "colab_type": "text"
      },
      "source": [
        "python library란?<br>\n",
        "=> 이미 짜여진 module을 불러와 사용할 수 있다."
      ]
    },
    {
      "cell_type": "code",
      "metadata": {
        "id": "4LV26hXMQ_98",
        "colab_type": "code",
        "colab": {
          "base_uri": "https://localhost:8080/",
          "height": 283
        },
        "outputId": "1cc6c323-5407-4687-ea69-0a713a816b71"
      },
      "source": [
        "# plt.plot(X, Y)  # X와 Y의 그래프를 그려준다\n",
        "plt.scatter(X, Y)"
      ],
      "execution_count": null,
      "outputs": [
        {
          "output_type": "execute_result",
          "data": {
            "text/plain": [
              "<matplotlib.collections.PathCollection at 0x7f54e2d36cf8>"
            ]
          },
          "metadata": {
            "tags": []
          },
          "execution_count": 4
        },
        {
          "output_type": "display_data",
          "data": {
            "image/png": "[encoded data removed]",
            "text/plain": [
              "<Figure size 432x288 with 1 Axes>"
            ]
          },
          "metadata": {
            "tags": [],
            "needs_background": "light"
          }
        }
      ]
    },
    {
      "cell_type": "markdown",
      "metadata": {
        "id": "-_WeJ1K1Rs8x",
        "colab_type": "text"
      },
      "source": [
        "## Hyperthesis 정의"
      ]
    },
    {
      "cell_type": "code",
      "metadata": {
        "id": "0bPiynAERNuh",
        "colab_type": "code",
        "colab": {
          "base_uri": "https://localhost:8080/",
          "height": 35
        },
        "outputId": "79a9affa-ba3b-4d05-dbe5-b998fe1a812f"
      },
      "source": [
        "'''\n",
        "def h(x, w):\n",
        "    return w*x\n",
        "\n",
        "def cost(h, X, Y):\n",
        "    for i in range(len(X)):\n",
        "        print(X[i], Y[i])\n",
        "'''\n"
      ],
      "execution_count": null,
      "outputs": [
        {
          "output_type": "execute_result",
          "data": {
            "application/vnd.google.colaboratory.intrinsic": {
              "type": "string"
            },
            "text/plain": [
              "'\\ndef h(x, w):\\n    return w*x\\n\\ndef cost(h, X, Y):\\n    for i in range(len(X)):\\n        print(X[i], Y[i])\\n'"
            ]
          },
          "metadata": {
            "tags": []
          },
          "execution_count": 5
        }
      ]
    },
    {
      "cell_type": "code",
      "metadata": {
        "id": "Y0mb24q2Rzwt",
        "colab_type": "code",
        "colab": {
          "base_uri": "https://localhost:8080/",
          "height": 35
        },
        "outputId": "eba4690d-f25b-4ef6-d5b4-a9683ca30762"
      },
      "source": [
        "class H():\n",
        "    def __init__(self, w):\n",
        "        self.w = w\n",
        "        \n",
        "    def forward(self, x):\n",
        "        return self.w * x\n",
        "\n",
        "def cost(h, X, Y):\n",
        "    error = 0\n",
        "    for i in range(len(X)):\n",
        "        error += (h.forward(X[i]) - Y[i]) **2\n",
        "        # print(X[i], Y[i])\n",
        "    error = error/len(X)\n",
        "    return error\n",
        "\n",
        "h = H(4)\n",
        "cost(h, X, Y)"
      ],
      "execution_count": null,
      "outputs": [
        {
          "output_type": "execute_result",
          "data": {
            "text/plain": [
              "222.2"
            ]
          },
          "metadata": {
            "tags": []
          },
          "execution_count": 7
        }
      ]
    },
    {
      "cell_type": "code",
      "metadata": {
        "id": "6mnkpAJCSkuX",
        "colab_type": "code",
        "colab": {
          "base_uri": "https://localhost:8080/",
          "height": 406
        },
        "outputId": "a235ec44-d47f-4947-83e7-3d140ed932e7"
      },
      "source": [
        "list_w = []\n",
        "list_c = []\n",
        "\n",
        "\n",
        "for i in range(100):\n",
        "    w = i*0.1\n",
        "    # print(w)\n",
        "    h = H(w)\n",
        "    c = cost(h, X, Y)\n",
        "    # print(c)\n",
        "    list_w.append(w)\n",
        "    list_c.append(c)\n",
        "    \n",
        "# print(list_w)\n",
        "# print(list_c)\n",
        "\n",
        "\n",
        "plt.figure(figsize=(10, 6))\n",
        "plt.xlabel('w')\n",
        "plt.ylabel('cost')\n",
        "plt.scatter(list_w, list_c)"
      ],
      "execution_count": null,
      "outputs": [
        {
          "output_type": "execute_result",
          "data": {
            "text/plain": [
              "<matplotlib.collections.PathCollection at 0x7f54e22dab70>"
            ]
          },
          "metadata": {
            "tags": []
          },
          "execution_count": 22
        },
        {
          "output_type": "display_data",
          "data": {
            "image/png": "[encoded data removed]",
            "text/plain": [
              "<Figure size 720x432 with 1 Axes>"
            ]
          },
          "metadata": {
            "tags": [],
            "needs_background": "light"
          }
        }
      ]
    },
    {
      "cell_type": "code",
      "metadata": {
        "id": "4DN8n4Y1VMgY",
        "colab_type": "code",
        "colab": {
          "base_uri": "https://localhost:8080/",
          "height": 35
        },
        "outputId": "ef416795-72df-4500-8307-3de240b99300"
      },
      "source": [
        "\n",
        "min(list_c)"
      ],
      "execution_count": null,
      "outputs": [
        {
          "output_type": "execute_result",
          "data": {
            "text/plain": [
              "0.4399999999999996"
            ]
          },
          "metadata": {
            "tags": []
          },
          "execution_count": 18
        }
      ]
    },
    {
      "cell_type": "code",
      "metadata": {
        "id": "NnrTxy7QWuTC",
        "colab_type": "code",
        "colab": {}
      },
      "source": [
        ""
      ],
      "execution_count": null,
      "outputs": []
    }
  ]
}