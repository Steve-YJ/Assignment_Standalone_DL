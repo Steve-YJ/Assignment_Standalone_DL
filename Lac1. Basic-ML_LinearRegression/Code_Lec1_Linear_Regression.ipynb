{
  "nbformat": 4,
  "nbformat_minor": 0,
  "metadata": {
    "colab": {
      "name": "Code-Lec1.Linear-Regression.ipynb",
      "provenance": [],
      "collapsed_sections": [],
      "authorship_tag": "ABX9TyOjhhXGwqk+pYI1Csj6+dg+",
      "include_colab_link": true
    },
    "kernelspec": {
      "name": "python3",
      "display_name": "Python 3"
    }
  },
  "cells": [
    {
      "cell_type": "markdown",
      "metadata": {
        "id": "view-in-github",
        "colab_type": "text"
      },
      "source": [
        "<a href=\"https://colab.research.google.com/github/Steve-YJ/Exp-Standalone-DeepLearning/blob/master/Code_Lec1_Linear_Regression.ipynb\" target=\"_parent\"><img src=\"https://colab.research.google.com/assets/colab-badge.svg\" alt=\"Open In Colab\"/></a>"
      ]
    },
    {
      "cell_type": "markdown",
      "metadata": {
        "id": "Hrm5w_Nzyd-_",
        "colab_type": "text"
      },
      "source": [
        "# Deep Learning 홀로서기 \n",
        "\n",
        "* Reference: <a href='https://github.com/heartcored98/Standalone-DeepLearning'>Standalone-DeepLearning</a>\n",
        "* Date: 20.07.18.sat. am7:00\n",
        "* Notice\n",
        "    * 본 노트북은 KAIST Standalone-DeepLearning을 공부하며 작성한 노트북입니다.\n",
        "    * 개인 학습 목적으로 Coding Skill 향상과 이론적인 이해를 지향합니다\n",
        "\n",
        "* Review<br>\n",
        "    ✅ Quick Code-Review<br>\n",
        "    ✅ Code-Review II<br>\n",
        "    better understand about cost function <br>\n",
        "    Re-Start!! -20.08.18.Tue-\n",
        "---"
      ]
    },
    {
      "cell_type": "markdown",
      "metadata": {
        "id": "5xB9vuRWzT9k",
        "colab_type": "text"
      },
      "source": [
        "# Lab1. Linear-Regression(from python, from scratch)\n",
        "\n",
        "본 실습에서는 Regression Problem에 대하여 Linear Regression Hypothesis를 적용해봅니다. <code>pytorch</code>. <code>numpy</code>. <code>pandas</code> 등을 사용하지 않고 구현을 하는 것이 이번 실습의 묘미라고 합니다...ㅎㅎ\n",
        "\n",
        "<br>\n",
        "(본 실습에서는 구글 Colab 환경에서 Notebook을 작성할 줄 안다는 가정하에 바로 실습을 진행하도로 하겠습니다.)<br>\n",
        "<br>\n",
        "Google Drive에서 Colab을 사용하는 방법은 Googling을 활용하시길 바랍니다.(또는 <a src='https://colab.research.google.com/notebooks/io.ipynb'>링크 참고</a>)"
      ]
    },
    {
      "cell_type": "markdown",
      "metadata": {
        "id": "HXmZCqSs0RL9",
        "colab_type": "text"
      },
      "source": [
        "앞으로 배우게 될 Deep Learning의 학습과정에 대해 익숙해지셨으면 합니다. 대부분의 일이 그렇듯 모델을 학습시키는 일 또한 일종의 '흐름'이 있습니다.<br><br>\n",
        "\n",
        "실습의 구성(일종의 목차)\n",
        "\n",
        "<ol>\n",
        "    <li>Data Generation(Preparation)</li>\n",
        "    <li>Hypothesis Define(Model Define)</li>\n",
        "    <li>Cost Function Define(Loss Function Define)</li>\n",
        "    <li>Gradient Descent</li> \n",
        "</ol>"
      ]
    },
    {
      "cell_type": "markdown",
      "metadata": {
        "id": "mdwlFDNK0TL0",
        "colab_type": "text"
      },
      "source": [
        "## 1. Data Generation(Preparation)"
      ]
    },
    {
      "cell_type": "markdown",
      "metadata": {
        "id": "jD4L2Yw02IEO",
        "colab_type": "text"
      },
      "source": [
        "Linear Regression 실습에 사용할 데이터로 공부한 시간에 따른 성적 데이터를 만들어 봅니다."
      ]
    },
    {
      "cell_type": "code",
      "metadata": {
        "id": "6yqPk0RwvPCB",
        "colab_type": "code",
        "colab": {
          "base_uri": "https://localhost:8080/",
          "height": 35
        },
        "outputId": "0a770a67-cc13-4323-b4c8-3f61ee2190c1"
      },
      "source": [
        "X = [0, 1, 2, 3, 4, 5, 6, 7, 8, 9]\n",
        "X"
      ],
      "execution_count": 1,
      "outputs": [
        {
          "output_type": "execute_result",
          "data": {
            "text/plain": [
              "[0, 1, 2, 3, 4, 5, 6, 7, 8, 9]"
            ]
          },
          "metadata": {
            "tags": []
          },
          "execution_count": 1
        }
      ]
    },
    {
      "cell_type": "code",
      "metadata": {
        "id": "t8x3PzDn10Eb",
        "colab_type": "code",
        "colab": {
          "base_uri": "https://localhost:8080/",
          "height": 35
        },
        "outputId": "17173fbc-e0e3-45ac-d760-f0a908f0a3dc"
      },
      "source": [
        "# 좀 더 Fancy한 방법으로 list를 생성해 줄 수 있습니다!\n",
        "\n",
        "X = [i for i in range(10)]\n",
        "print(X)"
      ],
      "execution_count": 2,
      "outputs": [
        {
          "output_type": "stream",
          "text": [
            "[0, 1, 2, 3, 4, 5, 6, 7, 8, 9]\n"
          ],
          "name": "stdout"
        }
      ]
    },
    {
      "cell_type": "code",
      "metadata": {
        "id": "H8PhPDMK10QZ",
        "colab_type": "code",
        "colab": {}
      },
      "source": [
        "X = [i for i in range(10)]\n",
        "Y = [1, 1, 2, 4, 5, 7, 8, 9, 9, 10]"
      ],
      "execution_count": 3,
      "outputs": []
    },
    {
      "cell_type": "markdown",
      "metadata": {
        "id": "UL6S--Cn2qaQ",
        "colab_type": "text"
      },
      "source": [
        "X, Y 데이터를 2D 평면상에 시각화해보도로 하겠습니다.<br>\n",
        "\n",
        "matplotlibrary의 pyplot module을 사용합니다.<br>\n",
        "\n",
        "* <code>plt.scatter()</code>"
      ]
    },
    {
      "cell_type": "code",
      "metadata": {
        "id": "DkF7HXgb2qGj",
        "colab_type": "code",
        "colab": {
          "base_uri": "https://localhost:8080/",
          "height": 265
        },
        "outputId": "317707f3-96f9-4cef-daad-a336bf5c0435"
      },
      "source": [
        "import matplotlib.pyplot as plt\n",
        "\n",
        "plt.scatter(X, Y)\n",
        "plt.show()"
      ],
      "execution_count": 4,
      "outputs": [
        {
          "output_type": "display_data",
          "data": {
            "image/png": "[encoded data removed]",
            "text/plain": [
              "<Figure size 432x288 with 1 Axes>"
            ]
          },
          "metadata": {
            "tags": [],
            "needs_background": "light"
          }
        }
      ]
    },
    {
      "cell_type": "markdown",
      "metadata": {
        "id": "mSJ7PKeP105F",
        "colab_type": "text"
      },
      "source": [
        "## 2. Hypothesis(Model Define)"
      ]
    },
    {
      "cell_type": "markdown",
      "metadata": {
        "id": "ipYpsOtS3eu0",
        "colab_type": "text"
      },
      "source": [
        "Linear Regression시에 활용하는 Hypothesis로는 <code>f(x) = Wx</code>를 사용하겠습니다<br>\n"
      ]
    },
    {
      "cell_type": "code",
      "metadata": {
        "id": "u2fRthh219nG",
        "colab_type": "code",
        "colab": {}
      },
      "source": [
        "# class를 사용해 구현해보도록 하겠습니다.\n",
        "# 우선은 class에 대해 잘 모르시더라도 '흐름'을 생각하며 따라와주시길 바랍니다.\n",
        "\n",
        "class H():\n",
        "    def __init__(self, w):\n",
        "        self.w = w\n",
        "\n",
        "    def forward(self, x):\n",
        "        return self.w*x\n"
      ],
      "execution_count": 5,
      "outputs": []
    },
    {
      "cell_type": "code",
      "metadata": {
        "id": "YS4qEpcN19w6",
        "colab_type": "code",
        "colab": {
          "base_uri": "https://localhost:8080/",
          "height": 53
        },
        "outputId": "6b6e2c8e-4a1a-4688-f4b9-9954fa806093"
      },
      "source": [
        "# make model\n",
        "\n",
        "h = H(4)  # h = 4x라는 모델이 만들어졌습니다\n",
        "pred_y = h.forward(5)  # x=5라는 인스턴스(또는 샘플)이 input으로 들어왔을 때, f(5) = 4x5를 통해 20이 정상적으로 출력되는지 확인해봅니다\n",
        "# print(pred_y)\n",
        "\n",
        "print('value of f(5) :', pred_y)\n",
        "print('value of w :', h.w)"
      ],
      "execution_count": 6,
      "outputs": [
        {
          "output_type": "stream",
          "text": [
            "value of f(5) : 20\n",
            "value of w : 4\n"
          ],
          "name": "stdout"
        }
      ]
    },
    {
      "cell_type": "markdown",
      "metadata": {
        "id": "4_j9EVdk49Ri",
        "colab_type": "text"
      },
      "source": [
        "hypothesis(model)의 출력값이 올바르게 출력된 것을 확인할 수 있습니다."
      ]
    },
    {
      "cell_type": "markdown",
      "metadata": {
        "id": "SXNZV5aB1_GB",
        "colab_type": "text"
      },
      "source": [
        "## 3. Cost Function Define(Loss Function Define)\n",
        "\n"
      ]
    },
    {
      "cell_type": "markdown",
      "metadata": {
        "id": "cFsZf6ew5KxN",
        "colab_type": "text"
      },
      "source": [
        "이론시간에 우리가 배운 것이 하나 더 있습니다. 바로 Cost Function(다른 말로 Loss Function)입니다.<br>\n",
        "Regression Problem에서의 Cost Function을 작성해봅니다.<br>\n",
        "<br>\n",
        "✅ 여기서 잠깐! 한 가지 짚고 넘어가도록 하겠습니다<br>\n",
        "* Reference: https://deepinsight.tistory.com/123\n",
        "<br>\n",
        "\n",
        "\n",
        "Deep Neural Network의 학습에서 Loss Function은 <code>두 가지 가정</code>을 합니다\n",
        "<ol>\n",
        "<li>전체 Training data에 대한 Loss Function의 값은 각 Loss Function에 대한 합입니다</li>\n",
        "<li>Network 출력값과 타겟(target)에 대한 Loss를 구합니다</li>\n",
        "</ol>\n",
        "\n",
        "다시말해 Loss를 구하는 방법은 출력값과 타겟값의 차이를 구하는 것입니다. 전체 데이터에 대한 Loss Function의 합은 각각의 Loss 값의 합입니다.\n",
        " \n",
        "<br>\n",
        "\n",
        "\n",
        "Cost Function의 구현을 통해 살펴보도록 하겠습니다."
      ]
    },
    {
      "cell_type": "code",
      "metadata": {
        "id": "15jHIoBS2EdI",
        "colab_type": "code",
        "colab": {}
      },
      "source": [
        "# calc cost\n",
        "\n",
        "def cost(h, X, Y):\n",
        "    error = 0\n",
        "    for i in range(len(X)):\n",
        "        error += (h.forward(X[i]) - Y[i]) ** 2\n",
        "    error = error / len(X)\n",
        "    return error\n",
        "\n",
        "# 위와 같이 cost function을 구할 수 있다"
      ],
      "execution_count": 10,
      "outputs": []
    },
    {
      "cell_type": "code",
      "metadata": {
        "id": "NpN4ocTF2EfN",
        "colab_type": "code",
        "colab": {
          "base_uri": "https://localhost:8080/",
          "height": 35
        },
        "outputId": "33bab4e4-c05b-4bcc-8c3d-1a935aa51897"
      },
      "source": [
        "# Again, Define Hypothesis\n",
        "h = H(4)  # 위에서 이미 한 번 생성해보았던 hypothesis를 다시 정의해 줍니다.\n",
        "\n",
        "# hypothesis를 검증해보겠습니다\n",
        "# 위에서 정의한 Loss Function(cost 함수)를 사용합니다\n",
        "print('Cost value when w=4: ', cost(h, X, Y))"
      ],
      "execution_count": 11,
      "outputs": [
        {
          "output_type": "stream",
          "text": [
            "Cost value when w=4:  222.2\n"
          ],
          "name": "stdout"
        }
      ]
    },
    {
      "cell_type": "markdown",
      "metadata": {
        "id": "2NQZ9fdN8QSB",
        "colab_type": "text"
      },
      "source": [
        "<code>H = 4x</code>라는 hypothesis는 우리가 가지고 있는 데이터에 대해서 222.2라는 Cost값을 가집니다. 상당히 큰 것 같습니다."
      ]
    },
    {
      "cell_type": "markdown",
      "metadata": {
        "id": "-826vfsj8xFr",
        "colab_type": "text"
      },
      "source": [
        "### better cost function\n",
        "조금 더 나은 버전의 cost function을 구현해봅니다."
      ]
    },
    {
      "cell_type": "code",
      "metadata": {
        "id": "8Db3ugOV828e",
        "colab_type": "code",
        "colab": {}
      },
      "source": [
        "def better_cost(pred_y, true_y):\n",
        "    error = 0 \n",
        "    # iteration\n",
        "    for i in range(len(X)):\n",
        "        error += (pred_y[i] - true_y[i]) ** 2\n",
        "    error = error / len(X)\n",
        "    return error"
      ],
      "execution_count": 12,
      "outputs": []
    },
    {
      "cell_type": "markdown",
      "metadata": {
        "id": "WAWbcD699lwl",
        "colab_type": "text"
      },
      "source": [
        "위의 결과와 같은 결과가 나오는지 한 번 확인해 보겠습니다."
      ]
    },
    {
      "cell_type": "code",
      "metadata": {
        "id": "RWWAir5-9pTM",
        "colab_type": "code",
        "colab": {
          "base_uri": "https://localhost:8080/",
          "height": 35
        },
        "outputId": "1bd3a614-0d14-4f27-a6cd-ce8769a595f4"
      },
      "source": [
        "# pred_y == ?\n",
        "# pred_y는 어떻게 구할 수 있을까요?\n",
        "pred_y = [h.forward(X[i]) for i in range(len(X))]\n",
        "\n",
        "print('cost value with bettoer code structure: ', better_cost(pred_y, Y))  # it must be same to the result of cost"
      ],
      "execution_count": 13,
      "outputs": [
        {
          "output_type": "stream",
          "text": [
            "cost value with bettoer code structure:  222.2\n"
          ],
          "name": "stdout"
        }
      ]
    },
    {
      "cell_type": "code",
      "metadata": {
        "id": "2pCUS5pmKXKZ",
        "colab_type": "code",
        "colab": {
          "base_uri": "https://localhost:8080/",
          "height": 35
        },
        "outputId": "7c8ea8ad-7e02-4a4d-ee1c-8dd9e270d133"
      },
      "source": [
        "h = H(4)\n",
        "pred_y = [h.forward(X[i]) for i in range(len(X))]\n",
        "cost(h, X, Y) == better_cost(pred_y, Y)"
      ],
      "execution_count": 14,
      "outputs": [
        {
          "output_type": "execute_result",
          "data": {
            "text/plain": [
              "True"
            ]
          },
          "metadata": {
            "tags": []
          },
          "execution_count": 14
        }
      ]
    },
    {
      "cell_type": "markdown",
      "metadata": {
        "id": "F6SFUu10_G9s",
        "colab_type": "text"
      },
      "source": [
        "같은 결과를 얻을 수 있습니다"
      ]
    },
    {
      "cell_type": "markdown",
      "metadata": {
        "id": "bGJ9BkHi_J2S",
        "colab_type": "text"
      },
      "source": [
        "### Cost Surface Visualization\n",
        "\n",
        "위에서 w=4인 경우에 대해서 cost를 확인해 보았습니다. 이번엔 다양한 w에 대해 cost값이 어떻게 바뀌는지 확인해 보겠습니다."
      ]
    },
    {
      "cell_type": "code",
      "metadata": {
        "id": "LarKBdkaK5sR",
        "colab_type": "code",
        "colab": {}
      },
      "source": [
        "list_w = []\n",
        "list_c = []\n",
        "\n",
        "# make many w and calc cost\n",
        "for i in range(-20, 20):\n",
        "    w = i * 0.5\n",
        "    h = H(w)\n",
        "    c = cost(h, X, Y)\n",
        "    list_w.append(w)  # append w to list_w\n",
        "    list_c.append(c)  # append c to list_c"
      ],
      "execution_count": 15,
      "outputs": []
    },
    {
      "cell_type": "markdown",
      "metadata": {
        "id": "Uoas1O31_5mF",
        "colab_type": "text"
      },
      "source": [
        "이제 cost function을 시각화해봅니다."
      ]
    },
    {
      "cell_type": "code",
      "metadata": {
        "id": "uJQjuRyr2ElO",
        "colab_type": "code",
        "colab": {
          "base_uri": "https://localhost:8080/",
          "height": 352
        },
        "outputId": "4728bb18-6b1f-4cf1-d50e-96cdbcc51015"
      },
      "source": [
        "# plt.plot 대신 plt.figure()를 사용합니다\n",
        "\n",
        "plt.figure(figsize=(10, 5))\n",
        "plt.xlabel('w')\n",
        "plt.ylabel('cost')\n",
        "plt.scatter(list_w, list_c, s=5)"
      ],
      "execution_count": 16,
      "outputs": [
        {
          "output_type": "execute_result",
          "data": {
            "text/plain": [
              "<matplotlib.collections.PathCollection at 0x7fd514318eb8>"
            ]
          },
          "metadata": {
            "tags": []
          },
          "execution_count": 16
        },
        {
          "output_type": "display_data",
          "data": {
            "image/png": "[encoded data removed]",
            "text/plain": [
              "<Figure size 720x360 with 1 Axes>"
            ]
          },
          "metadata": {
            "tags": [],
            "needs_background": "light"
          }
        }
      ]
    },
    {
      "cell_type": "markdown",
      "metadata": {
        "id": "Z6y-MBI1APlX",
        "colab_type": "text"
      },
      "source": [
        "w가 0에서 2.5사이일 때 cost가 낮아지는 것을 확인할 수 있습니다"
      ]
    },
    {
      "cell_type": "markdown",
      "metadata": {
        "id": "xPBbTLbL1-_e",
        "colab_type": "text"
      },
      "source": [
        "## Gradient Descent(마지막!)\n",
        "\n",
        "이제 특정 w근방에서의 w에 대한 cost의 편미분(지금 변수가 하나라 그냥 미분과 다름이 없습니다만!)을 구해보겠습니다<br>\n",
        "여기서는 두 가지 방식으로 gradient를 구합니다<br>\n",
        "\n",
        "<ol>\n",
        "<li>수치해석적으로 w=4인 지점과 w=4+eps인 지점의 cost 값을 각각 구한 뒤 두 값의 차이를 통해 gradient를 구합니다\n",
        "</li>\n",
        "<li>cost function을 w로 편미분한 공식을 통해 바로 특정 w에서의 gradient를 구합니다</li>\n",
        "</ol>"
      ]
    },
    {
      "cell_type": "markdown",
      "metadata": {
        "id": "iFettJL7A8y-",
        "colab_type": "text"
      },
      "source": [
        "### Compare two approach in order to compute Gradient\n",
        "* Analytic\n",
        "* Formula\n",
        "<br><br>\n",
        "\n",
        "\n",
        "수치해석적 방법으로 Gradient를 구하는 방법과 편미분 공식을 통해 Gradient를 구하는 방법을 비교해보도록 하겠습니다."
      ]
    },
    {
      "cell_type": "code",
      "metadata": {
        "id": "IxssAvce2GKF",
        "colab_type": "code",
        "colab": {}
      },
      "source": [
        "def cal_grad(w, cost):  # 수치해석적으로 gradient를 근사해봅니다.\n",
        "    h = H(w)\n",
        "    cost1 = cost(h, X, Y)\n",
        "    eps = 0.00001\n",
        "    h = H(w+eps)  # w에서 epsilon만큼 떨어진 부분에서 cost를 구해줍니다.\n",
        "    cost2 = cost(h, X, Y)\n",
        "    dcost = cost2 - cost1  # 두 cost function의 차이를 구해줍니다.\n",
        "\n",
        "    dw = eps\n",
        "    grad = dcost / dw\n",
        "    return grad, (cost1 + cost2) * 0.5\n",
        "\n",
        "def cal_grad2(w, cost):  # 편미분한 공식에 바로 대입하여 gradient를 근사해봅니다\n",
        "    h = H(w)\n",
        "    grad = 0\n",
        "\n",
        "    for i in range(len(X)):\n",
        "        grad += 2*(h.forward(X[i]) - Y[i]) * X[i]\n",
        "    \n",
        "    grad = grad / len(X)\n",
        "    c = cost(h, X, Y)\n",
        "    return grad, c"
      ],
      "execution_count": 17,
      "outputs": []
    },
    {
      "cell_type": "markdown",
      "metadata": {
        "id": "Pp7qDWrdhrlM",
        "colab_type": "text"
      },
      "source": [
        "조금은 그럴듯한 학습을 한 번 해보겠습니다<br>\n",
        "아래 실습 코드는 딥러닝의 학습방식과 유사한면이 있습니다."
      ]
    },
    {
      "cell_type": "code",
      "metadata": {
        "id": "soEseN6D835k",
        "colab_type": "code",
        "colab": {
          "base_uri": "https://localhost:8080/",
          "height": 301
        },
        "outputId": "27460257-afea-4c31-8cd0-06e5ec85adc8"
      },
      "source": [
        "# 두 방식을 이용해서 w = 1.4 라는 지점에서 모델을 각각 초기화한 뒤에 Gradient Descent Algorithm 을 통해 내려갔을 때 거의 같은 결과가 나오는지 확인해봅시다.\n",
        "w1 = 1.4\n",
        "w2 = 1.4\n",
        "lr = 0.01\n",
        "\n",
        "list_w1 = []\n",
        "list_c1 = []\n",
        "list_w2 = []\n",
        "list_c2 = []\n",
        "\n",
        "for i in range(100): # 총 100번의 Iteration(반복)을 통해서 학습을 진행해봅시다.\n",
        "    grad, mean_cost = cal_grad(w1, cost)\n",
        "    grad2, mean_cost2 = cal_grad2(w2, cost)\n",
        "\n",
        "    w1 -= lr * grad\n",
        "    w2 -= lr * grad2\n",
        "    list_w1.append(w1)\n",
        "    list_w2.append(w2)\n",
        "    list_c1.append(mean_cost)\n",
        "    list_c2.append(mean_cost2)\n",
        "    \n",
        "print(w1, mean_cost, w2, mean_cost2) # 100번의 학습이 끝난 뒤에 w1 과 w2 를 출력해보니 둘다 1.21 정도로 비슷한 값으로 수렴한 것을 확인할 수 있습니다.\n",
        "  \n",
        "# 매 Iteration에서의 w 값과 cost 값을 그래프 상에 찍어보면 둘이 거의 정확하게 같은 지점을 통과하므로 초록색 동그라미가 파란색 별표를 가립니다.\n",
        "plt.scatter(list_w1, list_c1, label='analytic', marker='*', alpha=0.7)\n",
        "plt.scatter(list_w2, list_c2, label='formula', alpha=0.4)\n",
        "plt.legend()"
      ],
      "execution_count": 18,
      "outputs": [
        {
          "output_type": "stream",
          "text": [
            "1.2105213157896242 0.43684210597565787 1.2105263157894737 0.43684210526315803\n"
          ],
          "name": "stdout"
        },
        {
          "output_type": "execute_result",
          "data": {
            "text/plain": [
              "<matplotlib.legend.Legend at 0x7fd514298e48>"
            ]
          },
          "metadata": {
            "tags": []
          },
          "execution_count": 18
        },
        {
          "output_type": "display_data",
          "data": {
            "image/png": "[encoded data removed]",
            "text/plain": [
              "<Figure size 432x288 with 1 Axes>"
            ]
          },
          "metadata": {
            "tags": [],
            "needs_background": "light"
          }
        }
      ]
    },
    {
      "cell_type": "code",
      "metadata": {
        "id": "oN5xJ6Io8377",
        "colab_type": "code",
        "colab": {
          "base_uri": "https://localhost:8080/",
          "height": 301
        },
        "outputId": "6a7e2589-9be8-4da6-a9e9-544ba99aca01"
      },
      "source": [
        "# 편미분 공식을 활용해서 Gradient Descent를 진행하되 서로 다른 w 지점으로 초기화 되었을 때 학습 양상을 확인해봅시다\n",
        "w1 = 1.4\n",
        "w2 = 1.1\n",
        "lr = 0.01\n",
        "\n",
        "list_w1 = []\n",
        "list_c1 = []\n",
        "list_w2 = []\n",
        "list_c2 = []\n",
        "\n",
        "for i in range(100): # 총 100번의 Iteration(반복)을 통해서 학습을 진행해봅시다.\n",
        "    grad, mean_cost = cal_grad2(w1, cost)\n",
        "    grad2, mean_cost2 = cal_grad2(w2, cost)\n",
        "\n",
        "    w1 -= lr * grad\n",
        "    w2 -= lr * grad2\n",
        "    list_w1.append(w1)\n",
        "    list_w2.append(w2)\n",
        "    list_c1.append(mean_cost)\n",
        "    list_c2.append(mean_cost2)\n",
        "    \n",
        "print(w1, mean_cost, w2, mean_cost2) # 100번의 학습이 끝난 뒤에 w1 과 w2 를 출력해보니 둘다 1.21 정도로 비슷한 값으로 수렴한 것을 확인할 수 있습니다.\n",
        "  \n",
        "# 서로 다른 지점으로부터 시작하였더라도 학습이 진행됨에 따라 둘 다 같은 파라미터(w=1.21)로 수렴하는 양상을 확인할 수 있습니다.\n",
        "plt.scatter(list_w1, list_c1, label='start from w=1.4', marker='*')\n",
        "plt.scatter(list_w2, list_c2, label='start from w=1.1')\n",
        "plt.legend()"
      ],
      "execution_count": 19,
      "outputs": [
        {
          "output_type": "stream",
          "text": [
            "1.2105263157894737 0.43684210526315803 1.2105263157894737 0.43684210526315803\n"
          ],
          "name": "stdout"
        },
        {
          "output_type": "execute_result",
          "data": {
            "text/plain": [
              "<matplotlib.legend.Legend at 0x7fd514217470>"
            ]
          },
          "metadata": {
            "tags": []
          },
          "execution_count": 19
        },
        {
          "output_type": "display_data",
          "data": {
            "image/png": "[encoded data removed]",
            "text/plain": [
              "<Figure size 432x288 with 1 Axes>"
            ]
          },
          "metadata": {
            "tags": [],
            "needs_background": "light"
          }
        }
      ]
    },
    {
      "cell_type": "markdown",
      "metadata": {
        "id": "h3MWG8Frr6kc",
        "colab_type": "text"
      },
      "source": [
        "## Summary\n"
      ]
    },
    {
      "cell_type": "markdown",
      "metadata": {
        "id": "O0uEjsF3r8IA",
        "colab_type": "text"
      },
      "source": [
        "### Sum1. plot Loss Graph"
      ]
    },
    {
      "cell_type": "code",
      "metadata": {
        "id": "RcLGUTujqq8Q",
        "colab_type": "code",
        "colab": {}
      },
      "source": [
        "X = [i for i in range(10)]\n",
        "Y = [1, 1, 2, 3, 4, 5, 6, 7, 7, 9]"
      ],
      "execution_count": 20,
      "outputs": []
    },
    {
      "cell_type": "code",
      "metadata": {
        "id": "8rfZdqL-osQn",
        "colab_type": "code",
        "colab": {
          "base_uri": "https://localhost:8080/",
          "height": 352
        },
        "outputId": "2fcae5f5-22a4-49d5-d599-2e6f4c435592"
      },
      "source": [
        "# Define Hypothesis\n",
        "class H:\n",
        "    def __init__(self, w):\n",
        "        self.w = w\n",
        "\n",
        "    def forward(self, X):\n",
        "        return self.w * X\n",
        "\n",
        "# Define Cost Function\n",
        "def cost(h, X, Y):\n",
        "    cost = 0  # initialize\n",
        "    return sum([(h.forward(X[i]) - Y[i]) ** 2 for i in range(len(X))]) / len(X) \n",
        "\n",
        "list_w = []\n",
        "list_c = []\n",
        "\n",
        "for i in range(-20, 20):\n",
        "    w = i*0.5\n",
        "    h = H(w)\n",
        "    c = cost(h, X, Y)\n",
        "    list_w.append(w)\n",
        "    list_c.append(c)\n",
        "\n",
        "# plot\n",
        "plt.figure(figsize=(10, 5))\n",
        "plt.xlabel('weight')\n",
        "plt.ylabel('cost')\n",
        "# plt.scatter(list_w, list_c)\n",
        "plt.plot(list_w, list_c)"
      ],
      "execution_count": 21,
      "outputs": [
        {
          "output_type": "execute_result",
          "data": {
            "text/plain": [
              "[<matplotlib.lines.Line2D at 0x7fd51417be48>]"
            ]
          },
          "metadata": {
            "tags": []
          },
          "execution_count": 21
        },
        {
          "output_type": "display_data",
          "data": {
            "image/png": "[encoded data removed]",
            "text/plain": [
              "<Figure size 720x360 with 1 Axes>"
            ]
          },
          "metadata": {
            "tags": [],
            "needs_background": "light"
          }
        }
      ]
    },
    {
      "cell_type": "markdown",
      "metadata": {
        "id": "LAhREGObsIyB",
        "colab_type": "text"
      },
      "source": [
        "### Sum2. Gradient Descent"
      ]
    },
    {
      "cell_type": "markdown",
      "metadata": {
        "id": "B9FBOzfToMvv",
        "colab_type": "text"
      },
      "source": [
        "* Gradient Descent\n",
        "    * Analytic\n",
        "    * Fomula\n"
      ]
    },
    {
      "cell_type": "code",
      "metadata": {
        "id": "58y6olXQp1A2",
        "colab_type": "code",
        "colab": {
          "base_uri": "https://localhost:8080/",
          "height": 301
        },
        "outputId": "1c31f335-d496-4484-83b6-2a46ab90cd85"
      },
      "source": [
        "# 1. Analytic Gradient\n",
        "def cal_grad(w, cost):\n",
        "    h = H(w)\n",
        "    cost1 = cost(h, X, Y)\n",
        "    eps = 0.00001\n",
        "    h = H(w+eps)\n",
        "    cost2 = cost(h, X, Y)\n",
        "    dcost = cost2 - cost1\n",
        "    dw = eps\n",
        "    grad = dcost / dw\n",
        "    return grad, (cost1+cost2)*0.5\n",
        "\n",
        "# 2. Fomula Gradient\n",
        "def cal_grad2(w, cost):\n",
        "    h = H(w)\n",
        "    grad = 0\n",
        "    for i in range(len(X)):\n",
        "        grad += 2 * (h.forward(X[i]) - Y[i]) * X[i]\n",
        "    grad = grad / len(X)\n",
        "    c = cost(h, X, Y)\n",
        "    return grad, c\n",
        "\n",
        "# 두 방식을 이용해 w=1.4라는 지점에서 모델을 각각 초기화한 뒤, Gradient Algorithm을 통해 내려갔을 때 거의 같은 결과가 나오는지 확인해 본다\n",
        "w1 = 1.4\n",
        "w2 = 1.4\n",
        "lr = 0.01\n",
        "\n",
        "list_w1 = []\n",
        "list_c1 = []\n",
        "list_w2 = []\n",
        "list_c2 = []\n",
        "\n",
        "# 100 Epoch을 학습한다.\n",
        "# 전체 데이터에 대해 100번 학습한다고 생각해보자\n",
        "for i in range(100):\n",
        "    grad, mean_cost = cal_grad(w1, cost)\n",
        "    grad2, mean_cost2 = cal_grad2(w2, cost)\n",
        "\n",
        "    w1 -= lr * grad   # w1 = w0 -lr * gradient\n",
        "    w2 -= lr * grad2  # \" same\n",
        "    list_w1.append(w1)\n",
        "    list_w2.append(w2)\n",
        "    list_c1.append(mean_cost)\n",
        "    list_c2.append(mean_cost2)\n",
        "\n",
        "print(w1, mean_cost, w2, mean_cost2)\n",
        "\n",
        "plt.scatter(list_w1, list_c1, label='analytic', marker='*', alpha=0.7)\n",
        "plt.scatter(list_w2, list_c2, label='formula', alpha=0.4)\n",
        "plt.legend()"
      ],
      "execution_count": 22,
      "outputs": [
        {
          "output_type": "stream",
          "text": [
            "0.9719248245615029 0.17754386036162279 0.9719298245614035 0.17754385964912273\n"
          ],
          "name": "stdout"
        },
        {
          "output_type": "execute_result",
          "data": {
            "text/plain": [
              "<matplotlib.legend.Legend at 0x7fd514170a90>"
            ]
          },
          "metadata": {
            "tags": []
          },
          "execution_count": 22
        },
        {
          "output_type": "display_data",
          "data": {
            "image/png": "[encoded data removed]",
            "text/plain": [
              "<Figure size 432x288 with 1 Axes>"
            ]
          },
          "metadata": {
            "tags": [],
            "needs_background": "light"
          }
        }
      ]
    },
    {
      "cell_type": "code",
      "metadata": {
        "id": "0hRo8MOiqz1W",
        "colab_type": "code",
        "colab": {
          "base_uri": "https://localhost:8080/",
          "height": 301
        },
        "outputId": "d1f9e3c5-6d47-4597-c7d6-ac17117976a9"
      },
      "source": [
        "# 1. Analytic Gradient\n",
        "def cal_grad(w, cost):\n",
        "    h = H(w)\n",
        "    cost1 = cost(h, X, Y)\n",
        "    eps = 0.00001\n",
        "    h = H(w+eps)\n",
        "    cost2 = cost(h, X, Y)\n",
        "    dcost = cost2 - cost1\n",
        "    dw = eps\n",
        "    grad = dcost / dw\n",
        "    return grad, (cost1+cost2)*0.5\n",
        "\n",
        "# 2. Fomula Gradient\n",
        "def cal_grad2(w, cost):\n",
        "    h = H(w)\n",
        "    grad = 0\n",
        "    for i in range(len(X)):\n",
        "        grad += 2 * (h.forward(X[i]) - Y[i]) * X[i]\n",
        "    grad = grad / len(X)\n",
        "    c = cost(h, X, Y)\n",
        "    return grad, c\n",
        "\n",
        "# 두 방식을 이용해 w=1.4라는 지점에서 모델을 각각 초기화한 뒤, Gradient Algorithm을 통해 내려갔을 때 거의 같은 결과가 나오는지 확인해 본다\n",
        "w1 = 1.4\n",
        "w2 = 1.4\n",
        "lr = 0.01\n",
        "\n",
        "list_w1 = []\n",
        "list_c1 = []\n",
        "list_w2 = []\n",
        "list_c2 = []\n",
        "\n",
        "# 100 Epoch을 학습한다.\n",
        "# 전체 데이터에 대해 100번 학습한다고 생각해보자\n",
        "for i in range(100):\n",
        "    grad, mean_cost = cal_grad(w1, cost)\n",
        "    grad2, mean_cost2 = cal_grad2(w2, cost)\n",
        "\n",
        "    w1 -= lr * grad   # w1 = w0 -lr * gradient\n",
        "    w2 -= lr * grad2  # \" same\n",
        "    list_w1.append(w1)\n",
        "    list_w2.append(w2)\n",
        "    list_c1.append(mean_cost)\n",
        "    list_c2.append(mean_cost2)\n",
        "\n",
        "print(w1, mean_cost, w2, mean_cost2)\n",
        "\n",
        "plt.scatter(list_w1, list_c1, label='analytic', marker='*', alpha=0.7)\n",
        "plt.scatter(list_w2, list_c2, label='formula', alpha=0.4)\n",
        "plt.legend()"
      ],
      "execution_count": 23,
      "outputs": [
        {
          "output_type": "stream",
          "text": [
            "0.9719248245615029 0.17754386036162279 0.9719298245614035 0.17754385964912273\n"
          ],
          "name": "stdout"
        },
        {
          "output_type": "execute_result",
          "data": {
            "text/plain": [
              "<matplotlib.legend.Legend at 0x7fd51426a588>"
            ]
          },
          "metadata": {
            "tags": []
          },
          "execution_count": 23
        },
        {
          "output_type": "display_data",
          "data": {
            "image/png": "[encoded data removed]",
            "text/plain": [
              "<Figure size 432x288 with 1 Axes>"
            ]
          },
          "metadata": {
            "tags": [],
            "needs_background": "light"
          }
        }
      ]
    },
    {
      "cell_type": "code",
      "metadata": {
        "id": "Msfw1qkz5ssd",
        "colab_type": "code",
        "colab": {}
      },
      "source": [
        ""
      ],
      "execution_count": 23,
      "outputs": []
    }
  ]
}