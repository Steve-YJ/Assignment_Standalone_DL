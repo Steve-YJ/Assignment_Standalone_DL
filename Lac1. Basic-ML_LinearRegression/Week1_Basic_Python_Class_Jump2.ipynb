{
  "nbformat": 4,
  "nbformat_minor": 0,
  "metadata": {
    "colab": {
      "name": "Week1.Basic-Python_Class_Jump2.ipynb",
      "provenance": [],
      "authorship_tag": "ABX9TyOw1ix6R0fqNLcVWpzRW1x5",
      "include_colab_link": true
    },
    "kernelspec": {
      "name": "python3",
      "display_name": "Python 3"
    }
  },
  "cells": [
    {
      "cell_type": "markdown",
      "metadata": {
        "id": "view-in-github",
        "colab_type": "text"
      },
      "source": [
        "<a href=\"https://colab.research.google.com/github/Steve-YJ/Exp-Standalone-DeepLearning/blob/master/Week1_Basic_Python_Class_Jump2.ipynb\" target=\"_parent\"><img src=\"https://colab.research.google.com/assets/colab-badge.svg\" alt=\"Open In Colab\"/></a>"
      ]
    },
    {
      "cell_type": "markdown",
      "metadata": {
        "id": "N0-1GBhPrrqc",
        "colab_type": "text"
      },
      "source": [
        "# Standalone-Deeplearning\n",
        "* Python 부족한 부분을 채우는 시간\n",
        "* Python Class... 이번 기회에 종결 짓는다!\n",
        "\n",
        "## Reference\n",
        "다음의 Reference를 참고했습니다<br>\n",
        "<a href='https://wikidocs.net/28'>점프 투 파이썬 05-1 클래스</a>"
      ]
    },
    {
      "cell_type": "markdown",
      "metadata": {
        "id": "_BrZW_0hsK8i",
        "colab_type": "text"
      },
      "source": [
        "---\n",
        "시작합니다"
      ]
    },
    {
      "cell_type": "markdown",
      "metadata": {
        "id": "IqRnKKi3sRCP",
        "colab_type": "text"
      },
      "source": [
        "들어가며....<br>\n",
        "\"클래스가 무엇인지, 왜 필요한지, 아주 기초적인 부분부터 학습해보도록 하겠습니다\""
      ]
    },
    {
      "cell_type": "markdown",
      "metadata": {
        "id": "t7w0qH9FsYJ0",
        "colab_type": "text"
      },
      "source": [
        "## 01. class는 왜 필요할까?\n",
        "\n",
        "* C언어에는 class가 없다\n",
        "* Python으로 작성된 프로그램 중에도 class가 없는 경우가 있다\n",
        "* 왜 class를 써야할까? 어떤점이 좋을까?\n",
        "\n",
        "간단한 계산기 프로그램을 작성하면서 class에 대해"
      ]
    },
    {
      "cell_type": "code",
      "metadata": {
        "id": "e0gX3Q1_szgn",
        "colab_type": "code",
        "colab": {
          "base_uri": "https://localhost:8080/",
          "height": 53
        },
        "outputId": "a71430e2-ce32-483f-e0c3-4b9043fe6346"
      },
      "source": [
        "result = 0\n",
        "\n",
        "def add(num):\n",
        "    global result\n",
        "    result += num\n",
        "    return result\n",
        "\n",
        "print(add(3))\n",
        "print(add(4))"
      ],
      "execution_count": 2,
      "outputs": [
        {
          "output_type": "stream",
          "text": [
            "3\n",
            "7\n"
          ],
          "name": "stdout"
        }
      ]
    },
    {
      "cell_type": "markdown",
      "metadata": {
        "id": "V_D05tY8taqf",
        "colab_type": "text"
      },
      "source": [
        "*Q. 만약 한 프로그램에서 2대의 계산기가 필요하다면 어떻게 해야할까?*"
      ]
    },
    {
      "cell_type": "code",
      "metadata": {
        "id": "8fEOKK57szd3",
        "colab_type": "code",
        "colab": {}
      },
      "source": [
        "# No1. 2개의 계산기를 만들어준다\n",
        "\n",
        "result1 = 0\n",
        "result2 = 0\n",
        "\n",
        "def add1(num):\n",
        "    global result1\n",
        "    result1 += num\n",
        "    return result1\n",
        "\n",
        "def add2(num):\n",
        "    global result2\n",
        "    result2 += num\n",
        "    return result2"
      ],
      "execution_count": 3,
      "outputs": []
    },
    {
      "cell_type": "code",
      "metadata": {
        "id": "nf_oYme9sKBw",
        "colab_type": "code",
        "colab": {
          "base_uri": "https://localhost:8080/",
          "height": 89
        },
        "outputId": "cad49958-1385-467c-ef48-f80f0463f51d"
      },
      "source": [
        "print(add1(3))\n",
        "print(add1(4))\n",
        "print(add2(3))\n",
        "print(add2(7))"
      ],
      "execution_count": 4,
      "outputs": [
        {
          "output_type": "stream",
          "text": [
            "3\n",
            "7\n",
            "3\n",
            "10\n"
          ],
          "name": "stdout"
        }
      ]
    },
    {
      "cell_type": "markdown",
      "metadata": {
        "id": "kaDpb7Qat4bK",
        "colab_type": "text"
      },
      "source": [
        "만약 10대라면....??... 이거 답이 없어진다...<<br>\n",
        "여기에 단순 더하기 뿐만 아니라 뺴기, 곱하기, 나누기까지 더하면은 하나하나 다 작성하는데...흠...."
      ]
    },
    {
      "cell_type": "markdown",
      "metadata": {
        "id": "ul-e2s34uPNd",
        "colab_type": "text"
      },
      "source": [
        "class를 선언하면 보다 효율적으로 문제를 해결할 수 있다"
      ]
    },
    {
      "cell_type": "code",
      "metadata": {
        "id": "vsykixZTsriM",
        "colab_type": "code",
        "colab": {}
      },
      "source": [
        "class Calculator:\n",
        "    def __init__(self):\n",
        "        self.result = 0\n",
        "    \n",
        "    def add(self, num):\n",
        "        self.result +=num\n",
        "        return self.result"
      ],
      "execution_count": 8,
      "outputs": []
    },
    {
      "cell_type": "code",
      "metadata": {
        "id": "MZ8FCcK3srku",
        "colab_type": "code",
        "colab": {
          "base_uri": "https://localhost:8080/",
          "height": 89
        },
        "outputId": "12b70ea9-2a76-4540-a5c5-f7e16ea83d29"
      },
      "source": [
        "cal1 = Calculator()\n",
        "cal2 = Calculator()\n",
        "\n",
        "print(cal1.add(3))\n",
        "print(cal1.add(4))\n",
        "print(cal2.add(3))\n",
        "print(cal2.add(7))"
      ],
      "execution_count": 9,
      "outputs": [
        {
          "output_type": "stream",
          "text": [
            "3\n",
            "7\n",
            "3\n",
            "10\n"
          ],
          "name": "stdout"
        }
      ]
    },
    {
      "cell_type": "markdown",
      "metadata": {
        "id": "nrYmyFDiu8V2",
        "colab_type": "text"
      },
      "source": [
        "Calculator 클래스로 만든 별개의 계산기 cal1과 cal2를 객체라고 부른다. 객체는 각각 역할을 수행한다.<br>\n",
        "\n",
        "또한 계산기(cal1, cal2)의 결과값 역시 다른 계산기의 결괏값과 상관없이 독립적인 값을 유지한다.<br>\n",
        "\n",
        "class를 사용하면 계산기 대수가 늘어나더라도 객체를 생성만 하면 되기 때문에 함수를 하용하는 경우와 달리 매우 간단해진다."
      ]
    },
    {
      "cell_type": "markdown",
      "metadata": {
        "id": "7pH_IZ_PvaFx",
        "colab_type": "text"
      },
      "source": [
        "## 02. 클래스와 객체"
      ]
    },
    {
      "cell_type": "markdown",
      "metadata": {
        "id": "ajwBFeJuvlHX",
        "colab_type": "text"
      },
      "source": [
        "클래스는 과자와 과자를 만드는 틀과 같다<br>\n",
        "즉 클래스(class)란 똑같은 무엇인가를 계속해서 만들어 낼 수 있는 설계 도면이고(과자 틀), 객체(object)란 클래스로 만든 피조물(과자틀로 만든 과자)을 뜻한다.\n",
        "<br><br>\n",
        "\n",
        "\n",
        "* 객체의 중요한 특징\n",
        "    * 클래스로 만든 객체는 객체마다 고유한 성격을 가진다."
      ]
    },
    {
      "cell_type": "markdown",
      "metadata": {
        "id": "Pvk8Mq-BwG5R",
        "colab_type": "text"
      },
      "source": [
        "---\n",
        "* 객체와 인스턴스의 차이\n",
        "    * 클래스로 만든 객체를 인스턴스라고 부르기도 한다\n",
        "    * 객체와 인스턴스의 차이는 무엇인가? 정말 같은 것인가?"
      ]
    },
    {
      "cell_type": "code",
      "metadata": {
        "id": "m1O9ASYYsrm2",
        "colab_type": "code",
        "colab": {}
      },
      "source": [
        "# 다음과 같은 class가 있다\n",
        "\n",
        "class Cookie:\n",
        "    pass"
      ],
      "execution_count": 10,
      "outputs": []
    },
    {
      "cell_type": "code",
      "metadata": {
        "id": "92wHxiuysrpu",
        "colab_type": "code",
        "colab": {}
      },
      "source": [
        "a = Cookie()\n",
        "b = Cookie()"
      ],
      "execution_count": 11,
      "outputs": []
    },
    {
      "cell_type": "markdown",
      "metadata": {
        "id": "oDsB06tbwnof",
        "colab_type": "text"
      },
      "source": [
        "이 때 무엇이 객체이고 무엇이 클래스인가??<br>\n",
        "\n",
        "* a, b는 객체이다\n",
        "* a는 Cookie의 인스턴스이다\n",
        "* b는 Cookie의 인스턴스이다"
      ]
    },
    {
      "cell_type": "markdown",
      "metadata": {
        "id": "9PDV3-qoxNxi",
        "colab_type": "text"
      },
      "source": [
        "## 사칙연산 클래스 만들기\n",
        "* 본격적으로 class를 만들어보자\n",
        "* \"백문이 불여 일타\" 클래스를 직접 만들며 배워보자 "
      ]
    },
    {
      "cell_type": "markdown",
      "metadata": {
        "id": "qJLBwXpExY18",
        "colab_type": "text"
      },
      "source": [
        "### 먼저 클래스를 어떻게 만들지 구상하기!\n",
        "* 무작정 클래스를 만들기 보다는\n",
        "* 클래스로 만든 객체를 중심으로 어떤 식으로 동작하게 할것인지 미리 구상을 한 후에 생각한 것들을 하나씩 해결하며 완성해 나가는 것이 좋다\n",
        "\n"
      ]
    },
    {
      "cell_type": "code",
      "metadata": {
        "id": "FertKfKosrrc",
        "colab_type": "code",
        "colab": {}
      },
      "source": [
        "# 우선 한 번 만들어보자\n",
        "\n",
        "class FourCal():\n",
        "    def __init__(self):\n",
        "        self.result = 0\n",
        "        self.one = 0\n",
        "        self.two = 0\n",
        "    \n",
        "    def setdata(self, one, two):\n",
        "        self.one = one\n",
        "        self.two = two\n",
        "\n",
        "    def add(self):\n",
        "        return self.one + self.two\n",
        "\n",
        "    def sub(self):\n",
        "        return self.one - self.two\n",
        "\n",
        "    def mul(self):\n",
        "        return self.one * self.two\n",
        "\n",
        "    def div(self):\n",
        "        return self.one / self.two"
      ],
      "execution_count": 22,
      "outputs": []
    },
    {
      "cell_type": "code",
      "metadata": {
        "id": "lcun0VlhybkJ",
        "colab_type": "code",
        "colab": {}
      },
      "source": [
        "a = FourCal()"
      ],
      "execution_count": 23,
      "outputs": []
    },
    {
      "cell_type": "code",
      "metadata": {
        "id": "-fKqA9kqyecR",
        "colab_type": "code",
        "colab": {
          "base_uri": "https://localhost:8080/",
          "height": 35
        },
        "outputId": "52a42954-c4c4-426b-c4f2-93295215395c"
      },
      "source": [
        "a.setdata(4, 2)\n",
        "print(a.add())"
      ],
      "execution_count": 24,
      "outputs": [
        {
          "output_type": "stream",
          "text": [
            "6\n"
          ],
          "name": "stdout"
        }
      ]
    },
    {
      "cell_type": "code",
      "metadata": {
        "id": "zzon4SGhyy1J",
        "colab_type": "code",
        "colab": {
          "base_uri": "https://localhost:8080/",
          "height": 71
        },
        "outputId": "c7d1549b-93d0-4000-e323-fa9dd971b892"
      },
      "source": [
        "print(a.sub())\n",
        "print(a.mul())\n",
        "print(a.div())"
      ],
      "execution_count": 28,
      "outputs": [
        {
          "output_type": "stream",
          "text": [
            "2\n",
            "8\n",
            "2.0\n"
          ],
          "name": "stdout"
        }
      ]
    },
    {
      "cell_type": "code",
      "metadata": {
        "id": "sQ_jpzk7zu4x",
        "colab_type": "code",
        "colab": {
          "base_uri": "https://localhost:8080/",
          "height": 53
        },
        "outputId": "09e1d248-1a1c-475f-e453-d8e840cf4fb5"
      },
      "source": [
        "print(a.one)\n",
        "print(a.two)"
      ],
      "execution_count": 30,
      "outputs": [
        {
          "output_type": "stream",
          "text": [
            "4\n",
            "2\n"
          ],
          "name": "stdout"
        }
      ]
    },
    {
      "cell_type": "markdown",
      "metadata": {
        "id": "HL8loUX52rw2",
        "colab_type": "text"
      },
      "source": [
        "### 03. 생성자(Constructor)\n",
        "* 앞에서 정의한 FourCal 클래스를 다음과 같이 사용해본다"
      ]
    },
    {
      "cell_type": "code",
      "metadata": {
        "id": "vypqPC6b2mf-",
        "colab_type": "code",
        "colab": {
          "base_uri": "https://localhost:8080/",
          "height": 35
        },
        "outputId": "2692b99c-acbb-4c03-bfa5-a9b811504393"
      },
      "source": [
        "a = FourCal()\n",
        "a.add()"
      ],
      "execution_count": 31,
      "outputs": [
        {
          "output_type": "execute_result",
          "data": {
            "text/plain": [
              "0"
            ]
          },
          "metadata": {
            "tags": []
          },
          "execution_count": 31
        }
      ]
    },
    {
      "cell_type": "markdown",
      "metadata": {
        "id": "C19eDBpp27t9",
        "colab_type": "text"
      },
      "source": [
        "## 04. 클래스의 상속\n",
        "* Inheritance란 '물려받다'라는 뜻이다\n",
        "* class에서 상속의 개념을 적용할 수 있다\n",
        "* FourCal 클래스를 상속하는 MoreFourCal 클래스를 만들어보자"
      ]
    },
    {
      "cell_type": "code",
      "metadata": {
        "id": "w7MBz5I-2z3X",
        "colab_type": "code",
        "colab": {}
      },
      "source": [
        "# MoreFourCal class\n",
        "\n",
        "class MoreFourCal(FourCal):\n",
        "    pass\n"
      ],
      "execution_count": 32,
      "outputs": []
    },
    {
      "cell_type": "code",
      "metadata": {
        "id": "R9csWcup3OUv",
        "colab_type": "code",
        "colab": {
          "base_uri": "https://localhost:8080/",
          "height": 53
        },
        "outputId": "c1ddb57b-ea23-454d-f0ac-4de74c431e23"
      },
      "source": [
        "a = MoreFourCal()\n",
        "\n",
        "a.setdata(4, 2)\n",
        "print(a.one)\n",
        "print(a.two)"
      ],
      "execution_count": 35,
      "outputs": [
        {
          "output_type": "stream",
          "text": [
            "4\n",
            "2\n"
          ],
          "name": "stdout"
        }
      ]
    },
    {
      "cell_type": "markdown",
      "metadata": {
        "id": "5J0UmrAS3pc1",
        "colab_type": "text"
      },
      "source": [
        "## 05. 메서드 오버라이딩"
      ]
    },
    {
      "cell_type": "code",
      "metadata": {
        "id": "qcD9MbR_3pGR",
        "colab_type": "code",
        "colab": {
          "base_uri": "https://localhost:8080/",
          "height": 280
        },
        "outputId": "32edfb6c-9101-45bd-baaa-1f8ee42e296e"
      },
      "source": [
        "a.setdata(4, 0)\n",
        "a.div()"
      ],
      "execution_count": 37,
      "outputs": [
        {
          "output_type": "error",
          "ename": "ZeroDivisionError",
          "evalue": "ignored",
          "traceback": [
            "\u001b[0;31m---------------------------------------------------------------------------\u001b[0m",
            "\u001b[0;31mZeroDivisionError\u001b[0m                         Traceback (most recent call last)",
            "\u001b[0;32m<ipython-input-37-7d8ee14b7bba>\u001b[0m in \u001b[0;36m<module>\u001b[0;34m()\u001b[0m\n\u001b[1;32m      1\u001b[0m \u001b[0ma\u001b[0m\u001b[0;34m.\u001b[0m\u001b[0msetdata\u001b[0m\u001b[0;34m(\u001b[0m\u001b[0;36m4\u001b[0m\u001b[0;34m,\u001b[0m \u001b[0;36m0\u001b[0m\u001b[0;34m)\u001b[0m\u001b[0;34m\u001b[0m\u001b[0;34m\u001b[0m\u001b[0m\n\u001b[0;32m----> 2\u001b[0;31m \u001b[0ma\u001b[0m\u001b[0;34m.\u001b[0m\u001b[0mdiv\u001b[0m\u001b[0;34m(\u001b[0m\u001b[0;34m)\u001b[0m\u001b[0;34m\u001b[0m\u001b[0;34m\u001b[0m\u001b[0m\n\u001b[0m",
            "\u001b[0;32m<ipython-input-22-dc30990ded33>\u001b[0m in \u001b[0;36mdiv\u001b[0;34m(self)\u001b[0m\n\u001b[1;32m     21\u001b[0m \u001b[0;34m\u001b[0m\u001b[0m\n\u001b[1;32m     22\u001b[0m     \u001b[0;32mdef\u001b[0m \u001b[0mdiv\u001b[0m\u001b[0;34m(\u001b[0m\u001b[0mself\u001b[0m\u001b[0;34m)\u001b[0m\u001b[0;34m:\u001b[0m\u001b[0;34m\u001b[0m\u001b[0;34m\u001b[0m\u001b[0m\n\u001b[0;32m---> 23\u001b[0;31m         \u001b[0;32mreturn\u001b[0m \u001b[0mself\u001b[0m\u001b[0;34m.\u001b[0m\u001b[0mone\u001b[0m \u001b[0;34m/\u001b[0m \u001b[0mself\u001b[0m\u001b[0;34m.\u001b[0m\u001b[0mtwo\u001b[0m\u001b[0;34m\u001b[0m\u001b[0;34m\u001b[0m\u001b[0m\n\u001b[0m",
            "\u001b[0;31mZeroDivisionError\u001b[0m: division by zero"
          ]
        }
      ]
    },
    {
      "cell_type": "code",
      "metadata": {
        "id": "AJFmKxym3VFO",
        "colab_type": "code",
        "colab": {}
      },
      "source": [
        "class SafeFourCal(FourCal):\n",
        "    def div(self):\n",
        "        if self.two == 0:\n",
        "            return 0\n",
        "        else:\n",
        "            return self.one / self.two"
      ],
      "execution_count": 38,
      "outputs": []
    },
    {
      "cell_type": "code",
      "metadata": {
        "id": "t97CM4Cg4BAS",
        "colab_type": "code",
        "colab": {
          "base_uri": "https://localhost:8080/",
          "height": 35
        },
        "outputId": "3483afb8-33aa-4a62-f244-a36867f519ab"
      },
      "source": [
        "a = SafeFourCal()\n",
        "\n",
        "a.setdata(4, 0)\n",
        "a.div()"
      ],
      "execution_count": 39,
      "outputs": [
        {
          "output_type": "execute_result",
          "data": {
            "text/plain": [
              "0"
            ]
          },
          "metadata": {
            "tags": []
          },
          "execution_count": 39
        }
      ]
    },
    {
      "cell_type": "markdown",
      "metadata": {
        "id": "3wkU6R0H4IZX",
        "colab_type": "text"
      },
      "source": [
        "## 06. 클래스 변수\n",
        "* 객체변수는 다른 객체들에 영향을 받지 않고 독립적으로 그 값을 유지한다\n",
        "* 객체변수와 성격이 다른 class 변수에 대해 알아보자"
      ]
    },
    {
      "cell_type": "code",
      "metadata": {
        "id": "hE2OBI4G4b_k",
        "colab_type": "code",
        "colab": {}
      },
      "source": [
        "class Family:\n",
        "    lastname = \"김\"\n"
      ],
      "execution_count": 40,
      "outputs": []
    },
    {
      "cell_type": "code",
      "metadata": {
        "id": "oN67vlTg4Ewg",
        "colab_type": "code",
        "colab": {
          "base_uri": "https://localhost:8080/",
          "height": 35
        },
        "outputId": "836a55f5-5c43-4328-9dcb-bfdf06eccad0"
      },
      "source": [
        "print(Family.lastname)"
      ],
      "execution_count": 41,
      "outputs": [
        {
          "output_type": "stream",
          "text": [
            "김\n"
          ],
          "name": "stdout"
        }
      ]
    },
    {
      "cell_type": "code",
      "metadata": {
        "id": "mUlSGG8h4jy7",
        "colab_type": "code",
        "colab": {
          "base_uri": "https://localhost:8080/",
          "height": 53
        },
        "outputId": "007b162e-3ecc-497e-c749-0794fd87dca3"
      },
      "source": [
        " a = Family()\n",
        " b = Family()\n",
        "\n",
        " print(a.lastname)\n",
        " print(b.lastname)"
      ],
      "execution_count": 42,
      "outputs": [
        {
          "output_type": "stream",
          "text": [
            "김\n",
            "김\n"
          ],
          "name": "stdout"
        }
      ]
    }
  ]
}