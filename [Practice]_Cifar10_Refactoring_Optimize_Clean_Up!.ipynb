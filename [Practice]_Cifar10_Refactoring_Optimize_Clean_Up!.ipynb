{
  "nbformat": 4,
  "nbformat_minor": 0,
  "metadata": {
    "colab": {
      "name": "[Practice] Cifar10_Refactoring_Optimize_Clean_Up!.ipynb",
      "provenance": [],
      "collapsed_sections": [
        "GnanIYLt96zI",
        "hZwHcIHIN_2s",
        "JD1hHshT894A",
        "2ALeiOdIAZIe"
      ],
      "machine_shape": "hm",
      "authorship_tag": "ABX9TyMVAge9DXKQpQcqfo1mKe9Z",
      "include_colab_link": true
    },
    "kernelspec": {
      "name": "python3",
      "display_name": "Python 3"
    },
    "accelerator": "GPU",
    "widgets": {
      "application/vnd.jupyter.widget-state+json": {
        "44a12d354db945fcaaa94ccb06c041a7": {
          "model_module": "@jupyter-widgets/controls",
          "model_name": "HBoxModel",
          "state": {
            "_view_name": "HBoxView",
            "_dom_classes": [],
            "_model_name": "HBoxModel",
            "_view_module": "@jupyter-widgets/controls",
            "_model_module_version": "1.5.0",
            "_view_count": null,
            "_view_module_version": "1.5.0",
            "box_style": "",
            "layout": "IPY_MODEL_bf158d66176c4faf9ab76253eb71d86f",
            "_model_module": "@jupyter-widgets/controls",
            "children": [
              "IPY_MODEL_97fe16f31fe046ac8fee5ec93ca7e698",
              "IPY_MODEL_4ffde483cbd2467e92216efac6204e37"
            ]
          }
        },
        "bf158d66176c4faf9ab76253eb71d86f": {
          "model_module": "@jupyter-widgets/base",
          "model_name": "LayoutModel",
          "state": {
            "_view_name": "LayoutView",
            "grid_template_rows": null,
            "right": null,
            "justify_content": null,
            "_view_module": "@jupyter-widgets/base",
            "overflow": null,
            "_model_module_version": "1.2.0",
            "_view_count": null,
            "flex_flow": null,
            "width": null,
            "min_width": null,
            "border": null,
            "align_items": null,
            "bottom": null,
            "_model_module": "@jupyter-widgets/base",
            "top": null,
            "grid_column": null,
            "overflow_y": null,
            "overflow_x": null,
            "grid_auto_flow": null,
            "grid_area": null,
            "grid_template_columns": null,
            "flex": null,
            "_model_name": "LayoutModel",
            "justify_items": null,
            "grid_row": null,
            "max_height": null,
            "align_content": null,
            "visibility": null,
            "align_self": null,
            "height": null,
            "min_height": null,
            "padding": null,
            "grid_auto_rows": null,
            "grid_gap": null,
            "max_width": null,
            "order": null,
            "_view_module_version": "1.2.0",
            "grid_template_areas": null,
            "object_position": null,
            "object_fit": null,
            "grid_auto_columns": null,
            "margin": null,
            "display": null,
            "left": null
          }
        },
        "97fe16f31fe046ac8fee5ec93ca7e698": {
          "model_module": "@jupyter-widgets/controls",
          "model_name": "FloatProgressModel",
          "state": {
            "_view_name": "ProgressView",
            "style": "IPY_MODEL_eb51c65a18604f8bbf39a7bdf00b14f3",
            "_dom_classes": [],
            "description": "",
            "_model_name": "FloatProgressModel",
            "bar_style": "info",
            "max": 1,
            "_view_module": "@jupyter-widgets/controls",
            "_model_module_version": "1.5.0",
            "value": 1,
            "_view_count": null,
            "_view_module_version": "1.5.0",
            "orientation": "horizontal",
            "min": 0,
            "description_tooltip": null,
            "_model_module": "@jupyter-widgets/controls",
            "layout": "IPY_MODEL_86e22133d2dc4c9f891ad5f3b9e4c424"
          }
        },
        "4ffde483cbd2467e92216efac6204e37": {
          "model_module": "@jupyter-widgets/controls",
          "model_name": "HTMLModel",
          "state": {
            "_view_name": "HTMLView",
            "style": "IPY_MODEL_f3cd64b07bfe4e8fb24d6237037320a5",
            "_dom_classes": [],
            "description": "",
            "_model_name": "HTMLModel",
            "placeholder": "​",
            "_view_module": "@jupyter-widgets/controls",
            "_model_module_version": "1.5.0",
            "value": " 170500096/? [00:20&lt;00:00, 32571840.86it/s]",
            "_view_count": null,
            "_view_module_version": "1.5.0",
            "description_tooltip": null,
            "_model_module": "@jupyter-widgets/controls",
            "layout": "IPY_MODEL_31d8733fe565413ca2d6dbd0dd314a27"
          }
        },
        "eb51c65a18604f8bbf39a7bdf00b14f3": {
          "model_module": "@jupyter-widgets/controls",
          "model_name": "ProgressStyleModel",
          "state": {
            "_view_name": "StyleView",
            "_model_name": "ProgressStyleModel",
            "description_width": "initial",
            "_view_module": "@jupyter-widgets/base",
            "_model_module_version": "1.5.0",
            "_view_count": null,
            "_view_module_version": "1.2.0",
            "bar_color": null,
            "_model_module": "@jupyter-widgets/controls"
          }
        },
        "86e22133d2dc4c9f891ad5f3b9e4c424": {
          "model_module": "@jupyter-widgets/base",
          "model_name": "LayoutModel",
          "state": {
            "_view_name": "LayoutView",
            "grid_template_rows": null,
            "right": null,
            "justify_content": null,
            "_view_module": "@jupyter-widgets/base",
            "overflow": null,
            "_model_module_version": "1.2.0",
            "_view_count": null,
            "flex_flow": null,
            "width": null,
            "min_width": null,
            "border": null,
            "align_items": null,
            "bottom": null,
            "_model_module": "@jupyter-widgets/base",
            "top": null,
            "grid_column": null,
            "overflow_y": null,
            "overflow_x": null,
            "grid_auto_flow": null,
            "grid_area": null,
            "grid_template_columns": null,
            "flex": null,
            "_model_name": "LayoutModel",
            "justify_items": null,
            "grid_row": null,
            "max_height": null,
            "align_content": null,
            "visibility": null,
            "align_self": null,
            "height": null,
            "min_height": null,
            "padding": null,
            "grid_auto_rows": null,
            "grid_gap": null,
            "max_width": null,
            "order": null,
            "_view_module_version": "1.2.0",
            "grid_template_areas": null,
            "object_position": null,
            "object_fit": null,
            "grid_auto_columns": null,
            "margin": null,
            "display": null,
            "left": null
          }
        },
        "f3cd64b07bfe4e8fb24d6237037320a5": {
          "model_module": "@jupyter-widgets/controls",
          "model_name": "DescriptionStyleModel",
          "state": {
            "_view_name": "StyleView",
            "_model_name": "DescriptionStyleModel",
            "description_width": "",
            "_view_module": "@jupyter-widgets/base",
            "_model_module_version": "1.5.0",
            "_view_count": null,
            "_view_module_version": "1.2.0",
            "_model_module": "@jupyter-widgets/controls"
          }
        },
        "31d8733fe565413ca2d6dbd0dd314a27": {
          "model_module": "@jupyter-widgets/base",
          "model_name": "LayoutModel",
          "state": {
            "_view_name": "LayoutView",
            "grid_template_rows": null,
            "right": null,
            "justify_content": null,
            "_view_module": "@jupyter-widgets/base",
            "overflow": null,
            "_model_module_version": "1.2.0",
            "_view_count": null,
            "flex_flow": null,
            "width": null,
            "min_width": null,
            "border": null,
            "align_items": null,
            "bottom": null,
            "_model_module": "@jupyter-widgets/base",
            "top": null,
            "grid_column": null,
            "overflow_y": null,
            "overflow_x": null,
            "grid_auto_flow": null,
            "grid_area": null,
            "grid_template_columns": null,
            "flex": null,
            "_model_name": "LayoutModel",
            "justify_items": null,
            "grid_row": null,
            "max_height": null,
            "align_content": null,
            "visibility": null,
            "align_self": null,
            "height": null,
            "min_height": null,
            "padding": null,
            "grid_auto_rows": null,
            "grid_gap": null,
            "max_width": null,
            "order": null,
            "_view_module_version": "1.2.0",
            "grid_template_areas": null,
            "object_position": null,
            "object_fit": null,
            "grid_auto_columns": null,
            "margin": null,
            "display": null,
            "left": null
          }
        }
      }
    }
  },
  "cells": [
    {
      "cell_type": "markdown",
      "metadata": {
        "id": "view-in-github",
        "colab_type": "text"
      },
      "source": [
        "<a href=\"https://colab.research.google.com/github/Steve-YJ/Assignment_Standalone_DL/blob/master/%5BPractice%5D_Cifar10_Refactoring_Optimize_Clean_Up!.ipynb\" target=\"_parent\"><img src=\"https://colab.research.google.com/assets/colab-badge.svg\" alt=\"Open In Colab\"/></a>"
      ]
    },
    {
      "cell_type": "markdown",
      "metadata": {
        "id": "GnanIYLt96zI",
        "colab_type": "text"
      },
      "source": [
        "# Lec3. Practice\n",
        "# CIFAR-10 Classifier: Hyperparameter Tunning!!\n",
        "* Training with PyTorch\n",
        "* 20.09.04.Fri. pm 9:00\n",
        "* Review >>> 20.09.07.mon. pm 6:25\n",
        "* Again >>> 20.09.22.Ture. pm 4:00\n",
        "<br><br>\n",
        "* Reference: https://github.com/heartcored98/Standalone-DeepLearning/blob/master/Lec3/Lab4_write_pretty_DL_code.ipynb"
      ]
    },
    {
      "cell_type": "markdown",
      "metadata": {
        "id": "UOpaXMtyp4PA",
        "colab_type": "text"
      },
      "source": [
        "\n",
        "> <code>학습 Flow</code> -20.09.16.wed-<br>\n",
        "> Import Library<br> \n",
        "> Data Preparation<br>\n",
        "> Model Architecture<br>\n",
        "> Define Exp<br>\n",
        "> Experiment!<br>\n"
      ]
    },
    {
      "cell_type": "markdown",
      "metadata": {
        "id": "QEInCXuI6rHi",
        "colab_type": "text"
      },
      "source": [
        "# Import Library"
      ]
    },
    {
      "cell_type": "code",
      "metadata": {
        "id": "Dcgb0Oup-pkc",
        "colab_type": "code",
        "colab": {}
      },
      "source": [
        "import torch\n",
        "import torchvision\n",
        "import torchvision.transforms as transforms\n",
        "import torch.nn as nn\n",
        "import torch.nn.functional as F\n",
        "import torch.optim as optim\n",
        "import argparse\n",
        "import numpy as np"
      ],
      "execution_count": 1,
      "outputs": []
    },
    {
      "cell_type": "markdown",
      "metadata": {
        "id": "tWWLfCnrBb7T",
        "colab_type": "text"
      },
      "source": [
        "## Data Preparation"
      ]
    },
    {
      "cell_type": "markdown",
      "metadata": {
        "id": "8tlFQ8fDOWxW",
        "colab_type": "text"
      },
      "source": [
        "* Train, Val, Test Loader를 따로 구현한다"
      ]
    },
    {
      "cell_type": "code",
      "metadata": {
        "id": "25VdMuC__nUs",
        "colab_type": "code",
        "colab": {
          "base_uri": "https://localhost:8080/",
          "height": 103,
          "referenced_widgets": [
            "44a12d354db945fcaaa94ccb06c041a7",
            "bf158d66176c4faf9ab76253eb71d86f",
            "97fe16f31fe046ac8fee5ec93ca7e698",
            "4ffde483cbd2467e92216efac6204e37",
            "eb51c65a18604f8bbf39a7bdf00b14f3",
            "86e22133d2dc4c9f891ad5f3b9e4c424",
            "f3cd64b07bfe4e8fb24d6237037320a5",
            "31d8733fe565413ca2d6dbd0dd314a27"
          ]
        },
        "outputId": "283baa5d-ae5f-4402-cb8a-2648b37d0bb2"
      },
      "source": [
        "transforms = transforms.Compose([\n",
        "                                 transforms.ToTensor(),\n",
        "                                 transforms.Normalize((0.5, 0.5, 0.5), (0.5, 0.5, 0.5))  # Normalize a tensor image with mean and standard deviation\n",
        "     ])\n",
        "trainset = torchvision.datasets.CIFAR10(root='./data', train=True,\n",
        "                                        download=True, transform=transforms)\n",
        "trainset, valset = torch.utils.data.random_split(trainset, [40000, 10000])\n",
        "testset = torchvision.datasets.CIFAR10(root='./data', train=False,\n",
        "                                       download=True, transform=transforms)\n",
        "\n",
        "# what is partition?\n",
        "partition = {'train': trainset, 'val':valset, 'test':testset}"
      ],
      "execution_count": 2,
      "outputs": [
        {
          "output_type": "stream",
          "text": [
            "Downloading https://www.cs.toronto.edu/~kriz/cifar-10-python.tar.gz to ./data/cifar-10-python.tar.gz\n"
          ],
          "name": "stdout"
        },
        {
          "output_type": "display_data",
          "data": {
            "application/vnd.jupyter.widget-view+json": {
              "model_id": "44a12d354db945fcaaa94ccb06c041a7",
              "version_minor": 0,
              "version_major": 2
            },
            "text/plain": [
              "HBox(children=(FloatProgress(value=1.0, bar_style='info', max=1.0), HTML(value='')))"
            ]
          },
          "metadata": {
            "tags": []
          }
        },
        {
          "output_type": "stream",
          "text": [
            "Extracting ./data/cifar-10-python.tar.gz to ./data\n",
            "Files already downloaded and verified\n"
          ],
          "name": "stdout"
        }
      ]
    },
    {
      "cell_type": "markdown",
      "metadata": {
        "id": "6oAR1ReQprKU",
        "colab_type": "text"
      },
      "source": [
        "## Inspect Dataset"
      ]
    },
    {
      "cell_type": "code",
      "metadata": {
        "id": "kN3-6agxpma6",
        "colab_type": "code",
        "colab": {
          "base_uri": "https://localhost:8080/",
          "height": 244
        },
        "outputId": "9118b9fe-75f3-41ad-9043-390a5d84853a"
      },
      "source": [
        "import matplotlib.pyplot as plt\n",
        "import numpy as np\n",
        "\n",
        "# functions to show an image\n",
        "\n",
        "\n",
        "def imshow(img):\n",
        "    img = img / 2 + 0.5     # unnormalize\n",
        "    npimg = img.numpy()\n",
        "    plt.imshow(np.transpose(npimg, (1, 2, 0)))\n",
        "    plt.show()\n",
        "\n",
        "\n",
        "# get some random training images\n",
        "dataiter = iter(trainloader)\n",
        "images, labels = dataiter.next()\n",
        "\n",
        "# show images\n",
        "imshow(torchvision.utils.make_grid(images))\n",
        "# print labels\n",
        "print(' '.join('%5s' % classes[labels[j]] for j in range(4)))\n",
        "\n",
        "print(type(images), images.shape)\n",
        "print(type(labels), labels.shape, labels)  # 각각의 클래스\n",
        "\n"
      ],
      "execution_count": 3,
      "outputs": [
        {
          "output_type": "error",
          "ename": "NameError",
          "evalue": "ignored",
          "traceback": [
            "\u001b[0;31m---------------------------------------------------------------------------\u001b[0m",
            "\u001b[0;31mNameError\u001b[0m                                 Traceback (most recent call last)",
            "\u001b[0;32m<ipython-input-3-8a627ac6eb29>\u001b[0m in \u001b[0;36m<module>\u001b[0;34m()\u001b[0m\n\u001b[1;32m     13\u001b[0m \u001b[0;34m\u001b[0m\u001b[0m\n\u001b[1;32m     14\u001b[0m \u001b[0;31m# get some random training images\u001b[0m\u001b[0;34m\u001b[0m\u001b[0;34m\u001b[0m\u001b[0;34m\u001b[0m\u001b[0m\n\u001b[0;32m---> 15\u001b[0;31m \u001b[0mdataiter\u001b[0m \u001b[0;34m=\u001b[0m \u001b[0miter\u001b[0m\u001b[0;34m(\u001b[0m\u001b[0mtrainloader\u001b[0m\u001b[0;34m)\u001b[0m\u001b[0;34m\u001b[0m\u001b[0;34m\u001b[0m\u001b[0m\n\u001b[0m\u001b[1;32m     16\u001b[0m \u001b[0mimages\u001b[0m\u001b[0;34m,\u001b[0m \u001b[0mlabels\u001b[0m \u001b[0;34m=\u001b[0m \u001b[0mdataiter\u001b[0m\u001b[0;34m.\u001b[0m\u001b[0mnext\u001b[0m\u001b[0;34m(\u001b[0m\u001b[0;34m)\u001b[0m\u001b[0;34m\u001b[0m\u001b[0;34m\u001b[0m\u001b[0m\n\u001b[1;32m     17\u001b[0m \u001b[0;34m\u001b[0m\u001b[0m\n",
            "\u001b[0;31mNameError\u001b[0m: name 'trainloader' is not defined"
          ]
        }
      ]
    },
    {
      "cell_type": "markdown",
      "metadata": {
        "id": "2HOu7lQRBfn7",
        "colab_type": "text"
      },
      "source": [
        "# Model Architecture\n",
        "* dropout, batch-norm, xavier_initialization등을 추가해준다"
      ]
    },
    {
      "cell_type": "code",
      "metadata": {
        "id": "kHp6yft9_MgP",
        "colab_type": "code",
        "colab": {
          "base_uri": "https://localhost:8080/",
          "height": 305
        },
        "outputId": "c6e4a102-c20b-4a10-a091-fec3682b1426"
      },
      "source": [
        "import torch.nn as nn\n",
        "import torch.nn.functional as F\n",
        "\n",
        "class MLP(nn.Module):\n",
        "    def __init__(self, in_dim, out_dim, hid_dim, n_layer, act, dropout, use_bn, use_xavier):\n",
        "        super(MLP, self).__init__()\n",
        "        self.in_dim = in_dim\n",
        "        self.out_dim = out_dim\n",
        "        self.hid_dim = hid_dim\n",
        "        self.n_layer = n_layer\n",
        "        self.act = act\n",
        "        # add dropout, use_bn, use_xavier\n",
        "        self.dropout = dropout\n",
        "        self.use_bn = use_bn\n",
        "        self.use_xavier = use_xavier\n",
        "        \n",
        "        # ===== Create Linear Layers ==== #\n",
        "        self.fc1 = nn.Linear(self.in_dim, self.hid_dim)\n",
        "        self.linears = nn.ModuleList()  # 여러개의 hid_layer 구성. nn.ModuleList()\n",
        "        self.bns = nn.ModuleList()\n",
        "        for i in range(self.n_layer-1):\n",
        "            self.linears.append(nn.Linear(self.hid_dim, self.hid_dim))\n",
        "            if self.use_bn:\n",
        "                self.bns.append(nn.BatchNorm1d(self.hid_dim))  # Applies Batch Normalization over a 2D or 3D input (a mini-batch of 1D inputs with optional additional channel dimension) as described in the paper\n",
        "\n",
        "        self.fc2 = nn.Linear(self.hid_dim, self.out_dim)\n",
        "\n",
        "        # ===== Create Activation Funciton ====== #\n",
        "        if self.act == 'relu':\n",
        "            self.act = nn.ReLU() \n",
        "        elif self.act == 'tanh':\n",
        "            self.act = nn.Tanh()\n",
        "        elif self.act == 'sigmoid':\n",
        "            self.act = nn.Sigmoid()\n",
        "        else:\n",
        "            raise ValueError('no valid activation function selected!')\n",
        "\n",
        "        # ===== Create Regularization Layer ===== #\n",
        "        self.dropout = nn.Dropout(self.dropout)\n",
        "        if self.use_xavier:\n",
        "            self.xavier_init()\n",
        "\n",
        "    def forward(self, x):\n",
        "        x = self.act(self.fc1(x))\n",
        "        for i in range(len(self.linears)):\n",
        "            x = self.act(self.linears[i](x))\n",
        "            x = self.bns[i](x)\n",
        "            x = self.dropout(x)\n",
        "        x = self.fc2(x)\n",
        "        return x\n",
        "\n",
        "    def xavier_init(self):\n",
        "        for linear in self.linears:\n",
        "            nn.init.xavier_normal_(linear.weight)\n",
        "            linear.bias.data.fill_(0.01)\n",
        "\n",
        "net = MLP(3072, 10, 100, 4, 'relu', 0.1, True, True)\n",
        "print(net)"
      ],
      "execution_count": 3,
      "outputs": [
        {
          "output_type": "stream",
          "text": [
            "MLP(\n",
            "  (fc1): Linear(in_features=3072, out_features=100, bias=True)\n",
            "  (linears): ModuleList(\n",
            "    (0): Linear(in_features=100, out_features=100, bias=True)\n",
            "    (1): Linear(in_features=100, out_features=100, bias=True)\n",
            "    (2): Linear(in_features=100, out_features=100, bias=True)\n",
            "  )\n",
            "  (bns): ModuleList(\n",
            "    (0): BatchNorm1d(100, eps=1e-05, momentum=0.1, affine=True, track_running_stats=True)\n",
            "    (1): BatchNorm1d(100, eps=1e-05, momentum=0.1, affine=True, track_running_stats=True)\n",
            "    (2): BatchNorm1d(100, eps=1e-05, momentum=0.1, affine=True, track_running_stats=True)\n",
            "  )\n",
            "  (fc2): Linear(in_features=100, out_features=10, bias=True)\n",
            "  (act): ReLU()\n",
            "  (dropout): Dropout(p=0.1, inplace=False)\n",
            ")\n"
          ],
          "name": "stdout"
        }
      ]
    },
    {
      "cell_type": "markdown",
      "metadata": {
        "id": "qnsuxJDuRYIy",
        "colab_type": "text"
      },
      "source": [
        "# Train, Validate, Test and Experiment"
      ]
    },
    {
      "cell_type": "code",
      "metadata": {
        "id": "O2yxQzx4RaaQ",
        "colab_type": "code",
        "colab": {}
      },
      "source": [
        "def train(net, partition, optimizer, criterion, args):\n",
        "    # train 함수 내에 trainloader 정의\n",
        "    trainloader = torch.utils.data.DataLoader(partition['train'],\n",
        "                                              batch_size = args.train_batch_size,\n",
        "                                              shuffle=True,\n",
        "                                              num_workers=2)\n",
        "    \n",
        "    net.train()\n",
        "    optimizer.zero_grad()\n",
        "\n",
        "    correct = 0\n",
        "    total = 0\n",
        "    train_loss = 0.0\n",
        "\n",
        "    for i, data in enumerate(trainloader, 0):  # data loader를 돌면서...!\n",
        "        # get the inputs\n",
        "        inputs, labels = data\n",
        "        inputs = inputs.view(-1, 3072)  # 입력값의 형상(shape)을 입력 레이어의 형상과 같게 만들어준다\n",
        "        inputs = inputs.cuda()  # GPU에 데이터를 올려준다\n",
        "        labels = labels.cuda()\n",
        "        outputs = net(inputs)\n",
        "\n",
        "        loss = criterion(outputs, labels)\n",
        "        loss.backward()\n",
        "        optimizer.step()\n",
        "\n",
        "        train_loss += loss.item()\n",
        "        _, predicted = torch.max(outputs.data, 1)\n",
        "        # print('print predicted: ', predicted.shape, predicted)\n",
        "        # print('ptin labels: ', labels)\n",
        "        total += labels.size(0)\n",
        "        correct += (predicted == labels).sum().item()\n",
        "\n",
        "    train_loss = train_loss / len(trainloader)\n",
        "    train_acc = 100 * correct / total\n",
        "    return net, train_loss, train_acc"
      ],
      "execution_count": 4,
      "outputs": []
    },
    {
      "cell_type": "code",
      "metadata": {
        "id": "K1vuxbt4rbFf",
        "colab_type": "code",
        "colab": {}
      },
      "source": [
        "def validate(net, partition, criterion, args):\n",
        "    valloader = torch.utils.data.DataLoader(partition['val'],\n",
        "                                            batch_size=args.test_batch_size,\n",
        "                                            shuffle=False,\n",
        "                                            num_workers=2)\n",
        "    net.eval()\n",
        "\n",
        "    correct = 0\n",
        "    total = 0\n",
        "    val_loss = 0\n",
        "\n",
        "    with torch.no_grad():\n",
        "        for data in valloader:\n",
        "            images, labels = data\n",
        "            images = images.view(-1, 3072)\n",
        "            images = images.cuda()\n",
        "            labels = labels.cuda()\n",
        "\n",
        "            outputs = net(images)\n",
        "            _, predicted = torch.max(outputs.data, 1)\n",
        "            total += labels.size(0)\n",
        "            correct += (predicted == labels).sum().item()\n",
        "        val_loss = val_loss / len(valloader)\n",
        "        val_acc = 100 * correct / total\n",
        "    return val_loss, val_acc"
      ],
      "execution_count": 9,
      "outputs": []
    },
    {
      "cell_type": "code",
      "metadata": {
        "id": "-Pn623L2rpdd",
        "colab_type": "code",
        "colab": {}
      },
      "source": [
        "def test(net, partition, args):\n",
        "    testloader = torch.utils.data.DataLoader(partition['test'],\n",
        "                                            batch_size=args.test_batch_size,\n",
        "                                            shuffle=False,\n",
        "                                            num_workers=2)\n",
        "    net.eval()\n",
        "\n",
        "    correct = 0\n",
        "    total = 0\n",
        "    test_loss = 0\n",
        "    with torch.no_grad():\n",
        "        for data, labels in testloader:\n",
        "            images = data\n",
        "            images = images.view(-1, 3072)\n",
        "            images = images.cuda()\n",
        "            labels = labels.cuda()\n",
        "            outputs = net(images)\n",
        "\n",
        "            _, predicted = torch.max(outputs.data, 1)\n",
        "            total += labels.size(0)\n",
        "            correct += (predicted == labels).sum().item()\n",
        "\n",
        "        test_acc = 100 * correct / total\n",
        "    return test_loss, test_acc"
      ],
      "execution_count": 13,
      "outputs": []
    },
    {
      "cell_type": "code",
      "metadata": {
        "id": "EEAGyWUxtFNw",
        "colab_type": "code",
        "colab": {}
      },
      "source": [
        "def experiment(partition, args):\n",
        "    import time\n",
        "    net = MLP(args.in_dim, args.out_dim, args.hid_dim, args.n_layer, args.act, args.dropout, args.use_bn, args.use_xavier)\n",
        "    net.cuda()\n",
        "\n",
        "    criterion = nn.CrossEntropyLoss()\n",
        "    if args.optim == 'SGD':\n",
        "        optimizer = optim.SGD(net.parameters(), lr=args.lr, weight_decay=args.l2)\n",
        "    elif args.optim == 'RMSprop':\n",
        "        optimizer = optim.RMSprop(net.parameters(), lr=args.lr, weight_decay=args.l2)\n",
        "    elif args.optim == 'Adam':\n",
        "        optimizer = optim.Adam(net.parameters(), lr=args.lr, weight_decay=args.l2)\n",
        "    else:\n",
        "        raise ValueError('In-valid optimizer choice')\n",
        "\n",
        "    for epoch in range(args.epoch):  # loop over the dataset multiple times\n",
        "        ts = time.time()\n",
        "        net, train_loss, train_acc = train(net, partition, optimizer, criterion, args)\n",
        "        val_loss, val_acc = validate(net, partition, criterion, args)\n",
        "        te = time.time()\n",
        "        print('Epoch {}, Acc(train/val): {:2.2f}/{:2.2f}, Loss(train/val) {:2.2f}/{:2.2f}, Took {:2.2f} sec'.format(epoch, train_acc, val_acc, train_loss, val_loss, te-ts))\n",
        "    test_acc = test(net, partition, args)\n",
        "    return train_loss, val_loss, train_acc, val_acc, test_acc"
      ],
      "execution_count": 7,
      "outputs": []
    },
    {
      "cell_type": "markdown",
      "metadata": {
        "id": "K0ngE4N2N8WY",
        "colab_type": "text"
      },
      "source": [
        "# Experiment"
      ]
    },
    {
      "cell_type": "code",
      "metadata": {
        "id": "72TSineQ5zx-",
        "colab_type": "code",
        "colab": {
          "base_uri": "https://localhost:8080/",
          "height": 1000
        },
        "outputId": "1cbcbda1-d86c-4bd0-f6c0-8712472f9d4a"
      },
      "source": [
        "import argparse\n",
        "\n",
        "# ===== Random Seed initialization ===== #\n",
        "seed = 123\n",
        "np.random.seed(seed)\n",
        "torch.manual_seed(seed)\n",
        "\n",
        "parser = argparse.ArgumentParser()\n",
        "args = parser.parse_args(\"\")\n",
        "\n",
        "# ===== Model Capacity ===== #\n",
        "args.in_dim = 3072\n",
        "args.out_dim = 10\n",
        "args.hid_dim = 100\n",
        "args.act = 'relu'\n",
        "\n",
        "# ===== Regularization ===== #\n",
        "args.dropout = 0.1\n",
        "args.use_bn = True\n",
        "args.l2 = 0.00001\n",
        "args.use_xavier = True\n",
        "\n",
        "# ===== Opitmizer & Training ===== #\n",
        "args.optim = 'SGD'  # RMSprop, SGD, RMSprop, ADAM....\n",
        "args.lr = 0.00005\n",
        "args.epoch = 20\n",
        "\n",
        "args.train_batch_size = 256\n",
        "args.test_batch_size = 1024\n",
        "\n",
        "# ===== Experiment Variable ===== #\n",
        "name_var1 = 'n_layer'\n",
        "name_var2 = 'hid_dim'\n",
        "list_var1 = [3, 5, 10, 20, 50, 100]\n",
        "list_var2 = [300, 500, 700, 1000]\n",
        "\n",
        "for var1 in list_var1:\n",
        "    for var2 in list_var2:\n",
        "        setattr(args, name_var1, var1)\n",
        "        setattr(args, name_var2, var2)\n",
        "        print(args)\n",
        "        result = experiment(partition, args)"
      ],
      "execution_count": null,
      "outputs": [
        {
          "output_type": "stream",
          "text": [
            "Namespace(act='relu', dropout=0.1, epoch=20, hid_dim=300, in_dim=3072, l2=1e-05, lr=5e-05, n_layer=3, optim='SGD', out_dim=10, test_batch_size=1024, train_batch_size=256, use_bn=True, use_xavier=True)\n",
            "Epoch 0, Acc(train/val): 25.57/35.13, Loss(train/val) 2.08/0.00, Took 5.99 sec\n",
            "Epoch 1, Acc(train/val): 36.35/39.99, Loss(train/val) 1.80/0.00, Took 5.95 sec\n",
            "Epoch 2, Acc(train/val): 39.95/42.07, Loss(train/val) 1.70/0.00, Took 5.97 sec\n",
            "Epoch 3, Acc(train/val): 42.40/43.29, Loss(train/val) 1.64/0.00, Took 5.97 sec\n",
            "Epoch 4, Acc(train/val): 44.38/44.08, Loss(train/val) 1.58/0.00, Took 5.91 sec\n",
            "Epoch 5, Acc(train/val): 46.01/45.90, Loss(train/val) 1.54/0.00, Took 5.98 sec\n",
            "Epoch 6, Acc(train/val): 47.54/46.25, Loss(train/val) 1.50/0.00, Took 5.94 sec\n",
            "Epoch 7, Acc(train/val): 49.10/46.78, Loss(train/val) 1.46/0.00, Took 5.95 sec\n",
            "Epoch 8, Acc(train/val): 49.98/47.29, Loss(train/val) 1.43/0.00, Took 5.96 sec\n",
            "Epoch 9, Acc(train/val): 51.03/47.86, Loss(train/val) 1.40/0.00, Took 6.07 sec\n",
            "Epoch 10, Acc(train/val): 51.61/48.02, Loss(train/val) 1.38/0.00, Took 6.08 sec\n",
            "Epoch 11, Acc(train/val): 52.56/47.95, Loss(train/val) 1.36/0.00, Took 6.12 sec\n",
            "Epoch 12, Acc(train/val): 53.33/48.36, Loss(train/val) 1.33/0.00, Took 6.01 sec\n",
            "Epoch 13, Acc(train/val): 54.47/48.63, Loss(train/val) 1.31/0.00, Took 6.05 sec\n",
            "Epoch 14, Acc(train/val): 55.06/48.77, Loss(train/val) 1.29/0.00, Took 5.88 sec\n",
            "Epoch 15, Acc(train/val): 55.77/49.13, Loss(train/val) 1.27/0.00, Took 5.98 sec\n",
            "Epoch 16, Acc(train/val): 56.18/48.56, Loss(train/val) 1.26/0.00, Took 5.99 sec\n",
            "Epoch 17, Acc(train/val): 56.91/49.66, Loss(train/val) 1.23/0.00, Took 5.98 sec\n",
            "Epoch 18, Acc(train/val): 57.84/49.22, Loss(train/val) 1.21/0.00, Took 5.92 sec\n",
            "Epoch 19, Acc(train/val): 58.23/49.20, Loss(train/val) 1.20/0.00, Took 5.94 sec\n",
            "Namespace(act='relu', dropout=0.1, epoch=20, hid_dim=500, in_dim=3072, l2=1e-05, lr=5e-05, n_layer=3, optim='SGD', out_dim=10, test_batch_size=1024, train_batch_size=256, use_bn=True, use_xavier=True)\n",
            "Epoch 0, Acc(train/val): 26.04/36.21, Loss(train/val) 2.06/0.00, Took 6.02 sec\n",
            "Epoch 1, Acc(train/val): 37.65/40.73, Loss(train/val) 1.77/0.00, Took 5.99 sec\n",
            "Epoch 2, Acc(train/val): 42.05/42.77, Loss(train/val) 1.65/0.00, Took 6.00 sec\n",
            "Epoch 3, Acc(train/val): 44.55/44.51, Loss(train/val) 1.58/0.00, Took 5.98 sec\n",
            "Epoch 4, Acc(train/val): 46.67/45.38, Loss(train/val) 1.52/0.00, Took 5.96 sec\n",
            "Epoch 5, Acc(train/val): 48.41/46.83, Loss(train/val) 1.48/0.00, Took 5.97 sec\n",
            "Epoch 6, Acc(train/val): 50.14/47.56, Loss(train/val) 1.44/0.00, Took 6.03 sec\n",
            "Epoch 7, Acc(train/val): 51.18/47.38, Loss(train/val) 1.40/0.00, Took 5.98 sec\n",
            "Epoch 8, Acc(train/val): 52.18/48.73, Loss(train/val) 1.37/0.00, Took 5.91 sec\n",
            "Epoch 9, Acc(train/val): 53.29/47.87, Loss(train/val) 1.34/0.00, Took 5.98 sec\n",
            "Epoch 10, Acc(train/val): 54.64/48.86, Loss(train/val) 1.31/0.00, Took 6.00 sec\n",
            "Epoch 11, Acc(train/val): 55.45/48.86, Loss(train/val) 1.28/0.00, Took 5.97 sec\n",
            "Epoch 12, Acc(train/val): 56.48/49.78, Loss(train/val) 1.25/0.00, Took 5.88 sec\n",
            "Epoch 13, Acc(train/val): 57.21/49.52, Loss(train/val) 1.23/0.00, Took 5.94 sec\n",
            "Epoch 14, Acc(train/val): 58.22/50.82, Loss(train/val) 1.20/0.00, Took 6.02 sec\n",
            "Epoch 15, Acc(train/val): 59.50/50.14, Loss(train/val) 1.18/0.00, Took 5.93 sec\n",
            "Epoch 16, Acc(train/val): 59.99/50.59, Loss(train/val) 1.16/0.00, Took 5.93 sec\n",
            "Epoch 17, Acc(train/val): 60.37/50.24, Loss(train/val) 1.14/0.00, Took 5.91 sec\n",
            "Epoch 18, Acc(train/val): 60.98/50.33, Loss(train/val) 1.13/0.00, Took 6.03 sec\n",
            "Epoch 19, Acc(train/val): 61.63/50.33, Loss(train/val) 1.10/0.00, Took 5.99 sec\n",
            "Namespace(act='relu', dropout=0.1, epoch=20, hid_dim=700, in_dim=3072, l2=1e-05, lr=5e-05, n_layer=3, optim='SGD', out_dim=10, test_batch_size=1024, train_batch_size=256, use_bn=True, use_xavier=True)\n",
            "Epoch 0, Acc(train/val): 27.20/37.15, Loss(train/val) 2.04/0.00, Took 5.93 sec\n",
            "Epoch 1, Acc(train/val): 39.28/42.04, Loss(train/val) 1.73/0.00, Took 5.98 sec\n",
            "Epoch 2, Acc(train/val): 43.48/44.08, Loss(train/val) 1.61/0.00, Took 6.01 sec\n",
            "Epoch 3, Acc(train/val): 46.08/45.78, Loss(train/val) 1.54/0.00, Took 5.98 sec\n",
            "Epoch 4, Acc(train/val): 48.25/46.74, Loss(train/val) 1.48/0.00, Took 5.98 sec\n",
            "Epoch 5, Acc(train/val): 49.92/47.60, Loss(train/val) 1.43/0.00, Took 5.95 sec\n",
            "Epoch 6, Acc(train/val): 51.69/48.34, Loss(train/val) 1.39/0.00, Took 5.99 sec\n",
            "Epoch 7, Acc(train/val): 53.13/49.14, Loss(train/val) 1.35/0.00, Took 5.94 sec\n",
            "Epoch 8, Acc(train/val): 54.67/49.38, Loss(train/val) 1.31/0.00, Took 5.97 sec\n",
            "Epoch 9, Acc(train/val): 56.04/49.80, Loss(train/val) 1.27/0.00, Took 5.98 sec\n",
            "Epoch 10, Acc(train/val): 57.27/50.07, Loss(train/val) 1.24/0.00, Took 5.97 sec\n",
            "Epoch 11, Acc(train/val): 58.38/50.22, Loss(train/val) 1.21/0.00, Took 6.00 sec\n",
            "Epoch 12, Acc(train/val): 59.13/50.14, Loss(train/val) 1.18/0.00, Took 6.05 sec\n",
            "Epoch 13, Acc(train/val): 60.74/50.25, Loss(train/val) 1.15/0.00, Took 5.97 sec\n",
            "Epoch 14, Acc(train/val): 61.56/50.94, Loss(train/val) 1.12/0.00, Took 6.00 sec\n",
            "Epoch 15, Acc(train/val): 62.53/50.24, Loss(train/val) 1.10/0.00, Took 5.99 sec\n",
            "Epoch 16, Acc(train/val): 63.23/50.10, Loss(train/val) 1.07/0.00, Took 5.89 sec\n",
            "Epoch 17, Acc(train/val): 64.09/50.54, Loss(train/val) 1.05/0.00, Took 5.95 sec\n",
            "Epoch 18, Acc(train/val): 65.09/50.32, Loss(train/val) 1.03/0.00, Took 5.99 sec\n",
            "Epoch 19, Acc(train/val): 66.33/50.60, Loss(train/val) 1.00/0.00, Took 5.96 sec\n",
            "Namespace(act='relu', dropout=0.1, epoch=20, hid_dim=1000, in_dim=3072, l2=1e-05, lr=5e-05, n_layer=3, optim='SGD', out_dim=10, test_batch_size=1024, train_batch_size=256, use_bn=True, use_xavier=True)\n",
            "Epoch 0, Acc(train/val): 27.63/37.61, Loss(train/val) 2.03/0.00, Took 6.01 sec\n",
            "Epoch 1, Acc(train/val): 40.30/43.27, Loss(train/val) 1.70/0.00, Took 6.15 sec\n",
            "Epoch 2, Acc(train/val): 44.90/44.44, Loss(train/val) 1.58/0.00, Took 6.06 sec\n",
            "Epoch 3, Acc(train/val): 47.76/46.77, Loss(train/val) 1.50/0.00, Took 5.94 sec\n",
            "Epoch 4, Acc(train/val): 50.02/47.04, Loss(train/val) 1.44/0.00, Took 5.91 sec\n",
            "Epoch 5, Acc(train/val): 51.84/47.77, Loss(train/val) 1.39/0.00, Took 6.03 sec\n",
            "Epoch 6, Acc(train/val): 53.91/48.78, Loss(train/val) 1.34/0.00, Took 5.96 sec\n",
            "Epoch 7, Acc(train/val): 55.19/48.58, Loss(train/val) 1.30/0.00, Took 5.91 sec\n",
            "Epoch 8, Acc(train/val): 56.48/49.07, Loss(train/val) 1.25/0.00, Took 5.94 sec\n",
            "Epoch 9, Acc(train/val): 58.03/49.00, Loss(train/val) 1.22/0.00, Took 5.94 sec\n",
            "Epoch 10, Acc(train/val): 59.34/49.58, Loss(train/val) 1.18/0.00, Took 6.00 sec\n",
            "Epoch 11, Acc(train/val): 61.04/50.06, Loss(train/val) 1.14/0.00, Took 5.96 sec\n",
            "Epoch 12, Acc(train/val): 62.41/50.46, Loss(train/val) 1.11/0.00, Took 5.96 sec\n",
            "Epoch 13, Acc(train/val): 63.70/50.90, Loss(train/val) 1.07/0.00, Took 5.99 sec\n",
            "Epoch 14, Acc(train/val): 64.74/51.21, Loss(train/val) 1.04/0.00, Took 6.03 sec\n",
            "Epoch 15, Acc(train/val): 66.23/51.51, Loss(train/val) 1.01/0.00, Took 5.97 sec\n",
            "Epoch 16, Acc(train/val): 67.45/51.88, Loss(train/val) 0.98/0.00, Took 5.95 sec\n",
            "Epoch 17, Acc(train/val): 68.30/51.51, Loss(train/val) 0.95/0.00, Took 5.96 sec\n",
            "Epoch 18, Acc(train/val): 69.61/51.62, Loss(train/val) 0.91/0.00, Took 5.92 sec\n",
            "Epoch 19, Acc(train/val): 70.78/51.63, Loss(train/val) 0.88/0.00, Took 5.98 sec\n",
            "Namespace(act='relu', dropout=0.1, epoch=20, hid_dim=300, in_dim=3072, l2=1e-05, lr=5e-05, n_layer=5, optim='SGD', out_dim=10, test_batch_size=1024, train_batch_size=256, use_bn=True, use_xavier=True)\n",
            "Epoch 0, Acc(train/val): 21.47/31.99, Loss(train/val) 2.18/0.00, Took 6.02 sec\n",
            "Epoch 1, Acc(train/val): 32.03/37.16, Loss(train/val) 1.91/0.00, Took 6.02 sec\n",
            "Epoch 2, Acc(train/val): 36.82/39.64, Loss(train/val) 1.78/0.00, Took 6.05 sec\n",
            "Epoch 3, Acc(train/val): 39.28/41.58, Loss(train/val) 1.71/0.00, Took 6.12 sec\n",
            "Epoch 4, Acc(train/val): 41.28/42.54, Loss(train/val) 1.65/0.00, Took 6.06 sec\n",
            "Epoch 5, Acc(train/val): 42.81/43.69, Loss(train/val) 1.61/0.00, Took 6.03 sec\n",
            "Epoch 6, Acc(train/val): 44.45/44.48, Loss(train/val) 1.57/0.00, Took 6.13 sec\n",
            "Epoch 7, Acc(train/val): 45.24/45.82, Loss(train/val) 1.54/0.00, Took 5.97 sec\n",
            "Epoch 8, Acc(train/val): 46.34/46.17, Loss(train/val) 1.51/0.00, Took 6.07 sec\n",
            "Epoch 9, Acc(train/val): 47.55/46.51, Loss(train/val) 1.48/0.00, Took 6.04 sec\n",
            "Epoch 10, Acc(train/val): 48.38/47.10, Loss(train/val) 1.46/0.00, Took 6.06 sec\n",
            "Epoch 11, Acc(train/val): 49.38/47.69, Loss(train/val) 1.43/0.00, Took 6.12 sec\n",
            "Epoch 12, Acc(train/val): 50.45/48.04, Loss(train/val) 1.41/0.00, Took 6.06 sec\n",
            "Epoch 13, Acc(train/val): 50.57/48.32, Loss(train/val) 1.39/0.00, Took 6.07 sec\n"
          ],
          "name": "stdout"
        }
      ]
    },
    {
      "cell_type": "code",
      "metadata": {
        "id": "YdqFYEcL4PRy",
        "colab_type": "code",
        "colab": {}
      },
      "source": [
        ""
      ],
      "execution_count": null,
      "outputs": []
    }
  ]
}