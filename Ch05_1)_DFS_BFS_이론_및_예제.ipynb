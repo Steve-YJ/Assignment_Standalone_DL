{
  "nbformat": 4,
  "nbformat_minor": 0,
  "metadata": {
    "colab": {
      "name": "Ch05. 1) DFS/BFS 이론 및 예제.ipynb",
      "provenance": [],
      "collapsed_sections": [],
      "authorship_tag": "ABX9TyN7hild67uHwKIlxThmpHdo",
      "include_colab_link": true
    },
    "kernelspec": {
      "name": "python3",
      "display_name": "Python 3"
    }
  },
  "cells": [
    {
      "cell_type": "markdown",
      "metadata": {
        "id": "view-in-github",
        "colab_type": "text"
      },
      "source": [
        "<a href=\"https://colab.research.google.com/github/Steve-YJ/Assignment_Standalone_DL/blob/master/Ch05_1)_DFS_BFS_%EC%9D%B4%EB%A1%A0_%EB%B0%8F_%EC%98%88%EC%A0%9C.ipynb\" target=\"_parent\"><img src=\"https://colab.research.google.com/assets/colab-badge.svg\" alt=\"Open In Colab\"/></a>"
      ]
    },
    {
      "cell_type": "markdown",
      "metadata": {
        "id": "2KF8nWTQok4t"
      },
      "source": [
        "## 탐색 알고리즘 DFS/BFS\n",
        "* <code>스택과 큐</code>, <code>재귀 함수</code>는 DFS와 BFS에서 가장 중요한 개념이라 앞서 간단하게 다뤄보았다\n",
        "* 지금부터는 탐색 알고리즘 DFS와 BFS에 대해 살펴보도록 한다"
      ]
    },
    {
      "cell_type": "markdown",
      "metadata": {
        "id": "5xlObVsZo9_D"
      },
      "source": [
        "## 1. DFS\n",
        "\n",
        "*  DFS는 Depth=First Search, 깊이 우선탐색이라고 부르며, 그래프에서 깊은 부분을 우선적으로 탐색하는 알고리즘이다\n",
        "* DFS를 설명하기 전에 먼저 `그래프(Graph)의 기본 구조`를 알아야한다\n",
        "    * ✅ 그래프의 기본 구조\n",
        "        * 그래프는 노드(Node)와 간선(Edge)로 표현되며 이 때 노드를 정점(Vertax)라고도 말한다. (Node == Vertax)\n",
        "    * 그래프 탐색이란 하나의 노드를 시작으로 다수의 노드를 방문하는 것을 말한다\n",
        "    * 또한 두 도느가 간선(Edge)으로 연결되어 있다면 '두 노드는 인접하다(Adjacent)'라고 표현한다\n",
        "\n"
      ]
    },
    {
      "cell_type": "markdown",
      "metadata": {
        "id": "_92Lm7mYqN53"
      },
      "source": [
        "![graph_node_edge.png](data:image/png;base64,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)"
      ]
    },
    {
      "cell_type": "markdown",
      "metadata": {
        "id": "mi0cWsfmrAae"
      },
      "source": [
        "위의 그림을 통해 노드와 엣지를 직관적으로 이해해보자<br>\n",
        "Node는 각 도시를 Edge는 각 도시를 연결하는 다리라고 할 수 있"
      ]
    },
    {
      "cell_type": "markdown",
      "metadata": {
        "id": "JYGVi5wHrJTa"
      },
      "source": [
        "* 프로그래밍에서 그래프(Graph)는 크게 2가지 방식으로 표현할 수 있는데 코딩 테스트에서는 이 두 방식 모두 필요하니 두 개념에 대해 바르게 알고 있도록 하자\n",
        "    * 인접 행렬(Adjacency Matrix): 2차원 배열로 그래프의 연결 관계를 표현하는 방식\n",
        "    * 인접 리스트(Adjacency List): 리스트로 그래프의 연결 관계를 표현하는 방식 "
      ]
    },
    {
      "cell_type": "markdown",
      "metadata": {
        "id": "54qhMMHrsHsu"
      },
      "source": [
        "![Untitled (38).png](data:image/png;base64,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)"
      ]
    },
    {
      "cell_type": "markdown",
      "metadata": {
        "id": "S_o3XQqarkDW"
      },
      "source": [
        "### 인접 행렬(Adjacency Matrix) 방식\n",
        "* 인접 행렬 방식은 2차원 배열에 각 노드가 연결된 형태를 기록하는 방식이다\n",
        "* 위와 같이 연결된 그래프를 인접 행렬로 표현할 때 파이썬에서는 2차원 리스트로 구현할 수 있다\n",
        "* 연결이 되어 있지 않은 노드끼리는 무한(infinity)의 비용이라고 작성한다.(실제 코드에서는 논리적으로 정답이 될 수 없는 큰 값 중에서 999999999, 987654321 등의 값으로 초기화하는 경우가 많다)\n",
        "* 다음의 예제를 통해 초기화를 해보"
      ]
    },
    {
      "cell_type": "code",
      "metadata": {
        "colab": {
          "base_uri": "https://localhost:8080/"
        },
        "id": "icbIEiSCtnRD",
        "outputId": "bc83148c-642f-48a2-cf29-6713c5fa6337"
      },
      "source": [
        "# 5-6.py 인접 행렬 방식 예제\n",
        "\n",
        "INF = 999999999  # 무한의 비용 선언\n",
        "\n",
        "# 2차원 리스트를 이용해 인접 행렬 표현\n",
        "graph = [\n",
        "         [0, 7, 5],\n",
        "         [7, 0, INF],\n",
        "         [5, INF, 0]\n",
        "]\n",
        "\n",
        "print(graph)"
      ],
      "execution_count": 1,
      "outputs": [
        {
          "output_type": "stream",
          "text": [
            "[[0, 7, 5], [7, 0, 999999999], [5, 999999999, 0]]\n"
          ],
          "name": "stdout"
        }
      ]
    },
    {
      "cell_type": "markdown",
      "metadata": {
        "id": "durPyMiSuAin"
      },
      "source": [
        "*그렇다면 인접 리스트(Adjacency List) 방식에서는 데이터를 어떤 방식으로 저장할까?*<br>\n",
        "\n",
        "인접 리스트 방식에서는 모든 노드에 연결된 노드에 대한 정보를 차례대로 연결하여 저장한다."
      ]
    },
    {
      "cell_type": "markdown",
      "metadata": {
        "id": "txAXbOHRuNmf"
      },
      "source": [
        "### 인접 리스트(Adjacency List) 방식\n",
        "* 인접 리스트 방식에서는 모든 노드에 연결된 노드에 대한 정보를 차례대로 연결하여 저장한다\n",
        "* 인접 리스트는 '연결 리스트'라는 자료구조를 이용해 구현한다\n",
        "* 파이썬에서는 기본 리스트 자료형을 통해 연결리스트를 구현할 수 있다\n",
        "* ✅ 파이썬으로 인접 리스트를 이용해 그래프를 표현하고자 할 때는 단순히 2차원 리스트를 이용하면 된다는 점만 기억하"
      ]
    },
    {
      "cell_type": "code",
      "metadata": {
        "colab": {
          "base_uri": "https://localhost:8080/"
        },
        "id": "RnG6mb46upv3",
        "outputId": "0c3b293e-1f28-4324-c898-a4025039c33a"
      },
      "source": [
        "# 5-7. 인접 리스트 방식 예제\n",
        "\n",
        "# 행(Row)이 3개인 2차원 리스트로 인접 리스트 표현\n",
        "graph = [[] for _ in range(3)]\n",
        "\n",
        "# 노드 0에 연결된 노드 정보 저장(노드, 거리)\n",
        "graph[0].append((1, 7))  # 1번 노드와 7의 거리로 저장되어있다\n",
        "graph[0].append((2, 5))\n",
        "\n",
        "# 노드 1에 연결된 노드 정보 저장(마찬가지 노드, 거리)\n",
        "graph[1].append((0, 7))\n",
        "\n",
        "# 노드 2에 연결된 노드 정보 저장(역시 마찬가지로 노드, 거리)\n",
        "graph[2].append((0, 5))\n",
        "\n",
        "print(graph)"
      ],
      "execution_count": 2,
      "outputs": [
        {
          "output_type": "stream",
          "text": [
            "[[(1, 7), (2, 5)], [(0, 7)], [(0, 5)]]\n"
          ],
          "name": "stdout"
        }
      ]
    },
    {
      "cell_type": "markdown",
      "metadata": {
        "id": "nXQg3t74vRcK"
      },
      "source": [
        "*이 두방식은 어떤 차이가 있는걸까?*"
      ]
    },
    {
      "cell_type": "markdown",
      "metadata": {
        "id": "q6MgVHa_vVaq"
      },
      "source": [
        "✅ 코딩 테스트를 위해 '메모리'와 '속도' 측면에서 살펴보도록 하자!"
      ]
    },
    {
      "cell_type": "markdown",
      "metadata": {
        "id": "6RtbKdaLvdmN"
      },
      "source": [
        "* 메모리 측면\n",
        "    * 메모리 측면에서 보면 인접 행렬 방식은 모든 관계를 저장하므로 노드의 개수가 많을수록 메모리가 불필요하게 낭비된다\n",
        "    * 반면 인접 리스트 방식은 연결된 정보만 저장하기 떄문에 메모리를 효율적으로 사용한다\n",
        "* 속도 측면\n",
        "    * 하지만 이와 같은 속성 때문에 인접 리스트 방식은 인접 행렬 방식에 비해 특정한 두 노드가 연결되어 있는지에 대한 정보를 얻는 속도가 느리다\n",
        "    * 인접 리스트 방식에서는 연결된 데이터를 하나씩 확인해야 하기 때문이다"
      ]
    },
    {
      "cell_type": "markdown",
      "metadata": {
        "id": "r7xJMLd8wGKX"
      },
      "source": [
        "예를 들어 노드 1과 노드 7이 연결되어 있는지 확인해보자.\n",
        "* 인접 행렬 방식에서는 graph[1][7]만 확인하면 된다\n",
        "* 반면 인접 리스트 방식에서는 노드 1에 대한 인접 리스트를 앞에서부터 차례대로 확인해야 한다\n",
        "* 그러므로 특정한 노드와 연결된 모든 인접 노드를 순회해야 하는 경우, 인접 리스트 방식이 인접 행렬 방식에 비해 메모리 공간의 낭비가 적다!"
      ]
    },
    {
      "cell_type": "markdown",
      "metadata": {
        "id": "RJIUkvwXz5PI"
      },
      "source": [
        "* ✅ 정리\n",
        "    * 메모리 측면에서는 모든 관계를 저장하는 인접 행렬(Adjacency Matrix) 방식보다 인접 리스트(Adjacency List) 방식이 더 효율적이다\n",
        "    * 특정한 노드와 연결된 모든 인접 노드를 순회해야 하는 경우 인접 리스트 방식이 메모리 공간의 낭비가 적다(완벽하게 이해가지는 않는다 -. 찾아보자) -> 인접 행렬방식이 모든 관계를 저장하는 것에 비해 인접 리스트 방식은 연결된 정보만 저장하기 때문에 메모리 효율적이라고 하지 않았던가!(수긍)"
      ]
    },
    {
      "cell_type": "markdown",
      "metadata": {
        "id": "Jm9nS0R63Ra1"
      },
      "source": [
        "*graph에 대한 이해를 마쳤으니, DFS로 돌아오자!*"
      ]
    },
    {
      "cell_type": "markdown",
      "metadata": {
        "id": "xOBshhmv3YRG"
      },
      "source": [
        "*DFS는 탐색을 위해서 사용되는 탐색 알고리즘이라고 했는데 구체적으로 어떻게 동작할까?*<br>\n",
        "\n",
        "* DFS는 깊이 우선 탐색 알고리즘이라고 했다\n",
        "* 이 알고리즘은 특정한 경로로 탐색하다가 특정한 상황에서 최대한 깊숙이 들어가서 노드를 방문한 후, 다시 돌아가 다른 경로로 탐색하는 알고리즘이다\n",
        "* DFS는 스택 자료구조를 이용하며 구체적인 동작 과정은 다음과 같다\n",
        "    * 1. 탐색 시작 노드를 스택에 삽입하고 방문 처리를 한다\n",
        "    * 2. 스택의 최상단 노드에 방문하지 않은 인접 노드가 있으면 그 인접 노드를 스택에 넣고 방문 처리 한다. 방문하지 않은 인접 노드가 없으면 스택에서 최상단 노드를 꺼낸다\n",
        "    * 3. 2번의 과정을 더 이상 수행할 수 없을 때까지 반복한다\n",
        "    * 여기서 방문 처리란, 스택에 한 번 삽입되어 처리된 노드가 다시 삽입되지 않게 체크하는 것을 의미한다. 방문 처리를 함으로써 각 노드를 한 번씩만 처리할 수 있다."
      ]
    },
    {
      "cell_type": "markdown",
      "metadata": {
        "id": "23gZOZl6v2YK"
      },
      "source": [
        "* 깊이 우선 탐색 알고리즘인 DFS는 스택 자료구조에 기초한다는 점에서 구현이 간단하다\n",
        "* 실제로는 스택을 쓰지 않아도 되며 탐색을 수행함에 있어서 데이터의 개수가 N개인 경우 *O*(*N*)의 시간이 소요된다는 특징이 있다\n",
        "* 또한 DFS는 스택을 이용하는 알고리즘이기 때문에 실제 구현은 재귀 함수를 이용했을 때 매우 간결하게 구현할 수 있다\n",
        "\n",
        "예제를 통해 구현해보도록 하자!"
      ]
    },
    {
      "cell_type": "code",
      "metadata": {
        "colab": {
          "base_uri": "https://localhost:8080/"
        },
        "id": "-D0s50c86-tf",
        "outputId": "8cbb4c04-90ea-4519-cd5e-26d7a7b95bdd"
      },
      "source": [
        "# 각 노드가 연결된 정보를 리스트 자료형으로 표현(2차원 리스트)\n",
        "graph = [\n",
        "         [],\n",
        "         [2, 3, 8],\n",
        "         [1, 7],\n",
        "         [1, 4, 5],\n",
        "         [3, 5],\n",
        "         [3, 4],\n",
        "         [7],\n",
        "         [2, 6, 8],\n",
        "         [1, 7]\n",
        "]\n",
        "\n",
        "# 각 노드가 방문된 정보를 리스트 자료형으로 표현(1차원 리스트)\n",
        "visited = [False] * 9\n",
        "\n",
        "# DFS 메서드 정의\n",
        "def dfs(graph, v, visited): # v는 뭘까?\n",
        "    # 현재 노드를 방문 처리\n",
        "    visited[v] = True       # v는 탐색의 시작노드!\n",
        "    print(v, end=' ')  # 방문한 노드를 출력한다\n",
        "    # 현재 노드와 연결된 다른 노드를 재귀적으로 방문\n",
        "    for i in graph[v]:\n",
        "        if not visited[i]:\n",
        "            dfs(graph, i, visited)\n",
        "\n",
        "# 정의된 DFS 함수 호출\n",
        "dfs(graph, 1, visited)"
      ],
      "execution_count": 4,
      "outputs": [
        {
          "output_type": "stream",
          "text": [
            "1 2 7 6 8 3 4 5 "
          ],
          "name": "stdout"
        }
      ]
    },
    {
      "cell_type": "markdown",
      "metadata": {
        "id": "97uw0g60rji7"
      },
      "source": [
        "여기까지가 DFS였다! Appendix부터 차례대로 공부하니깐 더 할만하다!"
      ]
    },
    {
      "cell_type": "markdown",
      "metadata": {
        "id": "sQSp6T6i8pdw"
      },
      "source": [
        "## 2. BFS\n",
        "* BFS(Breadth First Search) 알고리즘은 '너비 우선 탐색'이라는 의미를 가진다. 쉽게 말해 가까운 노드부터 탐색하는 알고리즘이다\n",
        "* DFS는 최대한 멀리 있는 노드를 우선적으로 탐색하는 방식으로 동작한다고 했는데, BFS는 그 반대다\n",
        "\n",
        "*그렇다면 BFS는 어떻게 구현할 수 있을까?*\n",
        "<br>\n",
        "\n",
        "* BFS 구현에서는 선입선출 방식인 큐 자료구조를 이용하는 것이 정석이다\n",
        "* 인접한 노드를 반복적으로 큐에 넣도록 알고리즘을 작성하면 자연스럽게 먼저 들어온 것이 먼저 나가게 되어, 가까운 노드부터 탐색을 진행하게 된다(인접 노드를 큐에 넣어주기만 하면 자연스럽게 먼저 들어온 것이 먼저 나가게 된다는구나!)\n",
        "* 자세한 동작 방식은 다음과 같다\n",
        "    * 1. 탐색 시작 노드를 큐에 삽입하고 방문 처리를 한다.\n",
        "    * 2. 큐에서 노드를 꺼내 해당 노드의 인접 노드 중에서 방문하지 않은 노드를 모두 큐에 삽입하고 방문 처리를 한다.\n",
        "    * 3. 2번의 과정을 더 이상 수행할 수 없을 때까지 반복한다."
      ]
    },
    {
      "cell_type": "markdown",
      "metadata": {
        "id": "4NfHcUaXChRn"
      },
      "source": [
        "* 💡 잠깐 생각해보기!  \n",
        "    * DFS에서는 탐색의 시작 노드를 스택에 삽입했다면 BFS에서는 탐색의 시작 노드를 큐에 삽입하는구나\n",
        "    * BFS에서는 큐에서 모든 노드를 꺼내고 해당 노드의 인접 노드 중에서 방문하지 않은 노드를 모두 큐에 삽입하고 방문처리를 하는군...!\n",
        "        * 여기서 차이가 발생하는구나!?"
      ]
    },
    {
      "cell_type": "markdown",
      "metadata": {
        "id": "41JVNK9ODLKr"
      },
      "source": [
        "* 너비 우선 탐색 알고리즘인 BFS는 큐 자료구조에 기초한다는 점에서 구현이 간단하다\n",
        "* 실제로 구현함에 있어 앞서 언급한 대로 deque 라이브러리를 사용하는 것이 좋다\n",
        "* 탐색을 수행함에 있어서는 O(N)의 시간이 소요된다\n",
        "* 일반적인 경우 실제 수행 시간은 DFS보다 좋은 편이라는 점까지만 추가로 기억하자!"
      ]
    },
    {
      "cell_type": "code",
      "metadata": {
        "id": "NhRFCbvFEfEH"
      },
      "source": [
        "# 5-9.py BFS 예제\n",
        "\n",
        "from collections import deque\n",
        "\n",
        "\n",
        "# 각 노드가 연결된 정보를 리스트 자료형으로 표현(2차원 리스트)\n",
        "graph = [\n",
        "         [],\n",
        "         [2, 3, 8],\n",
        "         [1, 7],\n",
        "         [1, 4, 5],\n",
        "         [3, 5],\n",
        "         [3, 4],\n",
        "         [7],\n",
        "         [2, 6, 8],\n",
        "         [1, 7]\n",
        "]\n",
        "\n",
        "# 각 노드가 방문된 정보를 리스트 자료형으로 표현(1차원 리스트)\n",
        "visited = [False] * 9\n",
        "\n",
        "# BFS 메서드 정의\n",
        "def bfs(graph, start, visited):\n",
        "    # queue 선언\n",
        "    queue = deque([start])\n",
        "    # 탐색 시작노드 방문처리\n",
        "    visited[start] = True\n",
        "    # 큐가 빌때까지 반복한다\n",
        "    while queue:\n",
        "        # 큐의 맨 처음 원소를 팝해준다\n",
        "        v = queue.popleft()\n",
        "        print(v, end=' ')\n",
        "        for i in graph[v]:\n",
        "            if not visited[i]:  # 방문하지 않았다면\n",
        "                queue.append(i)\n",
        "                visited[i] = True"
      ],
      "execution_count": 11,
      "outputs": []
    },
    {
      "cell_type": "code",
      "metadata": {
        "colab": {
          "base_uri": "https://localhost:8080/"
        },
        "id": "BKN11bcbriv-",
        "outputId": "40508406-5de0-48f4-ac8a-68575760f462"
      },
      "source": [
        "bfs(graph, 1, visited)"
      ],
      "execution_count": 12,
      "outputs": [
        {
          "output_type": "stream",
          "text": [
            "1 2 3 8 7 4 5 6 "
          ],
          "name": "stdout"
        }
      ]
    },
    {
      "cell_type": "code",
      "metadata": {
        "id": "4o2MjBQ2pAJi"
      },
      "source": [
        ""
      ],
      "execution_count": null,
      "outputs": []
    },
    {
      "cell_type": "code",
      "metadata": {
        "id": "VI9QJomipAi7"
      },
      "source": [
        ""
      ],
      "execution_count": null,
      "outputs": []
    },
    {
      "cell_type": "code",
      "metadata": {
        "id": "Cum4PgR_pAlE"
      },
      "source": [
        ""
      ],
      "execution_count": null,
      "outputs": []
    },
    {
      "cell_type": "markdown",
      "metadata": {
        "id": "XGf9PHOapAnO"
      },
      "source": [
        "## 2. BFS"
      ]
    },
    {
      "cell_type": "code",
      "metadata": {
        "id": "Hox0FBThpB3S"
      },
      "source": [
        ""
      ],
      "execution_count": null,
      "outputs": []
    },
    {
      "cell_type": "code",
      "metadata": {
        "id": "kdkWKySeo9Uq"
      },
      "source": [
        ""
      ],
      "execution_count": null,
      "outputs": []
    },
    {
      "cell_type": "code",
      "metadata": {
        "id": "7QBShGG0o8ul"
      },
      "source": [
        ""
      ],
      "execution_count": null,
      "outputs": []
    },
    {
      "cell_type": "code",
      "metadata": {
        "id": "-XKPxOMKo7A6"
      },
      "source": [
        ""
      ],
      "execution_count": null,
      "outputs": []
    },
    {
      "cell_type": "code",
      "metadata": {
        "id": "FgnUWBcQoeD3"
      },
      "source": [
        ""
      ],
      "execution_count": null,
      "outputs": []
    }
  ]
}