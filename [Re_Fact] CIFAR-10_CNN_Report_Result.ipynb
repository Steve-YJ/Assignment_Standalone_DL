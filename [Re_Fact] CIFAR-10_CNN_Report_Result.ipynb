{
  "nbformat": 4,
  "nbformat_minor": 0,
  "metadata": {
    "colab": {
      "name": "Lab7. Basic CNN.ipynb",
      "provenance": [],
      "collapsed_sections": [],
      "machine_shape": "hm",
      "authorship_tag": "ABX9TyO7deODubXOorGmoCR5+f2k",
      "include_colab_link": true
    },
    "kernelspec": {
      "name": "python3",
      "display_name": "Python 3"
    },
    "accelerator": "GPU",
    "widgets": {
      "application/vnd.jupyter.widget-state+json": {
        "c38fc0d3621d42edb002754424cd244f": {
          "model_module": "@jupyter-widgets/controls",
          "model_name": "HBoxModel",
          "state": {
            "_view_name": "HBoxView",
            "_dom_classes": [],
            "_model_name": "HBoxModel",
            "_view_module": "@jupyter-widgets/controls",
            "_model_module_version": "1.5.0",
            "_view_count": null,
            "_view_module_version": "1.5.0",
            "box_style": "",
            "layout": "IPY_MODEL_8406ddf5dcc3439b91d371bc8f79dbd4",
            "_model_module": "@jupyter-widgets/controls",
            "children": [
              "IPY_MODEL_bf3d7c4abe1e426ba0b85ab7cb3a7d04",
              "IPY_MODEL_063c1529d6f2446c9d3d1af9c55b0c9e"
            ]
          }
        },
        "8406ddf5dcc3439b91d371bc8f79dbd4": {
          "model_module": "@jupyter-widgets/base",
          "model_name": "LayoutModel",
          "state": {
            "_view_name": "LayoutView",
            "grid_template_rows": null,
            "right": null,
            "justify_content": null,
            "_view_module": "@jupyter-widgets/base",
            "overflow": null,
            "_model_module_version": "1.2.0",
            "_view_count": null,
            "flex_flow": null,
            "width": null,
            "min_width": null,
            "border": null,
            "align_items": null,
            "bottom": null,
            "_model_module": "@jupyter-widgets/base",
            "top": null,
            "grid_column": null,
            "overflow_y": null,
            "overflow_x": null,
            "grid_auto_flow": null,
            "grid_area": null,
            "grid_template_columns": null,
            "flex": null,
            "_model_name": "LayoutModel",
            "justify_items": null,
            "grid_row": null,
            "max_height": null,
            "align_content": null,
            "visibility": null,
            "align_self": null,
            "height": null,
            "min_height": null,
            "padding": null,
            "grid_auto_rows": null,
            "grid_gap": null,
            "max_width": null,
            "order": null,
            "_view_module_version": "1.2.0",
            "grid_template_areas": null,
            "object_position": null,
            "object_fit": null,
            "grid_auto_columns": null,
            "margin": null,
            "display": null,
            "left": null
          }
        },
        "bf3d7c4abe1e426ba0b85ab7cb3a7d04": {
          "model_module": "@jupyter-widgets/controls",
          "model_name": "FloatProgressModel",
          "state": {
            "_view_name": "ProgressView",
            "style": "IPY_MODEL_0606fcb7ac384b1cb5054b5389775d9c",
            "_dom_classes": [],
            "description": "",
            "_model_name": "FloatProgressModel",
            "bar_style": "info",
            "max": 1,
            "_view_module": "@jupyter-widgets/controls",
            "_model_module_version": "1.5.0",
            "value": 1,
            "_view_count": null,
            "_view_module_version": "1.5.0",
            "orientation": "horizontal",
            "min": 0,
            "description_tooltip": null,
            "_model_module": "@jupyter-widgets/controls",
            "layout": "IPY_MODEL_9ed7ce916d334d7aa427fae1c016d0ac"
          }
        },
        "063c1529d6f2446c9d3d1af9c55b0c9e": {
          "model_module": "@jupyter-widgets/controls",
          "model_name": "HTMLModel",
          "state": {
            "_view_name": "HTMLView",
            "style": "IPY_MODEL_eb5a47c7dc66437697e55010c5dc0c44",
            "_dom_classes": [],
            "description": "",
            "_model_name": "HTMLModel",
            "placeholder": "​",
            "_view_module": "@jupyter-widgets/controls",
            "_model_module_version": "1.5.0",
            "value": " 170500096/? [00:20&lt;00:00, 31060401.19it/s]",
            "_view_count": null,
            "_view_module_version": "1.5.0",
            "description_tooltip": null,
            "_model_module": "@jupyter-widgets/controls",
            "layout": "IPY_MODEL_9db55adce6c3462bbc8d62f4cefc69fa"
          }
        },
        "0606fcb7ac384b1cb5054b5389775d9c": {
          "model_module": "@jupyter-widgets/controls",
          "model_name": "ProgressStyleModel",
          "state": {
            "_view_name": "StyleView",
            "_model_name": "ProgressStyleModel",
            "description_width": "initial",
            "_view_module": "@jupyter-widgets/base",
            "_model_module_version": "1.5.0",
            "_view_count": null,
            "_view_module_version": "1.2.0",
            "bar_color": null,
            "_model_module": "@jupyter-widgets/controls"
          }
        },
        "9ed7ce916d334d7aa427fae1c016d0ac": {
          "model_module": "@jupyter-widgets/base",
          "model_name": "LayoutModel",
          "state": {
            "_view_name": "LayoutView",
            "grid_template_rows": null,
            "right": null,
            "justify_content": null,
            "_view_module": "@jupyter-widgets/base",
            "overflow": null,
            "_model_module_version": "1.2.0",
            "_view_count": null,
            "flex_flow": null,
            "width": null,
            "min_width": null,
            "border": null,
            "align_items": null,
            "bottom": null,
            "_model_module": "@jupyter-widgets/base",
            "top": null,
            "grid_column": null,
            "overflow_y": null,
            "overflow_x": null,
            "grid_auto_flow": null,
            "grid_area": null,
            "grid_template_columns": null,
            "flex": null,
            "_model_name": "LayoutModel",
            "justify_items": null,
            "grid_row": null,
            "max_height": null,
            "align_content": null,
            "visibility": null,
            "align_self": null,
            "height": null,
            "min_height": null,
            "padding": null,
            "grid_auto_rows": null,
            "grid_gap": null,
            "max_width": null,
            "order": null,
            "_view_module_version": "1.2.0",
            "grid_template_areas": null,
            "object_position": null,
            "object_fit": null,
            "grid_auto_columns": null,
            "margin": null,
            "display": null,
            "left": null
          }
        },
        "eb5a47c7dc66437697e55010c5dc0c44": {
          "model_module": "@jupyter-widgets/controls",
          "model_name": "DescriptionStyleModel",
          "state": {
            "_view_name": "StyleView",
            "_model_name": "DescriptionStyleModel",
            "description_width": "",
            "_view_module": "@jupyter-widgets/base",
            "_model_module_version": "1.5.0",
            "_view_count": null,
            "_view_module_version": "1.2.0",
            "_model_module": "@jupyter-widgets/controls"
          }
        },
        "9db55adce6c3462bbc8d62f4cefc69fa": {
          "model_module": "@jupyter-widgets/base",
          "model_name": "LayoutModel",
          "state": {
            "_view_name": "LayoutView",
            "grid_template_rows": null,
            "right": null,
            "justify_content": null,
            "_view_module": "@jupyter-widgets/base",
            "overflow": null,
            "_model_module_version": "1.2.0",
            "_view_count": null,
            "flex_flow": null,
            "width": null,
            "min_width": null,
            "border": null,
            "align_items": null,
            "bottom": null,
            "_model_module": "@jupyter-widgets/base",
            "top": null,
            "grid_column": null,
            "overflow_y": null,
            "overflow_x": null,
            "grid_auto_flow": null,
            "grid_area": null,
            "grid_template_columns": null,
            "flex": null,
            "_model_name": "LayoutModel",
            "justify_items": null,
            "grid_row": null,
            "max_height": null,
            "align_content": null,
            "visibility": null,
            "align_self": null,
            "height": null,
            "min_height": null,
            "padding": null,
            "grid_auto_rows": null,
            "grid_gap": null,
            "max_width": null,
            "order": null,
            "_view_module_version": "1.2.0",
            "grid_template_areas": null,
            "object_position": null,
            "object_fit": null,
            "grid_auto_columns": null,
            "margin": null,
            "display": null,
            "left": null
          }
        }
      }
    }
  },
  "cells": [
    {
      "cell_type": "markdown",
      "metadata": {
        "id": "view-in-github",
        "colab_type": "text"
      },
      "source": [
        "<a href=\"https://colab.research.google.com/github/Steve-YJ/Assignment_Standalone_DL/blob/master/Lab7_Basic_CNN.ipynb\" target=\"_parent\"><img src=\"https://colab.research.google.com/assets/colab-badge.svg\" alt=\"Open In Colab\"/></a>"
      ]
    },
    {
      "cell_type": "markdown",
      "metadata": {
        "id": "ob3z48HLbj3s",
        "colab_type": "text"
      },
      "source": [
        "# Import Library"
      ]
    },
    {
      "cell_type": "code",
      "metadata": {
        "id": "YbRatYHYnR8r",
        "colab_type": "code",
        "colab": {}
      },
      "source": [
        "! mkdir results"
      ],
      "execution_count": 62,
      "outputs": []
    },
    {
      "cell_type": "code",
      "metadata": {
        "id": "K3DT_zIVblB4",
        "colab_type": "code",
        "colab": {}
      },
      "source": [
        "import torch\n",
        "import torchvision\n",
        "import torchvision.transforms as transforms\n",
        "import torch.nn as nn\n",
        "import torch.nn.functional as F\n",
        "import torch.optim as optim\n",
        "import argparse\n",
        "import numpy as np\n",
        "import time\n",
        "from copy import deepcopy # Add Deepcopy for args"
      ],
      "execution_count": 1,
      "outputs": []
    },
    {
      "cell_type": "markdown",
      "metadata": {
        "id": "PE5zxkapblMI",
        "colab_type": "text"
      },
      "source": [
        "# Data Preparation"
      ]
    },
    {
      "cell_type": "code",
      "metadata": {
        "id": "0bahXTR-cBgA",
        "colab_type": "code",
        "colab": {
          "base_uri": "https://localhost:8080/",
          "height": 103,
          "referenced_widgets": [
            "c38fc0d3621d42edb002754424cd244f",
            "8406ddf5dcc3439b91d371bc8f79dbd4",
            "bf3d7c4abe1e426ba0b85ab7cb3a7d04",
            "063c1529d6f2446c9d3d1af9c55b0c9e",
            "0606fcb7ac384b1cb5054b5389775d9c",
            "9ed7ce916d334d7aa427fae1c016d0ac",
            "eb5a47c7dc66437697e55010c5dc0c44",
            "9db55adce6c3462bbc8d62f4cefc69fa"
          ]
        },
        "outputId": "5129cfbe-279b-4db1-a86d-333dabc8565a"
      },
      "source": [
        "transform = transforms.Compose(\n",
        "    [transforms.ToTensor(),\n",
        "     transforms.Normalize((0.5, 0.5, 0.5), (0.5, 0.5, 0.5))])\n",
        "\n",
        "trainset = torchvision.datasets.CIFAR10(root='./data', train=True,\n",
        "                                        download=True, transform=transform)\n",
        "trainset, valset = torch.utils.data.random_split(trainset, [40000, 10000])\n",
        "testset = torchvision.datasets.CIFAR10(root='./data', train=False,\n",
        "                                       download=True, transform=transform)\n",
        "partition = {'train': trainset, 'val':valset, 'test':testset}"
      ],
      "execution_count": 2,
      "outputs": [
        {
          "output_type": "stream",
          "text": [
            "Downloading https://www.cs.toronto.edu/~kriz/cifar-10-python.tar.gz to ./data/cifar-10-python.tar.gz\n"
          ],
          "name": "stdout"
        },
        {
          "output_type": "display_data",
          "data": {
            "application/vnd.jupyter.widget-view+json": {
              "model_id": "c38fc0d3621d42edb002754424cd244f",
              "version_minor": 0,
              "version_major": 2
            },
            "text/plain": [
              "HBox(children=(FloatProgress(value=1.0, bar_style='info', max=1.0), HTML(value='')))"
            ]
          },
          "metadata": {
            "tags": []
          }
        },
        {
          "output_type": "stream",
          "text": [
            "Extracting ./data/cifar-10-python.tar.gz to ./data\n",
            "Files already downloaded and verified\n"
          ],
          "name": "stdout"
        }
      ]
    },
    {
      "cell_type": "markdown",
      "metadata": {
        "id": "P7QgCRS7bnA6",
        "colab_type": "text"
      },
      "source": [
        "# Model Architecture\n",
        "* 📌 <code>MLP -> CNN</code>\n",
        "    * MLP에서 CNN으로 모델을 교체해준다"
      ]
    },
    {
      "cell_type": "code",
      "metadata": {
        "id": "DIbI78xveD2c",
        "colab_type": "code",
        "colab": {}
      },
      "source": [
        "class CNN1(nn.Module):\n",
        "    def __init__(self):\n",
        "        super(CNN, self).__init__()\n",
        "        # 기본적인 CNN 구조를 만들어보자!\n",
        "        self.conv1 = nn.Conv2d(in_channels = 3,\n",
        "                               out_channels = 64,\n",
        "                               kernel_size = 3,\n",
        "                               stride = 1,\n",
        "                               padding=1)\n",
        "        self.act = nn.ReLU()\n",
        "        # Add MaxPool2D\n",
        "        self.maxpool1 = nn.MaxPool2d(kernel_size=2,\n",
        "                                     stride=2)\n",
        "        self.conv2 = nn.Conv2d(in_channels=64,\n",
        "                               out_channels=256,\n",
        "                               kernel_size=5,\n",
        "                               stride=1,\n",
        "                               padding=2)\n",
        "        # Add FC Layer\n",
        "        self.fc = nn.Linear(65536, 10)  # 10-way Classification\n",
        "        \n",
        "    def forward(self, x):\n",
        "        x = self.conv1(x)\n",
        "        x = self.act(x)\n",
        "        x = self.conv2(x)\n",
        "        x = self.act(x)\n",
        "        x = self.maxpool1(x)  # [N, 256, 32, 32] -> [N, 256, 16, 16]\n",
        "        x = x.view(x.size(0), -1)   # batch_size Dimension은 유지시켜준다\n",
        "                                    # x.size(0): N(batch_num)\n",
        "        x = self.fc(x)\n",
        "        return x   "
      ],
      "execution_count": 40,
      "outputs": []
    },
    {
      "cell_type": "markdown",
      "metadata": {
        "id": "8S2fNL29e_cJ",
        "colab_type": "text"
      },
      "source": [
        "### Make VGG Architecture"
      ]
    },
    {
      "cell_type": "code",
      "metadata": {
        "id": "OnTaUBPTe31v",
        "colab_type": "code",
        "colab": {}
      },
      "source": [
        "\"\"\"\n",
        "Reference: https://github.com/kuangliu/pytorch-cifar/blob/master/models/vgg.py\n",
        "\"\"\""
      ],
      "execution_count": null,
      "outputs": []
    },
    {
      "cell_type": "code",
      "metadata": {
        "id": "bexme4gKe3cs",
        "colab_type": "code",
        "colab": {}
      },
      "source": [
        "\n",
        "cfg = {\n",
        "    'VGG11': [64, 'M', 128, 'M', 256, 256, 'M', 512, 512, 'M', 512, 512, 'M'],\n",
        "    'VGG13': [64, 64, 'M', 128, 128, 'M', 256, 256, 'M', 512, 512, 'M', 512, 512, 'M'],\n",
        "    'VGG16': [64, 64, 'M', 128, 128, 'M', 256, 256, 256, 'M', 512, 512, 512, 'M', 512, 512, 512, 'M'],\n",
        "    'VGG19': [64, 64, 'M', 128, 128, 'M', 256, 256, 256, 256, 'M', 512, 512, 512, 512, 'M', 512, 512, 512, 512, 'M'],\n",
        "}"
      ],
      "execution_count": 31,
      "outputs": []
    },
    {
      "cell_type": "code",
      "metadata": {
        "id": "RxZbbjAle7yO",
        "colab_type": "code",
        "colab": {}
      },
      "source": [
        "class CNN(nn.Module):\n",
        "    \n",
        "    def __init__(self, model_code, in_channels, out_dim, act, use_bn):\n",
        "        super(CNN, self).__init__()\n",
        "        if act == 'relu':\n",
        "            self.act = nn.ReLU()\n",
        "        elif act == 'sigmoid':\n",
        "            self.act = nn.Sigmoid()\n",
        "        elif act == 'tanh':\n",
        "            self.cat = nn.Tanh()\n",
        "        else:\n",
        "            raise ValueError(\"Not a valid activation function code\")\n",
        "\n",
        "        self.layers = self._make_layers(model_code, in_channels, use_bn)  # private function\n",
        "        self.linear = nn.Linear(512, 10)\n",
        "        self.classifier = nn.Sequential(nn.Linear(512, 256),\n",
        "                                        self.act,\n",
        "                                        nn.Linear(256, out_dim))  # 마지막 레이어에서는 Activation Function을 거치지 않는다\n",
        "\n",
        "    def forward(self, x):\n",
        "        x = self.layers(x)\n",
        "        x = x.view(x.size(0), -1)\n",
        "        x = self.classifier(x)\n",
        "        return x\n",
        "\n",
        "    def _make_layers(self, model_code, in_channels, use_bn):\n",
        "        layers = []  # ModuleLIst를 만들어야하지 않아요?\n",
        "                     # A. list로 만들어 Sequential함수 사용\n",
        "        for x in cfg[model_code]:\n",
        "            if x == 'M':\n",
        "                layers += [nn.MaxPool2d(kernel_size=2, stride=2)]\n",
        "            else:\n",
        "                layers += [nn.Conv2d(in_channels=in_channels, \n",
        "                                     out_channels = x,\n",
        "                                     kernel_size=3,\n",
        "                                     stride=1,\n",
        "                                     padding=1)]\n",
        "                if use_bn:\n",
        "                    layers += [nn.BatchNorm2d(x)]         \n",
        "                layers += [self.act]  # 여기서 끝냈을 때 문제점이 있을까?\n",
        "                in_channels = x\n",
        "        return nn.Sequential(*layers)"
      ],
      "execution_count": 60,
      "outputs": []
    },
    {
      "cell_type": "code",
      "metadata": {
        "id": "YmNau_n3gMO6",
        "colab_type": "code",
        "colab": {
          "base_uri": "https://localhost:8080/",
          "height": 35
        },
        "outputId": "8db25a72-062e-486e-9815-06fcd2cd2db5"
      },
      "source": [
        "def dim_check():\n",
        "    net = CNN('VGG11', 3)\n",
        "    x = torch.randn(2, 3, 32, 32)\n",
        "    return net(x).shape\n",
        "\n",
        "dim_check()"
      ],
      "execution_count": 51,
      "outputs": [
        {
          "output_type": "execute_result",
          "data": {
            "text/plain": [
              "torch.Size([2, 10])"
            ]
          },
          "metadata": {
            "tags": []
          },
          "execution_count": 51
        }
      ]
    },
    {
      "cell_type": "markdown",
      "metadata": {
        "id": "d-QVbfL_iHhP",
        "colab_type": "text"
      },
      "source": [
        "마지막 layer가 1x1이 되도 되는거야?<br>\n",
        "마지막 layer는 전체 이미지를 보고 있다"
      ]
    },
    {
      "cell_type": "markdown",
      "metadata": {
        "id": "Klt-XpCogRkB",
        "colab_type": "text"
      },
      "source": [
        "📌 <code>차원수를 확인해주는 것</code>이 필요하다!"
      ]
    },
    {
      "cell_type": "code",
      "metadata": {
        "id": "fdvHx04QgfWk",
        "colab_type": "code",
        "colab": {
          "base_uri": "https://localhost:8080/",
          "height": 35
        },
        "outputId": "8b72b2df-59e6-467b-cd07-4609f865d373"
      },
      "source": [
        "def dim_check():  # dimension check function\n",
        "    net = CNN()\n",
        "    x = torch.randn(20, 3, 32, 32)\n",
        "    return net(x).shape  # Expect (20, 10)\n",
        "\n",
        "dim_check()"
      ],
      "execution_count": 19,
      "outputs": [
        {
          "output_type": "execute_result",
          "data": {
            "text/plain": [
              "torch.Size([20, 10])"
            ]
          },
          "metadata": {
            "tags": []
          },
          "execution_count": 19
        }
      ]
    },
    {
      "cell_type": "markdown",
      "metadata": {
        "id": "-Vkl79ngb2yo",
        "colab_type": "text"
      },
      "source": [
        "# Train, Validation, Test"
      ]
    },
    {
      "cell_type": "code",
      "metadata": {
        "id": "-vXwcZUvb69l",
        "colab_type": "code",
        "colab": {}
      },
      "source": [
        "def train(net, partition, optimizer, criterion, args):\n",
        "    trainloader = torch.utils.data.DataLoader(partition['train'], \n",
        "                                              batch_size=args.train_batch_size, \n",
        "                                              shuffle=True, num_workers=2)\n",
        "    net.train()  # train mode\n",
        "    optimizer.zero_grad()  # optimizer 초기화\n",
        "\n",
        "    correct = 0\n",
        "    total = 0\n",
        "    train_loss = 0.0\n",
        "    for i, data in enumerate(trainloader, 0):\n",
        "        # get the inputs\n",
        "        inputs, labels = data\n",
        "        # print('input dimension: ', inputs.shape)\n",
        "        # raise RuntimeError\n",
        "        # inputs = inputs.view(-1, 3072)\n",
        "        inputs = inputs.cuda()\n",
        "        labels = labels.cuda()\n",
        "        outputs = net(inputs)\n",
        "\n",
        "        loss = criterion(outputs, labels)\n",
        "        loss.backward()\n",
        "        optimizer.step()\n",
        "\n",
        "        train_loss += loss.item()\n",
        "        _, predicted = torch.max(outputs.data, 1)\n",
        "        total += labels.size(0)\n",
        "        correct += (predicted == labels).sum().item()\n",
        "\n",
        "    train_loss = train_loss / len(trainloader)\n",
        "    train_acc = 100 * correct / total\n",
        "    return net, train_loss, train_acc\n"
      ],
      "execution_count": 29,
      "outputs": []
    },
    {
      "cell_type": "code",
      "metadata": {
        "id": "_Nv4VaIFb7DS",
        "colab_type": "code",
        "colab": {}
      },
      "source": [
        "def validate(net, partition, criterion, args):\n",
        "    valloader = torch.utils.data.DataLoader(partition['val'], \n",
        "                                            batch_size=args.test_batch_size, \n",
        "                                            shuffle=False, num_workers=2)\n",
        "    net.eval()\n",
        "\n",
        "    correct = 0\n",
        "    total = 0\n",
        "    val_loss = 0 \n",
        "    with torch.no_grad():\n",
        "        for data in valloader:\n",
        "            images, labels = data\n",
        "            # images = images.view(-1, 3072)\n",
        "            images = images.cuda()\n",
        "            labels = labels.cuda()\n",
        "            outputs = net(images)\n",
        "\n",
        "            loss = criterion(outputs, labels)\n",
        "            \n",
        "            val_loss += loss.item()\n",
        "            _, predicted = torch.max(outputs.data, 1)\n",
        "            total += labels.size(0)\n",
        "            correct += (predicted == labels).sum().item()\n",
        "\n",
        "        val_loss = val_loss / len(valloader)\n",
        "        val_acc = 100 * correct / total\n",
        "    return val_loss, val_acc"
      ],
      "execution_count": 21,
      "outputs": []
    },
    {
      "cell_type": "code",
      "metadata": {
        "id": "codal0N7cPFR",
        "colab_type": "code",
        "colab": {}
      },
      "source": [
        "def test(net, partition, args):\n",
        "    testloader = torch.utils.data.DataLoader(partition['test'], \n",
        "                                             batch_size=args.test_batch_size, \n",
        "                                             shuffle=False, num_workers=2)\n",
        "    net.eval()\n",
        "    \n",
        "    correct = 0\n",
        "    total = 0\n",
        "    with torch.no_grad():\n",
        "        for data in testloader:\n",
        "            images, labels = data\n",
        "            # images = images.view(-1, 3072)\n",
        "            images = images.cuda()\n",
        "            labels = labels.cuda()\n",
        "\n",
        "            outputs = net(images)\n",
        "            _, predicted = torch.max(outputs.data, 1)\n",
        "            total += labels.size(0)\n",
        "            correct += (predicted == labels).sum().item()\n",
        "\n",
        "        test_acc = 100 * correct / total\n",
        "    return test_acc"
      ],
      "execution_count": 22,
      "outputs": []
    },
    {
      "cell_type": "code",
      "metadata": {
        "id": "dn_d10alcRpd",
        "colab_type": "code",
        "colab": {}
      },
      "source": [
        "def experiment(partition, args):\n",
        "\n",
        "    net = CNN(model_code = args.model_code,\n",
        "              in_channels = args.in_channels,\n",
        "              out_dim = args.out_dim,\n",
        "              act = args.act,\n",
        "              use_bn = args.use_bn)\n",
        "    net.cuda()\n",
        "\n",
        "    criterion = nn.CrossEntropyLoss()\n",
        "    if args.optim == 'SGD':\n",
        "        optimizer = optim.SGD(net.parameters(), lr=args.lr, weight_decay=args.l2)\n",
        "    elif args.optim == 'RMSprop':\n",
        "        optimizer = optim.RMSprop(net.parameters(), lr=args.lr, weight_decay=args.l2)\n",
        "    elif args.optim == 'Adam':\n",
        "        optimizer = optim.Adam(net.parameters(), lr=args.lr, weight_decay=args.l2)\n",
        "    else:\n",
        "        raise ValueError('In-valid optimizer choice')\n",
        "    \n",
        "    # ===== List for epoch-wise data ====== #\n",
        "    train_losses = []\n",
        "    val_losses = []\n",
        "    train_accs = []\n",
        "    val_accs = []\n",
        "    # ================= Training ==================== #\n",
        "        \n",
        "    for epoch in range(args.epoch):  # loop over the dataset multiple times\n",
        "        ts = time.time()\n",
        "        net, train_loss, train_acc = train(net, partition, optimizer, criterion, args)\n",
        "        val_loss, val_acc = validate(net, partition, criterion, args)\n",
        "        te = time.time()\n",
        "        \n",
        "        # ====== Add Epoch Data ====== #\n",
        "        train_losses.append(train_loss)\n",
        "        val_losses.append(val_loss)\n",
        "        train_accs.append(train_acc)\n",
        "        val_accs.append(val_acc)\n",
        "        # ============================ #\n",
        "        \n",
        "        print('Epoch {}, Acc(train/val): {:2.2f}/{:2.2f}, Loss(train/val) {:2.2f}/{:2.2f}. Took {:2.2f} sec'.format(epoch, train_acc, val_acc, train_loss, val_loss, te-ts))\n",
        "        \n",
        "    test_acc = test(net, partition, args)    \n",
        "    \n",
        "    # ======= Add Result to Dictionary ======= #\n",
        "    # 전체 결과값을 저장하는 Results Dic \n",
        "    # Q. 왜 때문인진 모르겠지만 train_accs와 train_acc가 분리되어있네?!\n",
        "        # train_acc와 val_acc은 없어도 되는거 아냐?\n",
        "    result = {}\n",
        "    result['train_losses'] = train_losses\n",
        "    result['val_losses'] = val_losses\n",
        "    result['train_accs'] = train_accs\n",
        "    result['val_accs'] = val_accs\n",
        "    # result['train_acc'] = train_acc\n",
        "    # result['val_acc'] = val_acc\n",
        "    result['test_acc'] = test_acc\n",
        "    return vars(args), result  # vars(args)를 해주면 args를 dic로 저장해준다\n",
        "    # ===================================== #"
      ],
      "execution_count": 56,
      "outputs": []
    },
    {
      "cell_type": "markdown",
      "metadata": {
        "id": "v9hujgiOcUyT",
        "colab_type": "text"
      },
      "source": [
        "# Manage Experiment"
      ]
    },
    {
      "cell_type": "code",
      "metadata": {
        "id": "lXYBtRc-b5KL",
        "colab_type": "code",
        "colab": {}
      },
      "source": [
        "import hashlib\n",
        "import json\n",
        "from os import listdir\n",
        "from os.path import isfile, join\n",
        "import pandas as pd\n",
        "\n",
        "def save_exp_result(setting, result):  # setting: args\n",
        "                                       # result : train_losses, val_losses, train_accs, val_accs,  \n",
        "    exp_name = setting['exp_name']\n",
        "    del setting['epoch']               # setting에서 'epoch'과 'test_batch_size'를 제거해준다고...\n",
        "    del setting['test_batch_size']     # 왜 떼는거지?\n",
        "\n",
        "    hash_key = hashlib.sha1(str(setting).encode()).hexdigest()[:6]  # setting에 따라 다른 파일명을 갖도록 만들어준다\n",
        "    filename = './results/{}-{}.json'.format(exp_name, hash_key)\n",
        "    result.update(setting)  # 결과 dictionary에 setting값을 더해준다 => Dic\n",
        "    with open(filename, 'w') as f:\n",
        "        json.dump(result, f)  # JSON 포멧으로 dictionary 값 저장\n",
        "\n",
        "    \n",
        "def load_exp_result(exp_name):\n",
        "    dir_path = './results'\n",
        "    filenames = [f for f in listdir(dir_path) if isfile(join(dir_path, f)) if '.json' in f]  # ./resuts에 저장되어있는 file들을 리스트 형태로 저장\n",
        "    list_result = []\n",
        "    for filename in filenames:\n",
        "        if exp_name in filename:\n",
        "            # print(exp_name)\n",
        "            with open(join(dir_path, filename), 'r') as infile:\n",
        "                results = json.load(infile)\n",
        "                list_result.append(results)  # Dic을 list형태로 저장\n",
        "    df = pd.DataFrame(list_result) # .drop(columns=[])\n",
        "    return df"
      ],
      "execution_count": 24,
      "outputs": []
    },
    {
      "cell_type": "markdown",
      "metadata": {
        "id": "qzDemSKOcbkf",
        "colab_type": "text"
      },
      "source": [
        "# Experiment"
      ]
    },
    {
      "cell_type": "code",
      "metadata": {
        "id": "Pce478VkcaAA",
        "colab_type": "code",
        "colab": {
          "base_uri": "https://localhost:8080/",
          "height": 829
        },
        "outputId": "6929a013-2989-49c6-ead8-e08e3a876cbd"
      },
      "source": [
        "# ====== Random Seed Initialization ====== #\n",
        "seed = 123  # 랜덤 시드값 초기화\n",
        "np.random.seed(seed)\n",
        "torch.manual_seed(seed)\n",
        "\n",
        "parser = argparse.ArgumentParser()\n",
        "args = parser.parse_args(\"\")\n",
        "args.exp_name = \"exp1_lr_model_code\"\n",
        "\n",
        "# ====== Model ====== #\n",
        "args.model_code ='VGG11'\n",
        "args.in_channels = 3\n",
        "args.out_dim = 10\n",
        "# args.hid_dim = 100\n",
        "args.act = 'relu'\n",
        "\n",
        "# ====== Regularization ======= #\n",
        "args.l2 = 0.00001\n",
        "args.use_bn = True\n",
        "\n",
        "# ====== Optimizer & Training ====== #\n",
        "args.optim = 'RMSprop' #'RMSprop' #SGD, RMSprop, ADAM...\n",
        "args.lr = 0.0015\n",
        "args.epoch = 10\n",
        "\n",
        "args.train_batch_size = 256\n",
        "args.test_batch_size = 1024\n",
        "\n",
        "# ====== Experiment Variable ====== #\n",
        "name_var1 = 'lr'\n",
        "name_var2 = 'model_code'\n",
        "list_var1 = [0.0001, 0.00001]\n",
        "list_var2 = ['VGG11', 'VGG13']\n",
        "\n",
        "\n",
        "for var1 in list_var1:\n",
        "    for var2 in list_var2:\n",
        "        # setattr ??: name_var1('n_layer')를 1, 2, 3으로 바꿔준다\n",
        "        # setattr = args.name_var1 = var1\n",
        "        setattr(args, name_var1, var1)\n",
        "        setattr(args, name_var2, var2)\n",
        "        print(args)\n",
        "                \n",
        "        setting, result = experiment(partition, deepcopy(args))\n",
        "        save_exp_result(setting, result)"
      ],
      "execution_count": 63,
      "outputs": [
        {
          "output_type": "stream",
          "text": [
            "Namespace(act='relu', epoch=10, exp_name='exp1_lr_model_code', in_channels=3, l2=1e-05, lr=0.0001, model_code='VGG11', optim='RMSprop', out_dim=10, test_batch_size=1024, train_batch_size=256, use_bn=True)\n",
            "Epoch 0, Acc(train/val): 36.81/40.79, Loss(train/val) 1.61/1.59. Took 6.35 sec\n",
            "Epoch 1, Acc(train/val): 50.55/56.51, Loss(train/val) 1.32/1.20. Took 6.39 sec\n",
            "Epoch 2, Acc(train/val): 59.73/57.26, Loss(train/val) 1.10/1.17. Took 6.27 sec\n",
            "Epoch 3, Acc(train/val): 65.94/65.78, Loss(train/val) 0.94/0.95. Took 6.39 sec\n",
            "Epoch 4, Acc(train/val): 70.00/66.35, Loss(train/val) 0.83/0.94. Took 6.49 sec\n",
            "Epoch 5, Acc(train/val): 73.29/69.64, Loss(train/val) 0.74/0.89. Took 6.43 sec\n",
            "Epoch 6, Acc(train/val): 76.93/71.79, Loss(train/val) 0.65/0.81. Took 6.52 sec\n",
            "Epoch 7, Acc(train/val): 79.85/70.10, Loss(train/val) 0.58/0.89. Took 6.58 sec\n",
            "Epoch 8, Acc(train/val): 82.00/73.20, Loss(train/val) 0.52/0.83. Took 6.52 sec\n",
            "Epoch 9, Acc(train/val): 84.08/76.40, Loss(train/val) 0.47/0.72. Took 6.45 sec\n",
            "Namespace(act='relu', epoch=10, exp_name='exp1_lr_model_code', in_channels=3, l2=1e-05, lr=0.0001, model_code='VGG13', optim='RMSprop', out_dim=10, test_batch_size=1024, train_batch_size=256, use_bn=True)\n",
            "Epoch 0, Acc(train/val): 36.09/45.32, Loss(train/val) 1.63/1.52. Took 7.02 sec\n",
            "Epoch 1, Acc(train/val): 52.38/56.40, Loss(train/val) 1.27/1.21. Took 7.27 sec\n",
            "Epoch 2, Acc(train/val): 61.17/63.32, Loss(train/val) 1.06/1.02. Took 7.09 sec\n",
            "Epoch 3, Acc(train/val): 67.02/66.17, Loss(train/val) 0.91/0.98. Took 7.10 sec\n",
            "Epoch 4, Acc(train/val): 71.91/68.25, Loss(train/val) 0.79/0.96. Took 7.13 sec\n",
            "Epoch 5, Acc(train/val): 75.16/68.30, Loss(train/val) 0.71/0.95. Took 7.20 sec\n",
            "Epoch 6, Acc(train/val): 78.33/65.54, Loss(train/val) 0.63/1.04. Took 7.13 sec\n",
            "Epoch 7, Acc(train/val): 80.75/75.74, Loss(train/val) 0.56/0.72. Took 7.07 sec\n",
            "Epoch 8, Acc(train/val): 82.74/74.37, Loss(train/val) 0.50/0.77. Took 7.12 sec\n",
            "Epoch 9, Acc(train/val): 85.15/77.36, Loss(train/val) 0.44/0.68. Took 7.35 sec\n",
            "Namespace(act='relu', epoch=10, exp_name='exp1_lr_model_code', in_channels=3, l2=1e-05, lr=1e-05, model_code='VGG11', optim='RMSprop', out_dim=10, test_batch_size=1024, train_batch_size=256, use_bn=True)\n",
            "Epoch 0, Acc(train/val): 52.62/60.08, Loss(train/val) 1.30/1.13. Took 6.61 sec\n",
            "Epoch 1, Acc(train/val): 66.92/66.53, Loss(train/val) 0.93/0.94. Took 6.38 sec\n",
            "Epoch 2, Acc(train/val): 74.26/69.81, Loss(train/val) 0.74/0.87. Took 6.47 sec\n",
            "Epoch 3, Acc(train/val): 80.03/70.05, Loss(train/val) 0.57/0.89. Took 6.66 sec\n",
            "Epoch 4, Acc(train/val): 85.59/69.52, Loss(train/val) 0.42/0.94. Took 6.53 sec\n",
            "Epoch 5, Acc(train/val): 89.69/72.06, Loss(train/val) 0.30/0.92. Took 6.38 sec\n",
            "Epoch 6, Acc(train/val): 92.79/70.12, Loss(train/val) 0.21/1.10. Took 6.36 sec\n",
            "Epoch 7, Acc(train/val): 94.67/72.27, Loss(train/val) 0.16/1.06. Took 6.57 sec\n",
            "Epoch 8, Acc(train/val): 95.25/71.36, Loss(train/val) 0.14/1.15. Took 6.47 sec\n",
            "Epoch 9, Acc(train/val): 96.27/70.90, Loss(train/val) 0.11/1.32. Took 6.50 sec\n",
            "Namespace(act='relu', epoch=10, exp_name='exp1_lr_model_code', in_channels=3, l2=1e-05, lr=1e-05, model_code='VGG13', optim='RMSprop', out_dim=10, test_batch_size=1024, train_batch_size=256, use_bn=True)\n",
            "Epoch 0, Acc(train/val): 52.06/62.21, Loss(train/val) 1.32/1.07. Took 7.16 sec\n",
            "Epoch 1, Acc(train/val): 66.73/66.10, Loss(train/val) 0.92/0.94. Took 7.31 sec\n",
            "Epoch 2, Acc(train/val): 74.10/69.47, Loss(train/val) 0.73/0.87. Took 7.22 sec\n",
            "Epoch 3, Acc(train/val): 80.41/72.08, Loss(train/val) 0.56/0.83. Took 7.24 sec\n",
            "Epoch 4, Acc(train/val): 85.24/72.49, Loss(train/val) 0.43/0.83. Took 7.07 sec\n",
            "Epoch 5, Acc(train/val): 89.76/72.49, Loss(train/val) 0.30/0.89. Took 7.17 sec\n",
            "Epoch 6, Acc(train/val): 92.94/69.20, Loss(train/val) 0.21/1.17. Took 7.12 sec\n",
            "Epoch 7, Acc(train/val): 94.83/71.94, Loss(train/val) 0.15/1.11. Took 7.19 sec\n",
            "Epoch 8, Acc(train/val): 95.26/71.34, Loss(train/val) 0.14/1.22. Took 6.99 sec\n",
            "Epoch 9, Acc(train/val): 95.97/73.82, Loss(train/val) 0.11/1.16. Took 7.18 sec\n"
          ],
          "name": "stdout"
        }
      ]
    },
    {
      "cell_type": "markdown",
      "metadata": {
        "id": "9i6fWgmDouQh",
        "colab_type": "text"
      },
      "source": [
        "## 결과 Report 및 시각화"
      ]
    },
    {
      "cell_type": "code",
      "metadata": {
        "id": "hSCNXhixi88I",
        "colab_type": "code",
        "colab": {
          "base_uri": "https://localhost:8080/",
          "height": 407
        },
        "outputId": "f0b5c9b3-72ed-44eb-a47a-817b823fd9af"
      },
      "source": [
        "import seaborn as sns \n",
        "import matplotlib.pyplot as plt\n",
        "\n",
        "df = load_exp_result('exp1')\n",
        "\n",
        "fig, ax = plt.subplots(1, 3)\n",
        "fig.set_size_inches(15, 6)\n",
        "sns.set_style(\"darkgrid\", {\"axes.facecolor\": \".9\"})\n",
        "\n",
        "sns.barplot(x='lr', y='test_acc', hue='model_code', data=df, ax=ax[0])\n",
        "sns.barplot(x='lr', y='test_acc', hue='model_code', data=df, ax=ax[1])\n",
        "sns.barplot(x='lr', y='test_acc', hue='model_code', data=df, ax=ax[2])"
      ],
      "execution_count": 66,
      "outputs": [
        {
          "output_type": "execute_result",
          "data": {
            "text/plain": [
              "<matplotlib.axes._subplots.AxesSubplot at 0x7f94df81af60>"
            ]
          },
          "metadata": {
            "tags": []
          },
          "execution_count": 66
        },
        {
          "output_type": "display_data",
          "data": {
            "image/png": "[encoded data removed]",
            "text/plain": [
              "<Figure size 1080x432 with 3 Axes>"
            ]
          },
          "metadata": {
            "tags": []
          }
        }
      ]
    },
    {
      "cell_type": "code",
      "metadata": {
        "id": "pAjGuBESpRyH",
        "colab_type": "code",
        "colab": {
          "base_uri": "https://localhost:8080/",
          "height": 443
        },
        "outputId": "7355e7ac-acaa-40e7-9bdd-a5bb9a2bcc84"
      },
      "source": [
        "var1 = 'lr'\n",
        "var2 = 'model_code'\n",
        "\n",
        "df = load_exp_result('exp1')\n",
        "list_v1 = df[var1].unique()\n",
        "list_v2 = df[var2].unique()\n",
        "list_data = []\n",
        "\n",
        "for value1 in list_v1:\n",
        "    for value2 in list_v2:\n",
        "        row = df.loc[df[var1]==value1]\n",
        "        row = row.loc[df[var2]==value2]\n",
        "        \n",
        "        train_accs = list(row.train_accs)[0]\n",
        "        val_accs = list(row.val_accs)[0]\n",
        "        test_acc = list(row.test_acc)[0]\n",
        "        \n",
        "        for epoch, train_acc in enumerate(train_accs):\n",
        "            list_data.append({'type':'train', 'Acc':train_acc, 'test_acc':test_acc, 'epoch':epoch, var1:value1, var2:value2})\n",
        "        for epoch, val_acc in enumerate(val_accs):\n",
        "            list_data.append({'type':'val', 'Acc':val_acc, 'test_acc':test_acc, 'epoch':epoch, var1:value1, var2:value2})\n",
        "        \n",
        "df = pd.DataFrame(list_data)\n",
        "g = sns.FacetGrid(df, row=var2, col=var1, hue='type', margin_titles=True, sharey=False)\n",
        "g = g.map(plt.plot, 'epoch', 'Acc', marker='.')\n",
        "\n",
        "def show_acc(x, y, metric, **kwargs):\n",
        "    plt.scatter(x, y, alpha=0.3, s=1)\n",
        "    metric = \"Test Acc: {:1.3f}\".format(list(metric.values)[0])\n",
        "    plt.text(0.05, 0.95, metric,  horizontalalignment='left', verticalalignment='center', transform=plt.gca().transAxes, bbox=dict(facecolor='yellow', alpha=0.5, boxstyle=\"round,pad=0.1\"))\n",
        "g = g.map(show_acc, 'epoch', 'Acc', 'test_acc')\n",
        "\n",
        "g.add_legend()\n",
        "g.fig.suptitle('Train Accuracy vs Val Accuracy')\n",
        "\n",
        "\n",
        "\n",
        "plt.subplots_adjust(top=0.89)"
      ],
      "execution_count": 67,
      "outputs": [
        {
          "output_type": "display_data",
          "data": {
            "image/png": "[encoded data removed]",
            "text/plain": [
              "<Figure size 491.375x432 with 4 Axes>"
            ]
          },
          "metadata": {
            "tags": []
          }
        }
      ]
    },
    {
      "cell_type": "code",
      "metadata": {
        "id": "GgkfO8chqDRK",
        "colab_type": "code",
        "colab": {}
      },
      "source": [
        ""
      ],
      "execution_count": null,
      "outputs": []
    }
  ]
}